{
 "cells": [
  {
   "cell_type": "code",
   "execution_count": 1,
   "id": "043f2326-8fdf-4f3f-9630-5955d48ae4a2",
   "metadata": {},
   "outputs": [],
   "source": [
    "import numpy as np\n",
    "import matplotlib.pyplot as plt\n",
    "import pandas as pd\n",
    "import sklearn\n",
    "from IPython.display import display"
   ]
  },
  {
   "cell_type": "code",
   "execution_count": 6,
   "id": "4c44852e-d526-4437-82e7-6c5f0c1169b7",
   "metadata": {
    "tags": []
   },
   "outputs": [
    {
     "data": {
      "text/html": [
       "<div>\n",
       "<style scoped>\n",
       "    .dataframe tbody tr th:only-of-type {\n",
       "        vertical-align: middle;\n",
       "    }\n",
       "\n",
       "    .dataframe tbody tr th {\n",
       "        vertical-align: top;\n",
       "    }\n",
       "\n",
       "    .dataframe thead th {\n",
       "        text-align: right;\n",
       "    }\n",
       "</style>\n",
       "<table border=\"1\" class=\"dataframe\">\n",
       "  <thead>\n",
       "    <tr style=\"text-align: right;\">\n",
       "      <th></th>\n",
       "      <th>Unnamed: 0</th>\n",
       "      <th>text</th>\n",
       "      <th>label</th>\n",
       "    </tr>\n",
       "  </thead>\n",
       "  <tbody>\n",
       "    <tr>\n",
       "      <th>0</th>\n",
       "      <td>0</td>\n",
       "      <td>i just feel really helpless and heavy hearted</td>\n",
       "      <td>4</td>\n",
       "    </tr>\n",
       "    <tr>\n",
       "      <th>1</th>\n",
       "      <td>1</td>\n",
       "      <td>ive enjoyed being able to slouch about relax a...</td>\n",
       "      <td>0</td>\n",
       "    </tr>\n",
       "    <tr>\n",
       "      <th>2</th>\n",
       "      <td>2</td>\n",
       "      <td>i gave up my internship with the dmrg and am f...</td>\n",
       "      <td>4</td>\n",
       "    </tr>\n",
       "    <tr>\n",
       "      <th>3</th>\n",
       "      <td>3</td>\n",
       "      <td>i dont know i feel so lost</td>\n",
       "      <td>0</td>\n",
       "    </tr>\n",
       "    <tr>\n",
       "      <th>4</th>\n",
       "      <td>4</td>\n",
       "      <td>i am a kindergarten teacher and i am thoroughl...</td>\n",
       "      <td>4</td>\n",
       "    </tr>\n",
       "    <tr>\n",
       "      <th>...</th>\n",
       "      <td>...</td>\n",
       "      <td>...</td>\n",
       "      <td>...</td>\n",
       "    </tr>\n",
       "    <tr>\n",
       "      <th>995</th>\n",
       "      <td>995</td>\n",
       "      <td>i would have stuck around but i was feeling so...</td>\n",
       "      <td>1</td>\n",
       "    </tr>\n",
       "    <tr>\n",
       "      <th>996</th>\n",
       "      <td>996</td>\n",
       "      <td>i feel like im her stubborn client though i al...</td>\n",
       "      <td>3</td>\n",
       "    </tr>\n",
       "    <tr>\n",
       "      <th>997</th>\n",
       "      <td>997</td>\n",
       "      <td>i just get caught up in the fun of the night a...</td>\n",
       "      <td>0</td>\n",
       "    </tr>\n",
       "    <tr>\n",
       "      <th>998</th>\n",
       "      <td>998</td>\n",
       "      <td>i can not help but feel a little bit resentful</td>\n",
       "      <td>3</td>\n",
       "    </tr>\n",
       "    <tr>\n",
       "      <th>999</th>\n",
       "      <td>999</td>\n",
       "      <td>i feel totally foolish for trying to talk her ...</td>\n",
       "      <td>0</td>\n",
       "    </tr>\n",
       "  </tbody>\n",
       "</table>\n",
       "<p>1000 rows × 3 columns</p>\n",
       "</div>"
      ],
      "text/plain": [
       "     Unnamed: 0                                               text  label\n",
       "0             0      i just feel really helpless and heavy hearted      4\n",
       "1             1  ive enjoyed being able to slouch about relax a...      0\n",
       "2             2  i gave up my internship with the dmrg and am f...      4\n",
       "3             3                         i dont know i feel so lost      0\n",
       "4             4  i am a kindergarten teacher and i am thoroughl...      4\n",
       "..          ...                                                ...    ...\n",
       "995         995  i would have stuck around but i was feeling so...      1\n",
       "996         996  i feel like im her stubborn client though i al...      3\n",
       "997         997  i just get caught up in the fun of the night a...      0\n",
       "998         998     i can not help but feel a little bit resentful      3\n",
       "999         999  i feel totally foolish for trying to talk her ...      0\n",
       "\n",
       "[1000 rows x 3 columns]"
      ]
     },
     "execution_count": 6,
     "metadata": {},
     "output_type": "execute_result"
    }
   ],
   "source": [
    "df=pd.read_csv('text.csv')\n",
    "df2=df.copy()\n",
    "df2=df2.head(1000)\n",
    "\n",
    "# data0=df5.loc[df2['label']==0].head(1000)\n",
    "# data1=df5.loc[df2['label']==1].head(1000)\n",
    "# data2=df.loc[df2['label']==2].head(1000)\n",
    "# data3=df2.loc[df2['label']==3].head(1000)\n",
    "# data4=df2.loc[df2['label']==4].head(1000)\n",
    "# data5=df2.loc[df2['label']==5].head(1000)\n",
    "# df2=pd.concat([data0,data1,data2,data3,data4,data5], axis=0)\n",
    "df2"
   ]
  },
  {
   "cell_type": "code",
   "execution_count": 7,
   "id": "470f667d-dec7-4263-a908-30dbfdb0b77f",
   "metadata": {},
   "outputs": [],
   "source": [
    "df2['text'] = df2['text'].str.split(' ',)\n",
    "#df2"
   ]
  },
  {
   "cell_type": "code",
   "execution_count": 8,
   "id": "004fea4b-bfc0-481b-98d0-ed23e17f7013",
   "metadata": {
    "tags": []
   },
   "outputs": [
    {
     "name": "stderr",
     "output_type": "stream",
     "text": [
      "C:\\Users\\cypri\\anaconda3\\Lib\\site-packages\\sklearn\\feature_extraction\\text.py:525: UserWarning: The parameter 'token_pattern' will not be used since 'tokenizer' is not None'\n",
      "  warnings.warn(\n"
     ]
    }
   ],
   "source": [
    "from sklearn.feature_extraction.text import CountVectorizer\n",
    "vectorizer = CountVectorizer(lowercase=False, tokenizer=lambda x: x, preprocessor=lambda x: x)\n",
    "\n",
    "X = vectorizer.fit_transform(df2['text'])\n",
    "\n",
    "df_encoded = pd.DataFrame(X.toarray(), columns=vectorizer.get_feature_names_out())\n",
    "\n",
    "#print(df_encoded.head(5))"
   ]
  },
  {
   "cell_type": "code",
   "execution_count": 9,
   "id": "87a10145-0b42-460c-a668-83ee01f5d695",
   "metadata": {},
   "outputs": [],
   "source": [
    "df_concatenated = pd.concat([df_encoded, df2['label']], axis=1)\n",
    "#print(df_concatenated)\n",
    "#print(df_concatenated['label'].loc[df_concatenated['label']>=5])"
   ]
  },
  {
   "cell_type": "code",
   "execution_count": 10,
   "id": "4adde349-3609-4d85-8ef1-3d0b9d8bd592",
   "metadata": {
    "tags": []
   },
   "outputs": [
    {
     "name": "stdout",
     "output_type": "stream",
     "text": [
      "WARNING:tensorflow:From C:\\Users\\cypri\\anaconda3\\Lib\\site-packages\\keras\\src\\backend.py:873: The name tf.get_default_graph is deprecated. Please use tf.compat.v1.get_default_graph instead.\n",
      "\n",
      "WARNING:tensorflow:From C:\\Users\\cypri\\anaconda3\\Lib\\site-packages\\keras\\src\\optimizers\\__init__.py:309: The name tf.train.Optimizer is deprecated. Please use tf.compat.v1.train.Optimizer instead.\n",
      "\n",
      "Epoch 1/100\n",
      "WARNING:tensorflow:From C:\\Users\\cypri\\anaconda3\\Lib\\site-packages\\keras\\src\\utils\\tf_utils.py:492: The name tf.ragged.RaggedTensorValue is deprecated. Please use tf.compat.v1.ragged.RaggedTensorValue instead.\n",
      "\n",
      "WARNING:tensorflow:From C:\\Users\\cypri\\anaconda3\\Lib\\site-packages\\keras\\src\\engine\\base_layer_utils.py:384: The name tf.executing_eagerly_outside_functions is deprecated. Please use tf.compat.v1.executing_eagerly_outside_functions instead.\n",
      "\n",
      "7/7 [==============================] - 2s 72ms/step - loss: 1.7709 - accuracy: 0.2100 - val_loss: 1.7257 - val_accuracy: 0.3262\n",
      "Epoch 2/100\n",
      "7/7 [==============================] - 0s 32ms/step - loss: 1.5860 - accuracy: 0.4900 - val_loss: 1.6587 - val_accuracy: 0.3475\n",
      "Epoch 3/100\n",
      "7/7 [==============================] - 0s 31ms/step - loss: 1.4180 - accuracy: 0.5450 - val_loss: 1.6175 - val_accuracy: 0.3812\n",
      "Epoch 4/100\n",
      "7/7 [==============================] - 0s 28ms/step - loss: 1.2357 - accuracy: 0.6250 - val_loss: 1.5953 - val_accuracy: 0.3725\n",
      "Epoch 5/100\n",
      "7/7 [==============================] - 0s 31ms/step - loss: 1.0527 - accuracy: 0.7000 - val_loss: 1.5899 - val_accuracy: 0.3638\n",
      "Epoch 6/100\n",
      "7/7 [==============================] - 0s 32ms/step - loss: 0.8695 - accuracy: 0.8200 - val_loss: 1.5914 - val_accuracy: 0.3762\n",
      "Epoch 7/100\n",
      "7/7 [==============================] - 0s 37ms/step - loss: 0.6946 - accuracy: 0.8900 - val_loss: 1.5955 - val_accuracy: 0.3787\n",
      "Epoch 8/100\n",
      "7/7 [==============================] - 0s 34ms/step - loss: 0.5366 - accuracy: 0.9200 - val_loss: 1.6057 - val_accuracy: 0.3800\n",
      "Epoch 9/100\n",
      "7/7 [==============================] - 0s 32ms/step - loss: 0.4025 - accuracy: 0.9500 - val_loss: 1.6321 - val_accuracy: 0.3775\n",
      "Epoch 10/100\n",
      "7/7 [==============================] - 0s 29ms/step - loss: 0.2996 - accuracy: 0.9650 - val_loss: 1.6596 - val_accuracy: 0.3738\n",
      "Epoch 11/100\n",
      "7/7 [==============================] - 0s 25ms/step - loss: 0.2219 - accuracy: 0.9850 - val_loss: 1.6944 - val_accuracy: 0.3837\n",
      "Epoch 12/100\n",
      "7/7 [==============================] - 0s 25ms/step - loss: 0.1668 - accuracy: 0.9900 - val_loss: 1.7311 - val_accuracy: 0.3837\n",
      "Epoch 13/100\n",
      "7/7 [==============================] - 0s 30ms/step - loss: 0.1238 - accuracy: 0.9950 - val_loss: 1.7676 - val_accuracy: 0.3887\n",
      "Epoch 14/100\n",
      "7/7 [==============================] - 0s 30ms/step - loss: 0.0957 - accuracy: 0.9950 - val_loss: 1.7919 - val_accuracy: 0.3875\n",
      "Epoch 15/100\n",
      "6/7 [========================>.....] - ETA: 0s - loss: 0.0756 - accuracy: 1.0000Restoring model weights from the end of the best epoch: 5.\n",
      "7/7 [==============================] - 0s 28ms/step - loss: 0.0738 - accuracy: 1.0000 - val_loss: 1.8202 - val_accuracy: 0.3837\n",
      "Epoch 15: early stopping\n",
      "25/25 [==============================] - 0s 3ms/step - loss: 1.5899 - accuracy: 0.3638\n",
      "Test accuracy: 0.36375001072883606\n"
     ]
    }
   ],
   "source": [
    "\n",
    "import numpy as np\n",
    "import tensorflow as tf\n",
    "tf.__version__\n",
    "from tensorflow.keras.models import Sequential\n",
    "from tensorflow.keras.layers import Dense, Flatten\n",
    "from tensorflow.keras.datasets import mnist\n",
    "from tensorflow.keras.utils import to_categorical\n",
    "from tensorflow.keras.callbacks import EarlyStopping\n",
    "\n",
    "#(train_data, train_labels), (test_data, test_labels) = df_concatenated.load_data()\n",
    "#print(train_data)\n",
    "#print(test_labels)\n",
    "\n",
    "#train_labels_one_hot = to_categorical(train_labels, num_classes=6)\n",
    "#test_labels_one_hot = to_categorical(test_labels, num_classes=6)\n",
    "\n",
    "#train_data = df_encoded.head(800)\n",
    "#train_labels = df2['label'].head(800)\n",
    "#test_data = df_encoded[800:999]\n",
    "#test_labels = df2['label'][800:999]\n",
    "\n",
    "#train_data_np = train_data.to_numpy().astype('float32')\n",
    "#train_labels_np = to_categorical(train_labels.to_numpy())\n",
    "#train_labels_np = tf.keras.utils.to_categorical(train_labels_np, num_classes=6)\n",
    "#test_data_np = test_data.to_numpy().astype('float32')\n",
    "#test_labels_np = to_categorical(test_labels.to_numpy())\n",
    "#test_labels_np = tf.keras.utils.to_categorical(test_labels_np, num_classes=6)\n",
    "\n",
    "X_test = df_concatenated.head(800).iloc[:, :-1].values\n",
    "y_test = df_concatenated.head(800).iloc[:, -1].values\n",
    "X_train = df_concatenated[800:].iloc[:, :-1].values\n",
    "y_train = df_concatenated[800:].iloc[:, -1].values\n",
    "\n",
    "y_train_one_hot = to_categorical(y_train)\n",
    "y_test_one_hot = to_categorical(y_test)\n",
    "\n",
    "#print(X_test[-1].shape)\n",
    "\n",
    "\n",
    "model = Sequential([\n",
    "    Flatten(),\n",
    "    Dense(128, activation='relu'),\n",
    "    Dense(64, activation='relu'), \n",
    "    Dense(6, activation='softmax')\n",
    "])\n",
    "\n",
    "model.compile(optimizer='adam',\n",
    "              loss='categorical_crossentropy',\n",
    "              metrics=['accuracy'])\n",
    "\n",
    "\n",
    "# Configuration de EarlyStopping\n",
    "early_stopping = EarlyStopping(\n",
    "    monitor='val_loss',  # La métrique à surveiller\n",
    "    patience=10,         # Nombre d'époques sans amélioration après lesquelles l'entraînement sera stoppé\n",
    "    verbose=1,           # Afficher des messages lorsque l'entraînement est interrompu\n",
    "    restore_best_weights=True  # Restaurer les poids du modèle depuis l'époque avec la meilleure valeur de la métrique surveillée\n",
    ")\n",
    "\n",
    "history = model.fit(\n",
    "    X_train, y_train_one_hot,\n",
    "    validation_data=(X_test, y_test_one_hot),\n",
    "    epochs=100,\n",
    "    callbacks=[early_stopping]\n",
    ")\n",
    "\n",
    "\n",
    "# model.fit(X_train, y_train_one_hot, epochs=3, batch_size=32)\n",
    "\n",
    "test_loss, test_acc = model.evaluate(X_test, y_test_one_hot, batch_size=32)\n",
    "\n",
    "print(f'Test accuracy: {test_acc}')\n"
   ]
  },
  {
   "cell_type": "code",
   "execution_count": 11,
   "id": "adfed180-2e77-4e98-b6d1-9fab91e224b9",
   "metadata": {},
   "outputs": [],
   "source": [
    "model.save('modele_trained.keras') "
   ]
  },
  {
   "cell_type": "code",
   "execution_count": 12,
   "id": "0d6c01b0-9841-44c4-b054-d262f987f19c",
   "metadata": {},
   "outputs": [],
   "source": [
    "from tensorflow.keras.models import load_model\n",
    "modele_charge = load_model('modele_trained.keras')"
   ]
  },
  {
   "cell_type": "code",
   "execution_count": 13,
   "id": "f73459bc-92f3-48f7-86b2-3becffb7d76a",
   "metadata": {
    "tags": []
   },
   "outputs": [],
   "source": [
    "#df3=df.copy().head(1000)\n",
    "\n",
    "#def transf_en_hot(texte):\n",
    "    #texte_sep=[texte.split(' ',)]\n",
    "    #print(texte_sep)\n",
    "    #texte_df = pd.DataFrame([texte_sep])\n",
    "    #print(texte_df)\n",
    "    #df3=df.copy().head(1000)\n",
    "    #df3['text'] = df3['text'].str.split(' ',)\n",
    "    #df_total=pd.concat([df3['text'], texte_df], axis=0)\n",
    "    #print(df_total)\n",
    "    #df_total_vect = vectorizer.fit_transform(df_total[0])\n",
    "    #print(df_total_vect)\n",
    "    #df_total_encoded = pd.DataFrame(df_total_vect.toarray(), columns=vectorizer.get_feature_names_out())\n",
    "    #print(df_total_encoded)\n",
    "    #return(df_total_encoded.iloc[-1].values)\n",
    "\n",
    "def transf(texte,vectorizer):\n",
    "    texte_preprocessed = [texte]  # Appliquez votre logique de tokenisation/prétraitement si nécessaire\n",
    "    texte_vect = vectorizer.transform(texte_preprocessed)\n",
    "    return texte_vect.toarray()\n",
    "\n"
   ]
  },
  {
   "cell_type": "code",
   "execution_count": 22,
   "id": "3bd92a59-ac91-4556-866b-81c8cb6284f0",
   "metadata": {
    "tags": []
   },
   "outputs": [
    {
     "name": "stdout",
     "output_type": "stream",
     "text": [
      "1/1 [==============================] - 0s 30ms/step\n",
      "[[0.19379048 0.78221744 0.00626643 0.00356336 0.00926463 0.00489763]]\n",
      "[1]\n"
     ]
    }
   ],
   "source": [
    "prediction = modele_charge.predict(transf('i dont know i feel so lost',vectorizer))\n",
    "print(prediction)\n",
    "classe_predite = np.argmax(prediction, axis=1)\n",
    "print(classe_predite)\n"
   ]
  },
  {
   "cell_type": "code",
   "execution_count": null,
   "id": "4b635fd5-5e61-44c1-8613-4b706e1d4cdb",
   "metadata": {},
   "outputs": [],
   "source": []
  },
  {
   "cell_type": "code",
   "execution_count": null,
   "id": "c2bf0c69-9418-4bbb-8579-d56f6a5be854",
   "metadata": {},
   "outputs": [],
   "source": []
  },
  {
   "cell_type": "code",
   "execution_count": null,
   "id": "ede3b954-1cb7-483e-aa58-0f946540c49b",
   "metadata": {},
   "outputs": [],
   "source": []
  }
 ],
 "metadata": {
  "kernelspec": {
   "display_name": "Python 3 (ipykernel)",
   "language": "python",
   "name": "python3"
  },
  "language_info": {
   "codemirror_mode": {
    "name": "ipython",
    "version": 3
   },
   "file_extension": ".py",
   "mimetype": "text/x-python",
   "name": "python",
   "nbconvert_exporter": "python",
   "pygments_lexer": "ipython3",
   "version": "3.11.5"
  }
 },
 "nbformat": 4,
 "nbformat_minor": 5
}

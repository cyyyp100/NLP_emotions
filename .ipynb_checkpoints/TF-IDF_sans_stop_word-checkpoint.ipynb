{
 "cells": [
  {
   "cell_type": "code",
   "execution_count": 85,
   "id": "963b12c5",
   "metadata": {},
   "outputs": [],
   "source": [
    "import numpy as np\n",
    "import matplotlib.pyplot as plt\n",
    "import pandas as pd\n",
    "import sklearn"
   ]
  },
  {
   "cell_type": "code",
   "execution_count": 86,
   "id": "8dd5ba47",
   "metadata": {},
   "outputs": [
    {
     "data": {
      "text/html": [
       "<div>\n",
       "<style scoped>\n",
       "    .dataframe tbody tr th:only-of-type {\n",
       "        vertical-align: middle;\n",
       "    }\n",
       "\n",
       "    .dataframe tbody tr th {\n",
       "        vertical-align: top;\n",
       "    }\n",
       "\n",
       "    .dataframe thead th {\n",
       "        text-align: right;\n",
       "    }\n",
       "</style>\n",
       "<table border=\"1\" class=\"dataframe\">\n",
       "  <thead>\n",
       "    <tr style=\"text-align: right;\">\n",
       "      <th></th>\n",
       "      <th>Unnamed: 0</th>\n",
       "      <th>text</th>\n",
       "      <th>label</th>\n",
       "    </tr>\n",
       "  </thead>\n",
       "  <tbody>\n",
       "    <tr>\n",
       "      <th>0</th>\n",
       "      <td>0</td>\n",
       "      <td>i just feel really helpless and heavy hearted</td>\n",
       "      <td>4</td>\n",
       "    </tr>\n",
       "    <tr>\n",
       "      <th>1</th>\n",
       "      <td>1</td>\n",
       "      <td>ive enjoyed being able to slouch about relax a...</td>\n",
       "      <td>0</td>\n",
       "    </tr>\n",
       "    <tr>\n",
       "      <th>2</th>\n",
       "      <td>2</td>\n",
       "      <td>i gave up my internship with the dmrg and am f...</td>\n",
       "      <td>4</td>\n",
       "    </tr>\n",
       "    <tr>\n",
       "      <th>3</th>\n",
       "      <td>3</td>\n",
       "      <td>i dont know i feel so lost</td>\n",
       "      <td>0</td>\n",
       "    </tr>\n",
       "    <tr>\n",
       "      <th>4</th>\n",
       "      <td>4</td>\n",
       "      <td>i am a kindergarten teacher and i am thoroughl...</td>\n",
       "      <td>4</td>\n",
       "    </tr>\n",
       "    <tr>\n",
       "      <th>...</th>\n",
       "      <td>...</td>\n",
       "      <td>...</td>\n",
       "      <td>...</td>\n",
       "    </tr>\n",
       "    <tr>\n",
       "      <th>10995</th>\n",
       "      <td>10995</td>\n",
       "      <td>i know how rare and special of a blessing this...</td>\n",
       "      <td>0</td>\n",
       "    </tr>\n",
       "    <tr>\n",
       "      <th>10996</th>\n",
       "      <td>10996</td>\n",
       "      <td>i feel really rude and ignorant for not unders...</td>\n",
       "      <td>3</td>\n",
       "    </tr>\n",
       "    <tr>\n",
       "      <th>10997</th>\n",
       "      <td>10997</td>\n",
       "      <td>i feel passionate about what i do but in no wa...</td>\n",
       "      <td>2</td>\n",
       "    </tr>\n",
       "    <tr>\n",
       "      <th>10998</th>\n",
       "      <td>10998</td>\n",
       "      <td>i am afraid to feel humiliated to see people w...</td>\n",
       "      <td>0</td>\n",
       "    </tr>\n",
       "    <tr>\n",
       "      <th>10999</th>\n",
       "      <td>10999</td>\n",
       "      <td>i can do without but some it just kills me to ...</td>\n",
       "      <td>0</td>\n",
       "    </tr>\n",
       "  </tbody>\n",
       "</table>\n",
       "<p>11000 rows × 3 columns</p>\n",
       "</div>"
      ],
      "text/plain": [
       "       Unnamed: 0                                               text  label\n",
       "0               0      i just feel really helpless and heavy hearted      4\n",
       "1               1  ive enjoyed being able to slouch about relax a...      0\n",
       "2               2  i gave up my internship with the dmrg and am f...      4\n",
       "3               3                         i dont know i feel so lost      0\n",
       "4               4  i am a kindergarten teacher and i am thoroughl...      4\n",
       "...           ...                                                ...    ...\n",
       "10995       10995  i know how rare and special of a blessing this...      0\n",
       "10996       10996  i feel really rude and ignorant for not unders...      3\n",
       "10997       10997  i feel passionate about what i do but in no wa...      2\n",
       "10998       10998  i am afraid to feel humiliated to see people w...      0\n",
       "10999       10999  i can do without but some it just kills me to ...      0\n",
       "\n",
       "[11000 rows x 3 columns]"
      ]
     },
     "execution_count": 86,
     "metadata": {},
     "output_type": "execute_result"
    }
   ],
   "source": [
    "#df=pd.read_csv(\"text.csv\")\n",
    "df=pd.read_csv(\"text.csv\").head(11000)\n",
    "df"
   ]
  },
  {
   "cell_type": "code",
   "execution_count": 87,
   "id": "05c44860",
   "metadata": {},
   "outputs": [
    {
     "data": {
      "text/plain": [
       "0            i just feel really helpless and heavy hearted\n",
       "1        ive enjoyed being able to slouch about relax a...\n",
       "2        i gave up my internship with the dmrg and am f...\n",
       "3                               i dont know i feel so lost\n",
       "4        i am a kindergarten teacher and i am thoroughl...\n",
       "                               ...                        \n",
       "10995    i know how rare and special of a blessing this...\n",
       "10996    i feel really rude and ignorant for not unders...\n",
       "10997    i feel passionate about what i do but in no wa...\n",
       "10998    i am afraid to feel humiliated to see people w...\n",
       "10999    i can do without but some it just kills me to ...\n",
       "Name: text, Length: 11000, dtype: object"
      ]
     },
     "execution_count": 87,
     "metadata": {},
     "output_type": "execute_result"
    }
   ],
   "source": [
    "X = df.text\n",
    "X"
   ]
  },
  {
   "cell_type": "code",
   "execution_count": 88,
   "id": "e31f0839",
   "metadata": {},
   "outputs": [
    {
     "data": {
      "text/plain": [
       "<11000x12453 sparse matrix of type '<class 'numpy.float64'>'\n",
       "\twith 173380 stored elements in Compressed Sparse Row format>"
      ]
     },
     "execution_count": 88,
     "metadata": {},
     "output_type": "execute_result"
    }
   ],
   "source": [
    "from sklearn.feature_extraction.text import TfidfVectorizer\n",
    "\n",
    "vectorizer = TfidfVectorizer()\n",
    "\n",
    "X_vec = vectorizer.fit_transform(X)\n",
    "X_vec\n"
   ]
  },
  {
   "cell_type": "code",
   "execution_count": 98,
   "id": "2b7f3900",
   "metadata": {},
   "outputs": [
    {
     "name": "stdout",
     "output_type": "stream",
     "text": [
      "(11000, 12453)\n",
      "['aaaah' 'aaron' 'aatp' ... 'zumba' 'zurich' 'zz']\n",
      "[[0. 0. 0. ... 0. 0. 0.]\n",
      " [0. 0. 0. ... 0. 0. 0.]\n",
      " [0. 0. 0. ... 0. 0. 0.]\n",
      " ...\n",
      " [0. 0. 0. ... 0. 0. 0.]\n",
      " [0. 0. 0. ... 0. 0. 0.]\n",
      " [0. 0. 0. ... 0. 0. 0.]]\n",
      "(11000, 12453)\n"
     ]
    }
   ],
   "source": [
    "print(X_vec.shape)  # (nombre de documents, nombre de mots uniques dans le corpus)\n",
    "print(vectorizer.get_feature_names_out())  # Mots uniques dans le corpus\n",
    "print(X_vec.toarray())  # Matrice TF-IDF pour le corpus\n",
    "\n",
    "# Pour afficher de manière plus lisible\n",
    "import pandas as pd\n",
    "df_vec = pd.DataFrame(X_vec.toarray(), columns=vectorizer.get_feature_names_out())\n",
    "print(df_vec.shape)"
   ]
  },
  {
   "cell_type": "code",
   "execution_count": 99,
   "id": "88bebe0d",
   "metadata": {},
   "outputs": [
    {
     "name": "stdout",
     "output_type": "stream",
     "text": [
      "Epoch 1/5\n",
      "94/94 [==============================] - 5s 33ms/step - loss: 1.5926 - accuracy: 0.3647\n",
      "Epoch 2/5\n",
      "94/94 [==============================] - 3s 31ms/step - loss: 1.0482 - accuracy: 0.6487\n",
      "Epoch 3/5\n",
      "94/94 [==============================] - 3s 30ms/step - loss: 0.3394 - accuracy: 0.9230\n",
      "Epoch 4/5\n",
      "94/94 [==============================] - 3s 29ms/step - loss: 0.0798 - accuracy: 0.9907\n",
      "Epoch 5/5\n",
      "94/94 [==============================] - 3s 31ms/step - loss: 0.0275 - accuracy: 0.9973\n",
      "250/250 [==============================] - 2s 6ms/step - loss: 0.6643 - accuracy: 0.7769\n",
      "Test accuracy: 0.7768750190734863\n"
     ]
    }
   ],
   "source": [
    "import numpy as np\n",
    "import tensorflow as tf\n",
    "tf.__version__\n",
    "from tensorflow.keras.models import Sequential\n",
    "from tensorflow.keras.layers import Dense, Flatten\n",
    "from tensorflow.keras.datasets import mnist\n",
    "from tensorflow.keras.utils import to_categorical\n",
    "\n",
    "X_test = df_vec[:8000].iloc[:, :].values\n",
    "y_test = df[:8000].iloc[:, -1].values\n",
    "\n",
    "X_train = df_vec[8000:].iloc[:, :].values\n",
    "y_train = df[8000:].iloc[:, -1].values\n",
    "\n",
    "y_train_one_hot = to_categorical(y_train, num_classes=6)\n",
    "y_test_one_hot = to_categorical(y_test, num_classes=6)\n",
    "\n",
    "\n",
    "model = Sequential([\n",
    "    Flatten(),\n",
    "    Dense(128, activation='relu'),\n",
    "    Dense(64, activation='relu'), \n",
    "    Dense(6, activation='softmax')\n",
    "])\n",
    "\n",
    "model.compile(optimizer='adam',\n",
    "              loss='categorical_crossentropy',\n",
    "              metrics=['accuracy'])\n",
    "\n",
    "model.fit(X_train, y_train_one_hot, epochs=5, batch_size=32)\n",
    "\n",
    "test_loss, test_acc = model.evaluate(X_test, y_test_one_hot, batch_size=32)\n",
    "\n",
    "print(f'Test accuracy: {test_acc}')\n"
   ]
  },
  {
   "cell_type": "code",
   "execution_count": 100,
   "id": "211f5c92",
   "metadata": {},
   "outputs": [],
   "source": [
    "model.save('modele_trained3.keras') \n",
    "from tensorflow.keras.models import load_model\n",
    "modele_charge = load_model('modele_trained2.keras')"
   ]
  },
  {
   "cell_type": "code",
   "execution_count": 101,
   "id": "0e0e0d9e",
   "metadata": {},
   "outputs": [],
   "source": [
    "def transf(text, vectorizer):\n",
    "    texte_vect = vectorizer.transform([text])  # Mettre le texte dans une liste\n",
    "    return texte_vect.toarray()\n",
    "\n"
   ]
  },
  {
   "cell_type": "code",
   "execution_count": 106,
   "id": "700b7cc7",
   "metadata": {},
   "outputs": [
    {
     "name": "stdout",
     "output_type": "stream",
     "text": [
      "1/1 [==============================] - 0s 47ms/step\n",
      "[[0.03047317 0.01476056 0.00528397 0.06125862 0.85463655 0.03358711]]\n",
      "[4]\n"
     ]
    }
   ],
   "source": [
    "prediction = model.predict(transf('i feel frightened like something is ending',vectorizer))\n",
    "print(prediction)\n",
    "classe_predite = np.argmax(prediction, axis=1)\n",
    "print(classe_predite)\n"
   ]
  },
  {
   "cell_type": "code",
   "execution_count": null,
   "id": "97f6e035",
   "metadata": {},
   "outputs": [],
   "source": []
  },
  {
   "cell_type": "code",
   "execution_count": null,
   "id": "90c561d4",
   "metadata": {},
   "outputs": [],
   "source": []
  }
 ],
 "metadata": {
  "kernelspec": {
   "display_name": "Python 3 (ipykernel)",
   "language": "python",
   "name": "python3"
  },
  "language_info": {
   "codemirror_mode": {
    "name": "ipython",
    "version": 3
   },
   "file_extension": ".py",
   "mimetype": "text/x-python",
   "name": "python",
   "nbconvert_exporter": "python",
   "pygments_lexer": "ipython3",
   "version": "3.11.5"
  }
 },
 "nbformat": 4,
 "nbformat_minor": 5
}

{
 "cells": [
  {
   "cell_type": "code",
   "execution_count": 1,
   "id": "902c6e65",
   "metadata": {},
   "outputs": [],
   "source": [
    "import numpy as np\n",
    "import matplotlib.pyplot as plt\n",
    "import pandas as pd\n",
    "import sklearn"
   ]
  },
  {
   "cell_type": "code",
   "execution_count": 2,
   "id": "f752a429",
   "metadata": {},
   "outputs": [
    {
     "data": {
      "text/html": [
       "<div>\n",
       "<style scoped>\n",
       "    .dataframe tbody tr th:only-of-type {\n",
       "        vertical-align: middle;\n",
       "    }\n",
       "\n",
       "    .dataframe tbody tr th {\n",
       "        vertical-align: top;\n",
       "    }\n",
       "\n",
       "    .dataframe thead th {\n",
       "        text-align: right;\n",
       "    }\n",
       "</style>\n",
       "<table border=\"1\" class=\"dataframe\">\n",
       "  <thead>\n",
       "    <tr style=\"text-align: right;\">\n",
       "      <th></th>\n",
       "      <th>Unnamed: 0</th>\n",
       "      <th>text</th>\n",
       "      <th>label</th>\n",
       "    </tr>\n",
       "  </thead>\n",
       "  <tbody>\n",
       "    <tr>\n",
       "      <th>0</th>\n",
       "      <td>0</td>\n",
       "      <td>i just feel really helpless and heavy hearted</td>\n",
       "      <td>4</td>\n",
       "    </tr>\n",
       "    <tr>\n",
       "      <th>1</th>\n",
       "      <td>1</td>\n",
       "      <td>ive enjoyed being able to slouch about relax a...</td>\n",
       "      <td>0</td>\n",
       "    </tr>\n",
       "    <tr>\n",
       "      <th>2</th>\n",
       "      <td>2</td>\n",
       "      <td>i gave up my internship with the dmrg and am f...</td>\n",
       "      <td>4</td>\n",
       "    </tr>\n",
       "    <tr>\n",
       "      <th>3</th>\n",
       "      <td>3</td>\n",
       "      <td>i dont know i feel so lost</td>\n",
       "      <td>0</td>\n",
       "    </tr>\n",
       "    <tr>\n",
       "      <th>4</th>\n",
       "      <td>4</td>\n",
       "      <td>i am a kindergarten teacher and i am thoroughl...</td>\n",
       "      <td>4</td>\n",
       "    </tr>\n",
       "    <tr>\n",
       "      <th>...</th>\n",
       "      <td>...</td>\n",
       "      <td>...</td>\n",
       "      <td>...</td>\n",
       "    </tr>\n",
       "    <tr>\n",
       "      <th>10995</th>\n",
       "      <td>10995</td>\n",
       "      <td>i know how rare and special of a blessing this...</td>\n",
       "      <td>0</td>\n",
       "    </tr>\n",
       "    <tr>\n",
       "      <th>10996</th>\n",
       "      <td>10996</td>\n",
       "      <td>i feel really rude and ignorant for not unders...</td>\n",
       "      <td>3</td>\n",
       "    </tr>\n",
       "    <tr>\n",
       "      <th>10997</th>\n",
       "      <td>10997</td>\n",
       "      <td>i feel passionate about what i do but in no wa...</td>\n",
       "      <td>2</td>\n",
       "    </tr>\n",
       "    <tr>\n",
       "      <th>10998</th>\n",
       "      <td>10998</td>\n",
       "      <td>i am afraid to feel humiliated to see people w...</td>\n",
       "      <td>0</td>\n",
       "    </tr>\n",
       "    <tr>\n",
       "      <th>10999</th>\n",
       "      <td>10999</td>\n",
       "      <td>i can do without but some it just kills me to ...</td>\n",
       "      <td>0</td>\n",
       "    </tr>\n",
       "  </tbody>\n",
       "</table>\n",
       "<p>11000 rows × 3 columns</p>\n",
       "</div>"
      ],
      "text/plain": [
       "       Unnamed: 0                                               text  label\n",
       "0               0      i just feel really helpless and heavy hearted      4\n",
       "1               1  ive enjoyed being able to slouch about relax a...      0\n",
       "2               2  i gave up my internship with the dmrg and am f...      4\n",
       "3               3                         i dont know i feel so lost      0\n",
       "4               4  i am a kindergarten teacher and i am thoroughl...      4\n",
       "...           ...                                                ...    ...\n",
       "10995       10995  i know how rare and special of a blessing this...      0\n",
       "10996       10996  i feel really rude and ignorant for not unders...      3\n",
       "10997       10997  i feel passionate about what i do but in no wa...      2\n",
       "10998       10998  i am afraid to feel humiliated to see people w...      0\n",
       "10999       10999  i can do without but some it just kills me to ...      0\n",
       "\n",
       "[11000 rows x 3 columns]"
      ]
     },
     "execution_count": 2,
     "metadata": {},
     "output_type": "execute_result"
    }
   ],
   "source": [
    "#df=pd.read_csv(\"text.csv\")\n",
    "df=pd.read_csv(\"text.csv\").head(11000)\n",
    "df"
   ]
  },
  {
   "cell_type": "code",
   "execution_count": 3,
   "id": "4bbe66fc",
   "metadata": {},
   "outputs": [
    {
     "data": {
      "text/plain": [
       "0            i just feel really helpless and heavy hearted\n",
       "1        ive enjoyed being able to slouch about relax a...\n",
       "2        i gave up my internship with the dmrg and am f...\n",
       "3                               i dont know i feel so lost\n",
       "4        i am a kindergarten teacher and i am thoroughl...\n",
       "                               ...                        \n",
       "10995    i know how rare and special of a blessing this...\n",
       "10996    i feel really rude and ignorant for not unders...\n",
       "10997    i feel passionate about what i do but in no wa...\n",
       "10998    i am afraid to feel humiliated to see people w...\n",
       "10999    i can do without but some it just kills me to ...\n",
       "Name: text, Length: 11000, dtype: object"
      ]
     },
     "execution_count": 3,
     "metadata": {},
     "output_type": "execute_result"
    }
   ],
   "source": [
    "X = df.text\n",
    "X"
   ]
  },
  {
   "cell_type": "code",
   "execution_count": 4,
   "id": "b7f3a39e",
   "metadata": {},
   "outputs": [
    {
     "data": {
      "text/plain": [
       "<11000x12453 sparse matrix of type '<class 'numpy.float64'>'\n",
       "\twith 173380 stored elements in Compressed Sparse Row format>"
      ]
     },
     "execution_count": 4,
     "metadata": {},
     "output_type": "execute_result"
    }
   ],
   "source": [
    "from sklearn.feature_extraction.text import TfidfVectorizer\n",
    "\n",
    "\n",
    "vectorizer = TfidfVectorizer()\n",
    "X_vec = vectorizer.fit_transform(X)\n",
    "\n",
    "\n",
    "#X_vec = vectorizer.fit_transform(X)\n",
    "X_vec\n"
   ]
  },
  {
   "cell_type": "code",
   "execution_count": 5,
   "id": "bada0ed3",
   "metadata": {},
   "outputs": [
    {
     "name": "stdout",
     "output_type": "stream",
     "text": [
      "(11000, 12453)\n",
      "['aaaah' 'aaron' 'aatp' ... 'zumba' 'zurich' 'zz']\n",
      "[[0. 0. 0. ... 0. 0. 0.]\n",
      " [0. 0. 0. ... 0. 0. 0.]\n",
      " [0. 0. 0. ... 0. 0. 0.]\n",
      " ...\n",
      " [0. 0. 0. ... 0. 0. 0.]\n",
      " [0. 0. 0. ... 0. 0. 0.]\n",
      " [0. 0. 0. ... 0. 0. 0.]]\n",
      "(11000, 12453)\n"
     ]
    }
   ],
   "source": [
    "print(X_vec.shape)  # (nombre de documents, nombre de mots uniques dans le corpus)\n",
    "print(vectorizer.get_feature_names_out())  # Mots uniques dans le corpus\n",
    "print(X_vec.toarray())  # Matrice TF-IDF pour le corpus\n",
    "\n",
    "# Pour afficher de manière plus lisible\n",
    "import pandas as pd\n",
    "df_vec = pd.DataFrame(X_vec.toarray(), columns=vectorizer.get_feature_names_out())\n",
    "print(df_vec.shape)"
   ]
  },
  {
   "cell_type": "code",
   "execution_count": 6,
   "id": "e22ed402",
   "metadata": {},
   "outputs": [
    {
     "name": "stdout",
     "output_type": "stream",
     "text": [
      "WARNING:tensorflow:From C:\\Users\\cypri\\anaconda3\\Lib\\site-packages\\keras\\src\\losses.py:2976: The name tf.losses.sparse_softmax_cross_entropy is deprecated. Please use tf.compat.v1.losses.sparse_softmax_cross_entropy instead.\n",
      "\n",
      "WARNING:tensorflow:From C:\\Users\\cypri\\anaconda3\\Lib\\site-packages\\keras\\src\\backend.py:873: The name tf.get_default_graph is deprecated. Please use tf.compat.v1.get_default_graph instead.\n",
      "\n",
      "WARNING:tensorflow:From C:\\Users\\cypri\\anaconda3\\Lib\\site-packages\\keras\\src\\optimizers\\__init__.py:309: The name tf.train.Optimizer is deprecated. Please use tf.compat.v1.train.Optimizer instead.\n",
      "\n",
      "Epoch 1/100\n",
      "WARNING:tensorflow:From C:\\Users\\cypri\\anaconda3\\Lib\\site-packages\\keras\\src\\utils\\tf_utils.py:492: The name tf.ragged.RaggedTensorValue is deprecated. Please use tf.compat.v1.ragged.RaggedTensorValue instead.\n",
      "\n",
      "WARNING:tensorflow:From C:\\Users\\cypri\\anaconda3\\Lib\\site-packages\\keras\\src\\engine\\base_layer_utils.py:384: The name tf.executing_eagerly_outside_functions is deprecated. Please use tf.compat.v1.executing_eagerly_outside_functions instead.\n",
      "\n",
      "94/94 [==============================] - 15s 130ms/step - loss: 1.5855 - accuracy: 0.3753 - val_loss: 1.4483 - val_accuracy: 0.5176\n",
      "Epoch 2/100\n",
      "94/94 [==============================] - 6s 59ms/step - loss: 1.0499 - accuracy: 0.6270 - val_loss: 0.9912 - val_accuracy: 0.6500\n",
      "Epoch 3/100\n",
      "94/94 [==============================] - 5s 52ms/step - loss: 0.3667 - accuracy: 0.9177 - val_loss: 0.7376 - val_accuracy: 0.7616\n",
      "Epoch 4/100\n",
      "94/94 [==============================] - 5s 51ms/step - loss: 0.0980 - accuracy: 0.9847 - val_loss: 0.6525 - val_accuracy: 0.7803\n",
      "Epoch 5/100\n",
      "94/94 [==============================] - 6s 68ms/step - loss: 0.0307 - accuracy: 0.9983 - val_loss: 0.6595 - val_accuracy: 0.7809\n",
      "Epoch 6/100\n",
      "94/94 [==============================] - 4s 48ms/step - loss: 0.0143 - accuracy: 0.9987 - val_loss: 0.6667 - val_accuracy: 0.7763\n",
      "Epoch 7/100\n",
      "94/94 [==============================] - 5s 52ms/step - loss: 0.0081 - accuracy: 0.9997 - val_loss: 0.6664 - val_accuracy: 0.7810\n",
      "Epoch 8/100\n",
      "94/94 [==============================] - 4s 42ms/step - loss: 0.0052 - accuracy: 1.0000 - val_loss: 0.6933 - val_accuracy: 0.7755\n",
      "Epoch 9/100\n",
      "94/94 [==============================] - 4s 46ms/step - loss: 0.0036 - accuracy: 1.0000 - val_loss: 0.6926 - val_accuracy: 0.7799\n",
      "Epoch 10/100\n",
      "94/94 [==============================] - 4s 46ms/step - loss: 0.0027 - accuracy: 1.0000 - val_loss: 0.7213 - val_accuracy: 0.7756\n",
      "Epoch 11/100\n",
      "94/94 [==============================] - 4s 42ms/step - loss: 0.0021 - accuracy: 1.0000 - val_loss: 0.7285 - val_accuracy: 0.7765\n",
      "Epoch 12/100\n",
      "94/94 [==============================] - 5s 49ms/step - loss: 0.0016 - accuracy: 1.0000 - val_loss: 0.7348 - val_accuracy: 0.7764\n",
      "Epoch 13/100\n",
      "94/94 [==============================] - 5s 53ms/step - loss: 0.0013 - accuracy: 1.0000 - val_loss: 0.7409 - val_accuracy: 0.7786\n",
      "Epoch 14/100\n",
      "94/94 [==============================] - ETA: 0s - loss: 0.0011 - accuracy: 1.0000Restoring model weights from the end of the best epoch: 4.\n",
      "94/94 [==============================] - 5s 50ms/step - loss: 0.0011 - accuracy: 1.0000 - val_loss: 0.7415 - val_accuracy: 0.7788\n",
      "Epoch 14: early stopping\n",
      "250/250 [==============================] - 2s 7ms/step - loss: 0.6525 - accuracy: 0.7803\n",
      "Test accuracy: 0.7802500128746033\n"
     ]
    }
   ],
   "source": [
    "import numpy as np\n",
    "import tensorflow as tf\n",
    "tf.__version__\n",
    "from tensorflow.keras.models import Sequential\n",
    "from tensorflow.keras.layers import Dense, Flatten\n",
    "from tensorflow.keras.datasets import mnist\n",
    "from tensorflow.keras.utils import to_categorical\n",
    "from tensorflow.keras.callbacks import EarlyStopping\n",
    "\n",
    "X_test = df_vec[:8000].iloc[:, :].values\n",
    "y_test = df[:8000].iloc[:, -1].values\n",
    "\n",
    "X_train = df_vec[8000:].iloc[:, :].values\n",
    "y_train = df[8000:].iloc[:, -1].values\n",
    "\n",
    "y_train_one_hot = to_categorical(y_train, num_classes=6)\n",
    "y_test_one_hot = to_categorical(y_test, num_classes=6)\n",
    "\n",
    "\n",
    "model = Sequential([\n",
    "    Flatten(),\n",
    "    Dense(128, activation='relu'),\n",
    "    Dense(64, activation='relu'), \n",
    "    Dense(6, activation='softmax')\n",
    "])\n",
    "\n",
    "model.compile(optimizer='adam',\n",
    "              loss='categorical_crossentropy',\n",
    "              metrics=['accuracy'])\n",
    "\n",
    "early_stopping = EarlyStopping(\n",
    "    monitor='val_loss',  # La métrique à surveiller\n",
    "    patience=10,         # Nombre d'époques sans amélioration après lesquelles l'entraînement sera stoppé\n",
    "    verbose=1,           # Afficher des messages lorsque l'entraînement est interrompu\n",
    "    restore_best_weights=True )\n",
    "\n",
    "history = model.fit(\n",
    "    X_train, y_train_one_hot,\n",
    "    validation_data=(X_test, y_test_one_hot),\n",
    "    epochs=100,\n",
    "    callbacks=[early_stopping]\n",
    ")\n",
    "\n",
    "\n",
    "\n",
    "test_loss, test_acc = model.evaluate(X_test, y_test_one_hot, batch_size=32)\n",
    "\n",
    "print(f'Test accuracy: {test_acc}')\n"
   ]
  },
  {
   "cell_type": "code",
   "execution_count": 7,
   "id": "c6d464ef",
   "metadata": {},
   "outputs": [],
   "source": [
    "model.save('modele_trained3.keras') \n",
    "from tensorflow.keras.models import load_model\n",
    "modele_charge = load_model('modele_trained3.keras')"
   ]
  },
  {
   "cell_type": "code",
   "execution_count": 8,
   "id": "b25bcd15",
   "metadata": {},
   "outputs": [],
   "source": [
    "def transf(text, vectorizer):\n",
    "    texte_vect = vectorizer.transform([text])  # Mettre le texte dans une liste\n",
    "    return texte_vect.toarray()\n",
    "\n"
   ]
  },
  {
   "cell_type": "code",
   "execution_count": 9,
   "id": "7b164853",
   "metadata": {},
   "outputs": [
    {
     "name": "stdout",
     "output_type": "stream",
     "text": [
      "1/1 [==============================] - 0s 388ms/step\n",
      "[[0.00503663 0.0192429  0.02884043 0.61106926 0.31025535 0.02555541]]\n",
      "[3]\n"
     ]
    }
   ],
   "source": [
    "prediction = model.predict(transf('i feel sad',vectorizer))\n",
    "print(prediction)\n",
    "classe_predite = np.argmax(prediction, axis=1)\n",
    "print(classe_predite)\n"
   ]
  },
  {
   "cell_type": "code",
   "execution_count": null,
   "id": "fd350385",
   "metadata": {},
   "outputs": [],
   "source": []
  },
  {
   "cell_type": "code",
   "execution_count": null,
   "id": "f8bcf483",
   "metadata": {},
   "outputs": [],
   "source": []
  }
 ],
 "metadata": {
  "kernelspec": {
   "display_name": "Python 3 (ipykernel)",
   "language": "python",
   "name": "python3"
  },
  "language_info": {
   "codemirror_mode": {
    "name": "ipython",
    "version": 3
   },
   "file_extension": ".py",
   "mimetype": "text/x-python",
   "name": "python",
   "nbconvert_exporter": "python",
   "pygments_lexer": "ipython3",
   "version": "3.11.5"
  }
 },
 "nbformat": 4,
 "nbformat_minor": 5
}

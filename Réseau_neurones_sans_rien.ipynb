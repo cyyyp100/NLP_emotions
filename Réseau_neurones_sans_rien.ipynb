{
 "cells": [
  {
   "cell_type": "code",
   "execution_count": 1,
   "id": "8e85ff3c",
   "metadata": {
    "execution": {
     "iopub.execute_input": "2024-02-14T09:13:15.028470Z",
     "iopub.status.busy": "2024-02-14T09:13:15.028180Z",
     "iopub.status.idle": "2024-02-14T09:13:15.032409Z",
     "shell.execute_reply": "2024-02-14T09:13:15.031629Z",
     "shell.execute_reply.started": "2024-02-14T09:13:15.028450Z"
    }
   },
   "outputs": [],
   "source": [
    "import numpy as np\n",
    "import matplotlib.pyplot as plt\n",
    "import pandas as pd\n",
    "import sklearn\n",
    "from IPython.display import display"
   ]
  },
  {
   "cell_type": "code",
   "execution_count": 16,
   "id": "971fc822",
   "metadata": {
    "execution": {
     "iopub.execute_input": "2024-02-14T09:13:15.034022Z",
     "iopub.status.busy": "2024-02-14T09:13:15.033754Z",
     "iopub.status.idle": "2024-02-14T09:13:15.595202Z",
     "shell.execute_reply": "2024-02-14T09:13:15.594319Z",
     "shell.execute_reply.started": "2024-02-14T09:13:15.034001Z"
    },
    "tags": []
   },
   "outputs": [],
   "source": [
    "df=pd.read_csv('text.csv')\n",
    "#df5=df.copy()\n",
    "#df5=df5.head(100000)\n",
    "\n",
    "df2=df.copy()\n",
    "df2=df2.head(1000)\n",
    "\n",
    "#data0=df5.loc[df5['label']==0].head(1000)\n",
    "#data1=df5.loc[df5['label']==1].head(1000)\n",
    "#data2=df5.loc[df5['label']==2].head(1000)\n",
    "#data3=df5.loc[df5['label']==3].head(1000)\n",
    "#data4=df5.loc[df5['label']==4].head(1000)\n",
    "#data5=df5.loc[df5['label']==5].head(1000)\n",
    "#df2=pd.concat([data0,data1,data2,data3,data4,data5], axis=0)\n",
    "#df2"
   ]
  },
  {
   "cell_type": "code",
   "execution_count": 17,
   "id": "ee735db6",
   "metadata": {
    "execution": {
     "iopub.execute_input": "2024-02-14T09:13:15.596953Z",
     "iopub.status.busy": "2024-02-14T09:13:15.596697Z",
     "iopub.status.idle": "2024-02-14T09:13:15.690278Z",
     "shell.execute_reply": "2024-02-14T09:13:15.689447Z",
     "shell.execute_reply.started": "2024-02-14T09:13:15.596932Z"
    }
   },
   "outputs": [
    {
     "data": {
      "text/html": [
       "<div>\n",
       "<style scoped>\n",
       "    .dataframe tbody tr th:only-of-type {\n",
       "        vertical-align: middle;\n",
       "    }\n",
       "\n",
       "    .dataframe tbody tr th {\n",
       "        vertical-align: top;\n",
       "    }\n",
       "\n",
       "    .dataframe thead th {\n",
       "        text-align: right;\n",
       "    }\n",
       "</style>\n",
       "<table border=\"1\" class=\"dataframe\">\n",
       "  <thead>\n",
       "    <tr style=\"text-align: right;\">\n",
       "      <th></th>\n",
       "      <th>Unnamed: 0</th>\n",
       "      <th>text</th>\n",
       "      <th>label</th>\n",
       "    </tr>\n",
       "  </thead>\n",
       "  <tbody>\n",
       "    <tr>\n",
       "      <th>0</th>\n",
       "      <td>0</td>\n",
       "      <td>[i, just, feel, really, helpless, and, heavy, ...</td>\n",
       "      <td>4</td>\n",
       "    </tr>\n",
       "    <tr>\n",
       "      <th>1</th>\n",
       "      <td>1</td>\n",
       "      <td>[ive, enjoyed, being, able, to, slouch, about,...</td>\n",
       "      <td>0</td>\n",
       "    </tr>\n",
       "    <tr>\n",
       "      <th>2</th>\n",
       "      <td>2</td>\n",
       "      <td>[i, gave, up, my, internship, with, the, dmrg,...</td>\n",
       "      <td>4</td>\n",
       "    </tr>\n",
       "    <tr>\n",
       "      <th>3</th>\n",
       "      <td>3</td>\n",
       "      <td>[i, dont, know, i, feel, so, lost]</td>\n",
       "      <td>0</td>\n",
       "    </tr>\n",
       "    <tr>\n",
       "      <th>4</th>\n",
       "      <td>4</td>\n",
       "      <td>[i, am, a, kindergarten, teacher, and, i, am, ...</td>\n",
       "      <td>4</td>\n",
       "    </tr>\n",
       "    <tr>\n",
       "      <th>...</th>\n",
       "      <td>...</td>\n",
       "      <td>...</td>\n",
       "      <td>...</td>\n",
       "    </tr>\n",
       "    <tr>\n",
       "      <th>995</th>\n",
       "      <td>995</td>\n",
       "      <td>[i, would, have, stuck, around, but, i, was, f...</td>\n",
       "      <td>1</td>\n",
       "    </tr>\n",
       "    <tr>\n",
       "      <th>996</th>\n",
       "      <td>996</td>\n",
       "      <td>[i, feel, like, im, her, stubborn, client, tho...</td>\n",
       "      <td>3</td>\n",
       "    </tr>\n",
       "    <tr>\n",
       "      <th>997</th>\n",
       "      <td>997</td>\n",
       "      <td>[i, just, get, caught, up, in, the, fun, of, t...</td>\n",
       "      <td>0</td>\n",
       "    </tr>\n",
       "    <tr>\n",
       "      <th>998</th>\n",
       "      <td>998</td>\n",
       "      <td>[i, can, not, help, but, feel, a, little, bit,...</td>\n",
       "      <td>3</td>\n",
       "    </tr>\n",
       "    <tr>\n",
       "      <th>999</th>\n",
       "      <td>999</td>\n",
       "      <td>[i, feel, totally, foolish, for, trying, to, t...</td>\n",
       "      <td>0</td>\n",
       "    </tr>\n",
       "  </tbody>\n",
       "</table>\n",
       "<p>1000 rows × 3 columns</p>\n",
       "</div>"
      ],
      "text/plain": [
       "     Unnamed: 0                                               text  label\n",
       "0             0  [i, just, feel, really, helpless, and, heavy, ...      4\n",
       "1             1  [ive, enjoyed, being, able, to, slouch, about,...      0\n",
       "2             2  [i, gave, up, my, internship, with, the, dmrg,...      4\n",
       "3             3                 [i, dont, know, i, feel, so, lost]      0\n",
       "4             4  [i, am, a, kindergarten, teacher, and, i, am, ...      4\n",
       "..          ...                                                ...    ...\n",
       "995         995  [i, would, have, stuck, around, but, i, was, f...      1\n",
       "996         996  [i, feel, like, im, her, stubborn, client, tho...      3\n",
       "997         997  [i, just, get, caught, up, in, the, fun, of, t...      0\n",
       "998         998  [i, can, not, help, but, feel, a, little, bit,...      3\n",
       "999         999  [i, feel, totally, foolish, for, trying, to, t...      0\n",
       "\n",
       "[1000 rows x 3 columns]"
      ]
     },
     "execution_count": 17,
     "metadata": {},
     "output_type": "execute_result"
    }
   ],
   "source": [
    "df2['text'] = df2['text'].str.split(' ',)\n",
    "df2"
   ]
  },
  {
   "cell_type": "code",
   "execution_count": 23,
   "id": "d7fe44f2",
   "metadata": {
    "execution": {
     "iopub.execute_input": "2024-02-14T09:13:15.691853Z",
     "iopub.status.busy": "2024-02-14T09:13:15.691533Z",
     "iopub.status.idle": "2024-02-14T09:13:17.191194Z",
     "shell.execute_reply": "2024-02-14T09:13:17.190310Z",
     "shell.execute_reply.started": "2024-02-14T09:13:15.691826Z"
    },
    "tags": []
   },
   "outputs": [
    {
     "name": "stdout",
     "output_type": "stream",
     "text": [
      "     a  a bad  a ball  a bar  a belly  a beloved  a better  a bf  a big  \\\n",
      "0    0      0       0      0        0          0         0     0      0   \n",
      "1    2      0       0      0        0          0         0     0      0   \n",
      "2    0      0       0      0        0          0         0     0      0   \n",
      "3    0      0       0      0        0          0         0     0      0   \n",
      "4    1      0       0      0        0          0         0     0      0   \n",
      "..  ..    ...     ...    ...      ...        ...       ...   ...    ...   \n",
      "995  0      0       0      0        0          0         0     0      0   \n",
      "996  0      0       0      0        0          0         0     0      0   \n",
      "997  0      0       0      0        0          0         0     0      0   \n",
      "998  1      0       0      0        0          0         0     0      0   \n",
      "999  1      0       0      0        0          0         0     0      0   \n",
      "\n",
      "     a bike  ...  yourself and  yourself no  yummy  yummy mummy  zen  \\\n",
      "0         0  ...             0            0      0            0    0   \n",
      "1         0  ...             0            0      0            0    0   \n",
      "2         0  ...             0            0      0            0    0   \n",
      "3         0  ...             0            0      0            0    0   \n",
      "4         0  ...             0            0      0            0    0   \n",
      "..      ...  ...           ...          ...    ...          ...  ...   \n",
      "995       0  ...             0            0      0            0    0   \n",
      "996       0  ...             0            0      0            0    0   \n",
      "997       0  ...             0            0      0            0    0   \n",
      "998       0  ...             0            0      0            0    0   \n",
      "999       0  ...             0            0      0            0    0   \n",
      "\n",
      "     zen like  zone  zone part  zooming  zooming who  \n",
      "0           0     0          0        0            0  \n",
      "1           0     0          0        0            0  \n",
      "2           0     0          0        0            0  \n",
      "3           0     0          0        0            0  \n",
      "4           0     0          0        0            0  \n",
      "..        ...   ...        ...      ...          ...  \n",
      "995         0     0          0        0            0  \n",
      "996         0     0          0        0            0  \n",
      "997         0     0          0        0            0  \n",
      "998         0     0          0        0            0  \n",
      "999         0     0          0        0            0  \n",
      "\n",
      "[1000 rows x 14873 columns]\n"
     ]
    },
    {
     "name": "stderr",
     "output_type": "stream",
     "text": [
      "C:\\Users\\cypri\\anaconda3\\Lib\\site-packages\\sklearn\\feature_extraction\\text.py:525: UserWarning: The parameter 'token_pattern' will not be used since 'tokenizer' is not None'\n",
      "  warnings.warn(\n"
     ]
    }
   ],
   "source": [
    "from sklearn.feature_extraction.text import CountVectorizer\n",
    "vectorizer = CountVectorizer(lowercase=False, tokenizer=lambda x: x, preprocessor=lambda x: x, ngram_range=(1, 2))\n",
    "\n",
    "X = vectorizer.fit_transform(df2['text'])\n",
    "\n",
    "df_encoded = pd.DataFrame(X.toarray(), columns=vectorizer.get_feature_names_out())\n",
    "\n",
    "print(df_encoded)"
   ]
  },
  {
   "cell_type": "code",
   "execution_count": 24,
   "id": "b7325339",
   "metadata": {
    "execution": {
     "iopub.execute_input": "2024-02-14T09:13:17.193814Z",
     "iopub.status.busy": "2024-02-14T09:13:17.193336Z",
     "iopub.status.idle": "2024-02-14T09:13:27.428809Z",
     "shell.execute_reply": "2024-02-14T09:13:27.427950Z",
     "shell.execute_reply.started": "2024-02-14T09:13:17.193788Z"
    }
   },
   "outputs": [],
   "source": [
    "df_concatenated = pd.concat([df_encoded, df2['label']], axis=1)\n",
    "#print(df_concatenated)\n",
    "#print(df_concatenated['label'].loc[df_concatenated['label']>=5])"
   ]
  },
  {
   "cell_type": "code",
   "execution_count": 25,
   "id": "61d43367",
   "metadata": {
    "execution": {
     "iopub.execute_input": "2024-02-14T09:13:27.430266Z",
     "iopub.status.busy": "2024-02-14T09:13:27.429875Z"
    },
    "tags": []
   },
   "outputs": [
    {
     "ename": "ValueError",
     "evalue": "Expected input data to be non-empty.",
     "output_type": "error",
     "traceback": [
      "\u001b[1;31m---------------------------------------------------------------------------\u001b[0m",
      "\u001b[1;31mValueError\u001b[0m                                Traceback (most recent call last)",
      "Cell \u001b[1;32mIn[25], line 58\u001b[0m\n\u001b[0;32m     47\u001b[0m model \u001b[38;5;241m=\u001b[39m Sequential([\n\u001b[0;32m     48\u001b[0m     Flatten(),\n\u001b[0;32m     49\u001b[0m     Dense(\u001b[38;5;241m128\u001b[39m, activation\u001b[38;5;241m=\u001b[39m\u001b[38;5;124m'\u001b[39m\u001b[38;5;124mrelu\u001b[39m\u001b[38;5;124m'\u001b[39m),\n\u001b[0;32m     50\u001b[0m     Dense(\u001b[38;5;241m64\u001b[39m, activation\u001b[38;5;241m=\u001b[39m\u001b[38;5;124m'\u001b[39m\u001b[38;5;124mrelu\u001b[39m\u001b[38;5;124m'\u001b[39m), \n\u001b[0;32m     51\u001b[0m     Dense(\u001b[38;5;241m6\u001b[39m, activation\u001b[38;5;241m=\u001b[39m\u001b[38;5;124m'\u001b[39m\u001b[38;5;124msoftmax\u001b[39m\u001b[38;5;124m'\u001b[39m)\n\u001b[0;32m     52\u001b[0m ])\n\u001b[0;32m     54\u001b[0m model\u001b[38;5;241m.\u001b[39mcompile(optimizer\u001b[38;5;241m=\u001b[39m\u001b[38;5;124m'\u001b[39m\u001b[38;5;124madam\u001b[39m\u001b[38;5;124m'\u001b[39m,\n\u001b[0;32m     55\u001b[0m               loss\u001b[38;5;241m=\u001b[39m\u001b[38;5;124m'\u001b[39m\u001b[38;5;124mcategorical_crossentropy\u001b[39m\u001b[38;5;124m'\u001b[39m,\n\u001b[0;32m     56\u001b[0m               metrics\u001b[38;5;241m=\u001b[39m[\u001b[38;5;124m'\u001b[39m\u001b[38;5;124maccuracy\u001b[39m\u001b[38;5;124m'\u001b[39m])\n\u001b[1;32m---> 58\u001b[0m model\u001b[38;5;241m.\u001b[39mfit(X_train_filtered, y_train_one_hot, epochs\u001b[38;5;241m=\u001b[39m\u001b[38;5;241m3\u001b[39m, batch_size\u001b[38;5;241m=\u001b[39m\u001b[38;5;241m32\u001b[39m)\n\u001b[0;32m     61\u001b[0m test_loss, test_acc \u001b[38;5;241m=\u001b[39m model\u001b[38;5;241m.\u001b[39mevaluate(X_test_filtered, y_test_one_hot, batch_size\u001b[38;5;241m=\u001b[39m\u001b[38;5;241m32\u001b[39m)\n\u001b[0;32m     63\u001b[0m \u001b[38;5;28mprint\u001b[39m(\u001b[38;5;124mf\u001b[39m\u001b[38;5;124m'\u001b[39m\u001b[38;5;124mTest accuracy: \u001b[39m\u001b[38;5;132;01m{\u001b[39;00mtest_acc\u001b[38;5;132;01m}\u001b[39;00m\u001b[38;5;124m'\u001b[39m)\n",
      "File \u001b[1;32m~\\anaconda3\\Lib\\site-packages\\keras\\src\\utils\\traceback_utils.py:70\u001b[0m, in \u001b[0;36mfilter_traceback.<locals>.error_handler\u001b[1;34m(*args, **kwargs)\u001b[0m\n\u001b[0;32m     67\u001b[0m     filtered_tb \u001b[38;5;241m=\u001b[39m _process_traceback_frames(e\u001b[38;5;241m.\u001b[39m__traceback__)\n\u001b[0;32m     68\u001b[0m     \u001b[38;5;66;03m# To get the full stack trace, call:\u001b[39;00m\n\u001b[0;32m     69\u001b[0m     \u001b[38;5;66;03m# `tf.debugging.disable_traceback_filtering()`\u001b[39;00m\n\u001b[1;32m---> 70\u001b[0m     \u001b[38;5;28;01mraise\u001b[39;00m e\u001b[38;5;241m.\u001b[39mwith_traceback(filtered_tb) \u001b[38;5;28;01mfrom\u001b[39;00m \u001b[38;5;28;01mNone\u001b[39;00m\n\u001b[0;32m     71\u001b[0m \u001b[38;5;28;01mfinally\u001b[39;00m:\n\u001b[0;32m     72\u001b[0m     \u001b[38;5;28;01mdel\u001b[39;00m filtered_tb\n",
      "File \u001b[1;32m~\\anaconda3\\Lib\\site-packages\\keras\\src\\engine\\data_adapter.py:1319\u001b[0m, in \u001b[0;36mDataHandler.__init__\u001b[1;34m(self, x, y, sample_weight, batch_size, steps_per_epoch, initial_epoch, epochs, shuffle, class_weight, max_queue_size, workers, use_multiprocessing, model, steps_per_execution, distribute, pss_evaluation_shards)\u001b[0m\n\u001b[0;32m   1314\u001b[0m \u001b[38;5;28mself\u001b[39m\u001b[38;5;241m.\u001b[39m_configure_dataset_and_inferred_steps(\n\u001b[0;32m   1315\u001b[0m     strategy, x, steps_per_epoch, class_weight, distribute\n\u001b[0;32m   1316\u001b[0m )\n\u001b[0;32m   1318\u001b[0m \u001b[38;5;28;01mif\u001b[39;00m \u001b[38;5;28mself\u001b[39m\u001b[38;5;241m.\u001b[39m_inferred_steps \u001b[38;5;241m==\u001b[39m \u001b[38;5;241m0\u001b[39m:\n\u001b[1;32m-> 1319\u001b[0m     \u001b[38;5;28;01mraise\u001b[39;00m \u001b[38;5;167;01mValueError\u001b[39;00m(\u001b[38;5;124m\"\u001b[39m\u001b[38;5;124mExpected input data to be non-empty.\u001b[39m\u001b[38;5;124m\"\u001b[39m)\n",
      "\u001b[1;31mValueError\u001b[0m: Expected input data to be non-empty."
     ]
    }
   ],
   "source": [
    "\n",
    "import numpy as np\n",
    "import tensorflow as tf\n",
    "tf.__version__\n",
    "from tensorflow.keras.models import Sequential\n",
    "from tensorflow.keras.layers import Dense, Flatten\n",
    "from tensorflow.keras.datasets import mnist\n",
    "from tensorflow.keras.utils import to_categorical\n",
    "\n",
    "#(train_data, train_labels), (test_data, test_labels) = df_concatenated.load_data()\n",
    "#print(train_data)\n",
    "#print(test_labels)\n",
    "\n",
    "#train_labels_one_hot = to_categorical(train_labels, num_classes=6)\n",
    "#test_labels_one_hot = to_categorical(test_labels, num_classes=6)\n",
    "\n",
    "#train_data = df_encoded.head(800)\n",
    "#train_labels = df2['label'].head(800)\n",
    "#test_data = df_encoded[800:999]\n",
    "#test_labels = df2['label'][800:999]\n",
    "\n",
    "#train_data_np = train_data.to_numpy().astype('float32')\n",
    "#train_labels_np = to_categorical(train_labels.to_numpy())\n",
    "#train_labels_np = tf.keras.utils.to_categorical(train_labels_np, num_classes=6)\n",
    "#test_data_np = test_data.to_numpy().astype('float32')\n",
    "#test_labels_np = to_categorical(test_labels.to_numpy())\n",
    "#test_labels_np = tf.keras.utils.to_categorical(test_labels_np, num_classes=6)\n",
    "\n",
    "X_test = df_concatenated.head(4800).iloc[:, :-1].values\n",
    "y_test = df_concatenated.head(4800).iloc[:, -1].values\n",
    "X_train = df_concatenated[4800:].iloc[:, :-1].values\n",
    "y_train = df_concatenated[4800:].iloc[:, -1].values\n",
    "\n",
    "\n",
    "valid_indices1 = (y_train >= 0) & (y_train < 6)\n",
    "y_train_filtered = y_train[valid_indices1]\n",
    "y_train_one_hot = to_categorical(y_train_filtered, num_classes=6)\n",
    "\n",
    "valid_indices2 = (y_test >= 0) & (y_test < 6)\n",
    "y_test_filtered = y_test[valid_indices2]\n",
    "y_test_one_hot = to_categorical(y_test_filtered, num_classes =6)\n",
    "\n",
    "X_train_filtered=X_train[valid_indices1]\n",
    "X_test_filtered=X_test[valid_indices2]\n",
    "#print(X_test[-1].shape)\n",
    "\n",
    "\n",
    "model = Sequential([\n",
    "    Flatten(),\n",
    "    Dense(128, activation='relu'),\n",
    "    Dense(64, activation='relu'), \n",
    "    Dense(6, activation='softmax')\n",
    "])\n",
    "\n",
    "model.compile(optimizer='adam',\n",
    "              loss='categorical_crossentropy',\n",
    "              metrics=['accuracy'])\n",
    "\n",
    "model.fit(X_train_filtered, y_train_one_hot, epochs=3, batch_size=32)\n",
    "\n",
    "\n",
    "test_loss, test_acc = model.evaluate(X_test_filtered, y_test_one_hot, batch_size=32)\n",
    "\n",
    "print(f'Test accuracy: {test_acc}')\n"
   ]
  },
  {
   "cell_type": "code",
   "execution_count": null,
   "id": "125ba1df",
   "metadata": {},
   "outputs": [],
   "source": [
    "model.save('modele_trained2.keras') "
   ]
  },
  {
   "cell_type": "code",
   "execution_count": null,
   "id": "1afebee1",
   "metadata": {},
   "outputs": [],
   "source": [
    "from tensorflow.keras.models import load_model\n",
    "modele_charge = load_model('modele_trained2.keras')"
   ]
  },
  {
   "cell_type": "code",
   "execution_count": null,
   "id": "5f1eace3",
   "metadata": {
    "tags": []
   },
   "outputs": [],
   "source": [
    "#df3=df.copy().head(1000)\n",
    "\n",
    "#def transf_en_hot(texte):\n",
    "    #texte_sep=[texte.split(' ',)]\n",
    "    #print(texte_sep)\n",
    "    #texte_df = pd.DataFrame([texte_sep])\n",
    "    #print(texte_df)\n",
    "    #df3=df.copy().head(1000)\n",
    "    #df3['text'] = df3['text'].str.split(' ',)\n",
    "    #df_total=pd.concat([df3['text'], texte_df], axis=0)\n",
    "    #print(df_total)\n",
    "    #df_total_vect = vectorizer.fit_transform(df_total[0])\n",
    "    #print(df_total_vect)\n",
    "    #df_total_encoded = pd.DataFrame(df_total_vect.toarray(), columns=vectorizer.get_feature_names_out())\n",
    "    #print(df_total_encoded)\n",
    "    #return(df_total_encoded.iloc[-1].values)\n",
    "\n",
    "def transf(texte,vectorizer):\n",
    "    texte_preprocessed = [texte]  # Appliquez votre logique de tokenisation/prétraitement si nécessaire\n",
    "    texte_vect = vectorizer.transform(texte_preprocessed)\n",
    "    return texte_vect.toarray()\n",
    "\n"
   ]
  },
  {
   "cell_type": "code",
   "execution_count": null,
   "id": "332da69e",
   "metadata": {
    "tags": []
   },
   "outputs": [],
   "source": [
    "prediction = modele_charge.predict(transf('i feel like being mentally tortured',vectorizer))\n",
    "\n",
    "print(prediction)\n",
    "classe_predite = np.argmax(prediction, axis=1)\n",
    "print(classe_predite)\n"
   ]
  },
  {
   "cell_type": "code",
   "execution_count": null,
   "id": "8dbe58b9",
   "metadata": {},
   "outputs": [],
   "source": []
  },
  {
   "cell_type": "code",
   "execution_count": null,
   "id": "35aa952b",
   "metadata": {},
   "outputs": [],
   "source": []
  },
  {
   "cell_type": "code",
   "execution_count": null,
   "id": "f44a8c3c",
   "metadata": {},
   "outputs": [],
   "source": []
  }
 ],
 "metadata": {
  "kaggle": {
   "accelerator": "none",
   "dataSources": [
    {
     "datasetId": 4440512,
     "sourceId": 7623010,
     "sourceType": "datasetVersion"
    }
   ],
   "isGpuEnabled": false,
   "isInternetEnabled": false,
   "language": "python",
   "sourceType": "notebook"
  },
  "kernelspec": {
   "display_name": "Python 3 (ipykernel)",
   "language": "python",
   "name": "python3"
  },
  "language_info": {
   "codemirror_mode": {
    "name": "ipython",
    "version": 3
   },
   "file_extension": ".py",
   "mimetype": "text/x-python",
   "name": "python",
   "nbconvert_exporter": "python",
   "pygments_lexer": "ipython3",
   "version": "3.11.5"
  }
 },
 "nbformat": 4,
 "nbformat_minor": 5
}

{
 "cells": [
  {
   "cell_type": "code",
   "execution_count": 25,
   "id": "8e85ff3c",
   "metadata": {
    "execution": {
     "iopub.execute_input": "2024-02-14T09:13:15.028470Z",
     "iopub.status.busy": "2024-02-14T09:13:15.028180Z",
     "iopub.status.idle": "2024-02-14T09:13:15.032409Z",
     "shell.execute_reply": "2024-02-14T09:13:15.031629Z",
     "shell.execute_reply.started": "2024-02-14T09:13:15.028450Z"
    }
   },
   "outputs": [],
   "source": [
    "import numpy as np\n",
    "import matplotlib.pyplot as plt\n",
    "import pandas as pd\n",
    "import sklearn\n",
    "from IPython.display import display"
   ]
  },
  {
   "cell_type": "code",
   "execution_count": 26,
   "id": "971fc822",
   "metadata": {
    "execution": {
     "iopub.execute_input": "2024-02-14T09:13:15.034022Z",
     "iopub.status.busy": "2024-02-14T09:13:15.033754Z",
     "iopub.status.idle": "2024-02-14T09:13:15.595202Z",
     "shell.execute_reply": "2024-02-14T09:13:15.594319Z",
     "shell.execute_reply.started": "2024-02-14T09:13:15.034001Z"
    },
    "tags": []
   },
   "outputs": [],
   "source": [
    "df=pd.read_csv('text.csv')\n",
    "#df5=df.copy()\n",
    "#df5=df5.head(100000)\n",
    "\n",
    "df2=df.copy()\n",
    "df2=df2.head(10000)\n",
    "\n",
    "#data0=df5.loc[df5['label']==0].head(1000)\n",
    "#data1=df5.loc[df5['label']==1].head(1000)\n",
    "#data2=df5.loc[df5['label']==2].head(1000)\n",
    "#data3=df5.loc[df5['label']==3].head(1000)\n",
    "#data4=df5.loc[df5['label']==4].head(1000)\n",
    "#data5=df5.loc[df5['label']==5].head(1000)\n",
    "#df2=pd.concat([data0,data1,data2,data3,data4,data5], axis=0)\n",
    "#df2"
   ]
  },
  {
   "cell_type": "code",
   "execution_count": 28,
   "id": "ee735db6",
   "metadata": {
    "execution": {
     "iopub.execute_input": "2024-02-14T09:13:15.596953Z",
     "iopub.status.busy": "2024-02-14T09:13:15.596697Z",
     "iopub.status.idle": "2024-02-14T09:13:15.690278Z",
     "shell.execute_reply": "2024-02-14T09:13:15.689447Z",
     "shell.execute_reply.started": "2024-02-14T09:13:15.596932Z"
    }
   },
   "outputs": [
    {
     "data": {
      "text/html": [
       "<div>\n",
       "<style scoped>\n",
       "    .dataframe tbody tr th:only-of-type {\n",
       "        vertical-align: middle;\n",
       "    }\n",
       "\n",
       "    .dataframe tbody tr th {\n",
       "        vertical-align: top;\n",
       "    }\n",
       "\n",
       "    .dataframe thead th {\n",
       "        text-align: right;\n",
       "    }\n",
       "</style>\n",
       "<table border=\"1\" class=\"dataframe\">\n",
       "  <thead>\n",
       "    <tr style=\"text-align: right;\">\n",
       "      <th></th>\n",
       "      <th>Unnamed: 0</th>\n",
       "      <th>text</th>\n",
       "      <th>label</th>\n",
       "    </tr>\n",
       "  </thead>\n",
       "  <tbody>\n",
       "    <tr>\n",
       "      <th>0</th>\n",
       "      <td>0</td>\n",
       "      <td>[i, just, feel, really, helpless, and, heavy, ...</td>\n",
       "      <td>4</td>\n",
       "    </tr>\n",
       "    <tr>\n",
       "      <th>1</th>\n",
       "      <td>1</td>\n",
       "      <td>[ive, enjoyed, being, able, to, slouch, about,...</td>\n",
       "      <td>0</td>\n",
       "    </tr>\n",
       "    <tr>\n",
       "      <th>2</th>\n",
       "      <td>2</td>\n",
       "      <td>[i, gave, up, my, internship, with, the, dmrg,...</td>\n",
       "      <td>4</td>\n",
       "    </tr>\n",
       "    <tr>\n",
       "      <th>3</th>\n",
       "      <td>3</td>\n",
       "      <td>[i, dont, know, i, feel, so, lost]</td>\n",
       "      <td>0</td>\n",
       "    </tr>\n",
       "    <tr>\n",
       "      <th>4</th>\n",
       "      <td>4</td>\n",
       "      <td>[i, am, a, kindergarten, teacher, and, i, am, ...</td>\n",
       "      <td>4</td>\n",
       "    </tr>\n",
       "    <tr>\n",
       "      <th>...</th>\n",
       "      <td>...</td>\n",
       "      <td>...</td>\n",
       "      <td>...</td>\n",
       "    </tr>\n",
       "    <tr>\n",
       "      <th>9995</th>\n",
       "      <td>9995</td>\n",
       "      <td>[i, feel, that, shakespeare, is, a, talented, ...</td>\n",
       "      <td>1</td>\n",
       "    </tr>\n",
       "    <tr>\n",
       "      <th>9996</th>\n",
       "      <td>9996</td>\n",
       "      <td>[ill, be, attending, college, classes, and, il...</td>\n",
       "      <td>1</td>\n",
       "    </tr>\n",
       "    <tr>\n",
       "      <th>9997</th>\n",
       "      <td>9997</td>\n",
       "      <td>[i, am, a, girl, and, i, am, utterly, dependen...</td>\n",
       "      <td>0</td>\n",
       "    </tr>\n",
       "    <tr>\n",
       "      <th>9998</th>\n",
       "      <td>9998</td>\n",
       "      <td>[ive, been, feeling, less, inhibited]</td>\n",
       "      <td>4</td>\n",
       "    </tr>\n",
       "    <tr>\n",
       "      <th>9999</th>\n",
       "      <td>9999</td>\n",
       "      <td>[ive, got, to, say, today, im, feeling, especi...</td>\n",
       "      <td>1</td>\n",
       "    </tr>\n",
       "  </tbody>\n",
       "</table>\n",
       "<p>10000 rows × 3 columns</p>\n",
       "</div>"
      ],
      "text/plain": [
       "      Unnamed: 0                                               text  label\n",
       "0              0  [i, just, feel, really, helpless, and, heavy, ...      4\n",
       "1              1  [ive, enjoyed, being, able, to, slouch, about,...      0\n",
       "2              2  [i, gave, up, my, internship, with, the, dmrg,...      4\n",
       "3              3                 [i, dont, know, i, feel, so, lost]      0\n",
       "4              4  [i, am, a, kindergarten, teacher, and, i, am, ...      4\n",
       "...          ...                                                ...    ...\n",
       "9995        9995  [i, feel, that, shakespeare, is, a, talented, ...      1\n",
       "9996        9996  [ill, be, attending, college, classes, and, il...      1\n",
       "9997        9997  [i, am, a, girl, and, i, am, utterly, dependen...      0\n",
       "9998        9998              [ive, been, feeling, less, inhibited]      4\n",
       "9999        9999  [ive, got, to, say, today, im, feeling, especi...      1\n",
       "\n",
       "[10000 rows x 3 columns]"
      ]
     },
     "execution_count": 28,
     "metadata": {},
     "output_type": "execute_result"
    }
   ],
   "source": [
    "df2['text'] = df2['text'].str.split(' ',)\n",
    "df2"
   ]
  },
  {
   "cell_type": "code",
   "execution_count": 29,
   "id": "d7fe44f2",
   "metadata": {
    "execution": {
     "iopub.execute_input": "2024-02-14T09:13:15.691853Z",
     "iopub.status.busy": "2024-02-14T09:13:15.691533Z",
     "iopub.status.idle": "2024-02-14T09:13:17.191194Z",
     "shell.execute_reply": "2024-02-14T09:13:17.190310Z",
     "shell.execute_reply.started": "2024-02-14T09:13:15.691826Z"
    },
    "tags": []
   },
   "outputs": [
    {
     "name": "stderr",
     "output_type": "stream",
     "text": [
      "C:\\Users\\cypri\\anaconda3\\Lib\\site-packages\\sklearn\\feature_extraction\\text.py:525: UserWarning: The parameter 'token_pattern' will not be used since 'tokenizer' is not None'\n",
      "  warnings.warn(\n"
     ]
    },
    {
     "name": "stdout",
     "output_type": "stream",
     "text": [
      "      a  aaron  aatp  aback  abandon  abandoned  abandoning  abandonment  abc  \\\n",
      "0     0      0     0      0        0          0           0            0    0   \n",
      "1     2      0     0      0        0          0           0            0    0   \n",
      "2     0      0     0      0        0          0           0            0    0   \n",
      "3     0      0     0      0        0          0           0            0    0   \n",
      "4     1      0     0      0        0          0           0            0    0   \n",
      "...  ..    ...   ...    ...      ...        ...         ...          ...  ...   \n",
      "9995  3      0     0      0        0          0           0            0    0   \n",
      "9996  1      0     0      0        0          0           0            0    0   \n",
      "9997  1      0     0      0        0          0           0            0    0   \n",
      "9998  0      0     0      0        0          0           0            0    0   \n",
      "9999  0      0     0      0        0          0           0            0    0   \n",
      "\n",
      "      abdominal  ...  zingers  ziva  zombie  zone  zoom  zooming  zouk  zumba  \\\n",
      "0             0  ...        0     0       0     0     0        0     0      0   \n",
      "1             0  ...        0     0       0     0     0        0     0      0   \n",
      "2             0  ...        0     0       0     0     0        0     0      0   \n",
      "3             0  ...        0     0       0     0     0        0     0      0   \n",
      "4             0  ...        0     0       0     0     0        0     0      0   \n",
      "...         ...  ...      ...   ...     ...   ...   ...      ...   ...    ...   \n",
      "9995          0  ...        0     0       0     0     0        0     0      0   \n",
      "9996          0  ...        0     0       0     0     0        0     0      0   \n",
      "9997          0  ...        0     0       0     0     0        0     0      0   \n",
      "9998          0  ...        0     0       0     0     0        0     0      0   \n",
      "9999          0  ...        0     0       0     0     0        0     0      0   \n",
      "\n",
      "      zurich  zz  \n",
      "0          0   0  \n",
      "1          0   0  \n",
      "2          0   0  \n",
      "3          0   0  \n",
      "4          0   0  \n",
      "...      ...  ..  \n",
      "9995       0   0  \n",
      "9996       0   0  \n",
      "9997       0   0  \n",
      "9998       0   0  \n",
      "9999       0   0  \n",
      "\n",
      "[10000 rows x 11812 columns]\n"
     ]
    }
   ],
   "source": [
    "from sklearn.feature_extraction.text import CountVectorizer\n",
    "vectorizer = CountVectorizer(lowercase=False, tokenizer=lambda x: x, preprocessor=lambda x: x)\n",
    "\n",
    "X = vectorizer.fit_transform(df2['text'])\n",
    "\n",
    "df_encoded = pd.DataFrame(X.toarray(), columns=vectorizer.get_feature_names_out())\n",
    "\n",
    "print(df_encoded)"
   ]
  },
  {
   "cell_type": "code",
   "execution_count": 11,
   "id": "b7325339",
   "metadata": {
    "execution": {
     "iopub.execute_input": "2024-02-14T09:13:17.193814Z",
     "iopub.status.busy": "2024-02-14T09:13:17.193336Z",
     "iopub.status.idle": "2024-02-14T09:13:27.428809Z",
     "shell.execute_reply": "2024-02-14T09:13:27.427950Z",
     "shell.execute_reply.started": "2024-02-14T09:13:17.193788Z"
    }
   },
   "outputs": [],
   "source": [
    "df_concatenated = pd.concat([df_encoded, df2['label']], axis=1)\n",
    "#print(df_concatenated)\n",
    "#print(df_concatenated['label'].loc[df_concatenated['label']>=5])"
   ]
  },
  {
   "cell_type": "code",
   "execution_count": 12,
   "id": "61d43367",
   "metadata": {
    "execution": {
     "iopub.execute_input": "2024-02-14T09:13:27.430266Z",
     "iopub.status.busy": "2024-02-14T09:13:27.429875Z"
    },
    "tags": []
   },
   "outputs": [
    {
     "name": "stdout",
     "output_type": "stream",
     "text": [
      "WARNING:tensorflow:From C:\\Users\\cypri\\anaconda3\\Lib\\site-packages\\keras\\src\\losses.py:2976: The name tf.losses.sparse_softmax_cross_entropy is deprecated. Please use tf.compat.v1.losses.sparse_softmax_cross_entropy instead.\n",
      "\n",
      "WARNING:tensorflow:From C:\\Users\\cypri\\anaconda3\\Lib\\site-packages\\keras\\src\\backend.py:873: The name tf.get_default_graph is deprecated. Please use tf.compat.v1.get_default_graph instead.\n",
      "\n",
      "WARNING:tensorflow:From C:\\Users\\cypri\\anaconda3\\Lib\\site-packages\\keras\\src\\optimizers\\__init__.py:309: The name tf.train.Optimizer is deprecated. Please use tf.compat.v1.train.Optimizer instead.\n",
      "\n",
      "Epoch 1/3\n",
      "WARNING:tensorflow:From C:\\Users\\cypri\\anaconda3\\Lib\\site-packages\\keras\\src\\utils\\tf_utils.py:492: The name tf.ragged.RaggedTensorValue is deprecated. Please use tf.compat.v1.ragged.RaggedTensorValue instead.\n",
      "\n",
      "WARNING:tensorflow:From C:\\Users\\cypri\\anaconda3\\Lib\\site-packages\\keras\\src\\engine\\base_layer_utils.py:384: The name tf.executing_eagerly_outside_functions is deprecated. Please use tf.compat.v1.executing_eagerly_outside_functions instead.\n",
      "\n",
      "163/163 [==============================] - 8s 31ms/step - loss: 1.3960 - accuracy: 0.4963\n",
      "Epoch 2/3\n",
      "163/163 [==============================] - 5s 31ms/step - loss: 0.3980 - accuracy: 0.8900\n",
      "Epoch 3/3\n",
      "163/163 [==============================] - 5s 30ms/step - loss: 0.0739 - accuracy: 0.9842\n",
      "150/150 [==============================] - 2s 8ms/step - loss: 0.5635 - accuracy: 0.8235\n",
      "Test accuracy: 0.8235416412353516\n"
     ]
    }
   ],
   "source": [
    "\n",
    "import numpy as np\n",
    "import tensorflow as tf\n",
    "tf.__version__\n",
    "from tensorflow.keras.models import Sequential\n",
    "from tensorflow.keras.layers import Dense, Flatten\n",
    "from tensorflow.keras.datasets import mnist\n",
    "from tensorflow.keras.utils import to_categorical\n",
    "\n",
    "#(train_data, train_labels), (test_data, test_labels) = df_concatenated.load_data()\n",
    "#print(train_data)\n",
    "#print(test_labels)\n",
    "\n",
    "#train_labels_one_hot = to_categorical(train_labels, num_classes=6)\n",
    "#test_labels_one_hot = to_categorical(test_labels, num_classes=6)\n",
    "\n",
    "#train_data = df_encoded.head(800)\n",
    "#train_labels = df2['label'].head(800)\n",
    "#test_data = df_encoded[800:999]\n",
    "#test_labels = df2['label'][800:999]\n",
    "\n",
    "#train_data_np = train_data.to_numpy().astype('float32')\n",
    "#train_labels_np = to_categorical(train_labels.to_numpy())\n",
    "#train_labels_np = tf.keras.utils.to_categorical(train_labels_np, num_classes=6)\n",
    "#test_data_np = test_data.to_numpy().astype('float32')\n",
    "#test_labels_np = to_categorical(test_labels.to_numpy())\n",
    "#test_labels_np = tf.keras.utils.to_categorical(test_labels_np, num_classes=6)\n",
    "\n",
    "X_test = df_concatenated.head(4800).iloc[:, :-1].values\n",
    "y_test = df_concatenated.head(4800).iloc[:, -1].values\n",
    "X_train = df_concatenated[4800:].iloc[:, :-1].values\n",
    "y_train = df_concatenated[4800:].iloc[:, -1].values\n",
    "\n",
    "\n",
    "valid_indices1 = (y_train >= 0) & (y_train < 6)\n",
    "y_train_filtered = y_train[valid_indices1]\n",
    "y_train_one_hot = to_categorical(y_train_filtered, num_classes=6)\n",
    "\n",
    "valid_indices2 = (y_test >= 0) & (y_test < 6)\n",
    "y_test_filtered = y_test[valid_indices2]\n",
    "y_test_one_hot = to_categorical(y_test_filtered, num_classes =6)\n",
    "\n",
    "X_train_filtered=X_train[valid_indices1]\n",
    "X_test_filtered=X_test[valid_indices2]\n",
    "#print(X_test[-1].shape)\n",
    "\n",
    "\n",
    "model = Sequential([\n",
    "    Flatten(),\n",
    "    Dense(128, activation='relu'),\n",
    "    Dense(64, activation='relu'), \n",
    "    Dense(6, activation='softmax')\n",
    "])\n",
    "\n",
    "model.compile(optimizer='adam',\n",
    "              loss='categorical_crossentropy',\n",
    "              metrics=['accuracy'])\n",
    "\n",
    "model.fit(X_train_filtered, y_train_one_hot, epochs=3, batch_size=32)\n",
    "\n",
    "\n",
    "test_loss, test_acc = model.evaluate(X_test_filtered, y_test_one_hot, batch_size=32)\n",
    "\n",
    "print(f'Test accuracy: {test_acc}')\n"
   ]
  },
  {
   "cell_type": "code",
   "execution_count": 13,
   "id": "125ba1df",
   "metadata": {},
   "outputs": [],
   "source": [
    "model.save('modele_trained2.keras') "
   ]
  },
  {
   "cell_type": "code",
   "execution_count": 14,
   "id": "1afebee1",
   "metadata": {},
   "outputs": [],
   "source": [
    "from tensorflow.keras.models import load_model\n",
    "modele_charge = load_model('modele_trained2.keras')"
   ]
  },
  {
   "cell_type": "code",
   "execution_count": 15,
   "id": "5f1eace3",
   "metadata": {
    "tags": []
   },
   "outputs": [],
   "source": [
    "#df3=df.copy().head(1000)\n",
    "\n",
    "#def transf_en_hot(texte):\n",
    "    #texte_sep=[texte.split(' ',)]\n",
    "    #print(texte_sep)\n",
    "    #texte_df = pd.DataFrame([texte_sep])\n",
    "    #print(texte_df)\n",
    "    #df3=df.copy().head(1000)\n",
    "    #df3['text'] = df3['text'].str.split(' ',)\n",
    "    #df_total=pd.concat([df3['text'], texte_df], axis=0)\n",
    "    #print(df_total)\n",
    "    #df_total_vect = vectorizer.fit_transform(df_total[0])\n",
    "    #print(df_total_vect)\n",
    "    #df_total_encoded = pd.DataFrame(df_total_vect.toarray(), columns=vectorizer.get_feature_names_out())\n",
    "    #print(df_total_encoded)\n",
    "    #return(df_total_encoded.iloc[-1].values)\n",
    "\n",
    "def transf(texte,vectorizer):\n",
    "    texte_preprocessed = [texte]  # Appliquez votre logique de tokenisation/prétraitement si nécessaire\n",
    "    texte_vect = vectorizer.transform(texte_preprocessed)\n",
    "    return texte_vect.toarray()\n",
    "\n"
   ]
  },
  {
   "cell_type": "code",
   "execution_count": 18,
   "id": "332da69e",
   "metadata": {
    "tags": []
   },
   "outputs": [
    {
     "name": "stdout",
     "output_type": "stream",
     "text": [
      "1/1 [==============================] - 0s 51ms/step\n",
      "[[2.0004278e-01 2.4033841e-01 1.5325013e-04 5.5732298e-01 2.0277335e-03\n",
      "  1.1485131e-04]]\n",
      "[3]\n"
     ]
    }
   ],
   "source": [
    "prediction = modele_charge.predict(transf('i feel you deserve a jolly good rest',vectorizer))\n",
    "print(prediction)\n",
    "classe_predite = np.argmax(prediction, axis=1)\n",
    "print(classe_predite)\n"
   ]
  },
  {
   "cell_type": "code",
   "execution_count": null,
   "id": "8dbe58b9",
   "metadata": {},
   "outputs": [],
   "source": []
  },
  {
   "cell_type": "code",
   "execution_count": null,
   "id": "35aa952b",
   "metadata": {},
   "outputs": [],
   "source": []
  },
  {
   "cell_type": "code",
   "execution_count": null,
   "id": "f44a8c3c",
   "metadata": {},
   "outputs": [],
   "source": []
  }
 ],
 "metadata": {
  "kaggle": {
   "accelerator": "none",
   "dataSources": [
    {
     "datasetId": 4440512,
     "sourceId": 7623010,
     "sourceType": "datasetVersion"
    }
   ],
   "isGpuEnabled": false,
   "isInternetEnabled": false,
   "language": "python",
   "sourceType": "notebook"
  },
  "kernelspec": {
   "display_name": "Python 3 (ipykernel)",
   "language": "python",
   "name": "python3"
  },
  "language_info": {
   "codemirror_mode": {
    "name": "ipython",
    "version": 3
   },
   "file_extension": ".py",
   "mimetype": "text/x-python",
   "name": "python",
   "nbconvert_exporter": "python",
   "pygments_lexer": "ipython3",
   "version": "3.11.5"
  }
 },
 "nbformat": 4,
 "nbformat_minor": 5
}

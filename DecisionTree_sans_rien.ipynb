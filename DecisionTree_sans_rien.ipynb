{
 "cells": [
  {
   "cell_type": "code",
   "execution_count": 72,
   "id": "77d0c3d8",
   "metadata": {},
   "outputs": [],
   "source": [
    "import numpy as np\n",
    "import matplotlib.pyplot as plt\n",
    "import pandas as pd\n",
    "import sklearn\n",
    "from IPython.display import display\n",
    "from sklearn.feature_extraction.text import TfidfVectorizer\n"
   ]
  },
  {
   "cell_type": "code",
   "execution_count": 73,
   "id": "4df33add",
   "metadata": {},
   "outputs": [
    {
     "name": "stdout",
     "output_type": "stream",
     "text": [
      "     Unnamed: 0                                               text\n",
      "0             0      i just feel really helpless and heavy hearted\n",
      "1             1  ive enjoyed being able to slouch about relax a...\n",
      "2             2  i gave up my internship with the dmrg and am f...\n",
      "3             3                         i dont know i feel so lost\n",
      "4             4  i am a kindergarten teacher and i am thoroughl...\n",
      "..          ...                                                ...\n",
      "995         995  i would have stuck around but i was feeling so...\n",
      "996         996  i feel like im her stubborn client though i al...\n",
      "997         997  i just get caught up in the fun of the night a...\n",
      "998         998     i can not help but feel a little bit resentful\n",
      "999         999  i feel totally foolish for trying to talk her ...\n",
      "\n",
      "[1000 rows x 2 columns]\n",
      "     label\n",
      "0        4\n",
      "1        0\n",
      "2        4\n",
      "3        0\n",
      "4        4\n",
      "..     ...\n",
      "995      1\n",
      "996      3\n",
      "997      0\n",
      "998      3\n",
      "999      0\n",
      "\n",
      "[1000 rows x 1 columns]\n",
      "      Unnamed: 0                                               text\n",
      "1000        1000  im really feeling the pressure to provide just...\n",
      "1001        1001  i feel some how i still being the girl with th...\n",
      "1002        1002  i feel terrible of course that would be my ope...\n",
      "1003        1003  im sure russell though he couldnt have been fe...\n",
      "1004        1004  i wont go into it but ive been feeling really ...\n",
      "...          ...                                                ...\n",
      "1195        1195  i feel a proud fan in the end and believe that...\n",
      "1196        1196  i feel like jessica has been a loyal commenter...\n",
      "1197        1197  i was in a camp and went out for a walk at nig...\n",
      "1198        1198  i dont want her name to be able to be googled ...\n",
      "1199        1199  i was feeling the divine providence watching o...\n",
      "\n",
      "[200 rows x 2 columns]\n"
     ]
    }
   ],
   "source": [
    "df=pd.read_csv('text.csv')\n",
    "df2=df.copy().head(1000)\n",
    "df3=df.copy()\n",
    "df3=df3.iloc[1000:1200,:]\n",
    "#print(df2)\n",
    "valeursX=['text']\n",
    "valeursy=['label']\n",
    "y=df2[valeursy]\n",
    "X=df2.iloc[:,:-1]\n",
    "X_test=df3.iloc[:,:-1]\n",
    "y_test=df3.iloc[:,-1]\n",
    "print(X)\n",
    "print(y)\n",
    "print(X_test)\n"
   ]
  },
  {
   "cell_type": "code",
   "execution_count": 74,
   "id": "ece9cc4a",
   "metadata": {},
   "outputs": [
    {
     "data": {
      "text/plain": [
       "0      [i, just, feel, really, helpless, and, heavy, ...\n",
       "1      [ive, enjoyed, being, able, to, slouch, about,...\n",
       "2      [i, gave, up, my, internship, with, the, dmrg,...\n",
       "3                     [i, dont, know, i, feel, so, lost]\n",
       "4      [i, am, a, kindergarten, teacher, and, i, am, ...\n",
       "                             ...                        \n",
       "995    [i, would, have, stuck, around, but, i, was, f...\n",
       "996    [i, feel, like, im, her, stubborn, client, tho...\n",
       "997    [i, just, get, caught, up, in, the, fun, of, t...\n",
       "998    [i, can, not, help, but, feel, a, little, bit,...\n",
       "999    [i, feel, totally, foolish, for, trying, to, t...\n",
       "Name: text, Length: 1000, dtype: object"
      ]
     },
     "execution_count": 74,
     "metadata": {},
     "output_type": "execute_result"
    }
   ],
   "source": [
    "X_split = X['text'].str.split(' ')\n",
    "X_test_split= X_test['text'].str.split(' ')\n",
    "X_split"
   ]
  },
  {
   "cell_type": "code",
   "execution_count": 75,
   "id": "74ff0f25",
   "metadata": {},
   "outputs": [],
   "source": [
    "#vectorizer = TfidfVectorizer()\n",
    "\n",
    "#tfidf_matrix = vectorizer.fit_transform(X)\n",
    "\n",
    "#print(tfidf_matrix)\n",
    "\n",
    "#df4 = pd.DataFrame(tfidf_matrix.toarray(), columns=vectorizer.get_feature_names_out())\n",
    "\n",
    "#print(df4)"
   ]
  },
  {
   "cell_type": "code",
   "execution_count": 83,
   "id": "5198cb9b",
   "metadata": {},
   "outputs": [
    {
     "name": "stdout",
     "output_type": "stream",
     "text": [
      "     a  aaron  abandon  abandoned  abandonment  abilities  ability  abit  \\\n",
      "0    0      0        0          0            0          0        0     0   \n",
      "1    2      0        0          0            0          0        0     0   \n",
      "2    0      0        0          0            0          0        0     0   \n",
      "3    0      0        0          0            0          0        0     0   \n",
      "4    1      0        0          0            0          0        0     0   \n",
      "..  ..    ...      ...        ...          ...        ...      ...   ...   \n",
      "995  0      0        0          0            0          0        0     0   \n",
      "996  0      0        0          0            0          0        0     0   \n",
      "997  0      0        0          0            0          0        0     0   \n",
      "998  1      0        0          0            0          0        0     0   \n",
      "999  1      0        0          0            0          0        0     0   \n",
      "\n",
      "     able  abnormal  ...  yoma  you  young  your  youre  yourself  yummy  zen  \\\n",
      "0       0         0  ...     0    0      0     0      0         0      0    0   \n",
      "1       1         0  ...     0    0      0     0      0         0      0    0   \n",
      "2       0         0  ...     0    0      0     0      0         0      0    0   \n",
      "3       0         0  ...     0    0      0     0      0         0      0    0   \n",
      "4       0         0  ...     0    0      0     0      0         0      0    0   \n",
      "..    ...       ...  ...   ...  ...    ...   ...    ...       ...    ...  ...   \n",
      "995     0         0  ...     0    0      0     0      0         0      0    0   \n",
      "996     0         0  ...     0    0      0     0      0         0      0    0   \n",
      "997     0         0  ...     0    0      0     0      0         0      0    0   \n",
      "998     0         0  ...     0    0      0     0      0         0      0    0   \n",
      "999     0         0  ...     0    0      0     0      0         0      0    0   \n",
      "\n",
      "     zone  zooming  \n",
      "0       0        0  \n",
      "1       0        0  \n",
      "2       0        0  \n",
      "3       0        0  \n",
      "4       0        0  \n",
      "..    ...      ...  \n",
      "995     0        0  \n",
      "996     0        0  \n",
      "997     0        0  \n",
      "998     0        0  \n",
      "999     0        0  \n",
      "\n",
      "[1000 rows x 3142 columns]\n"
     ]
    },
    {
     "name": "stderr",
     "output_type": "stream",
     "text": [
      "C:\\Users\\cypri\\anaconda3\\Lib\\site-packages\\sklearn\\feature_extraction\\text.py:525: UserWarning: The parameter 'token_pattern' will not be used since 'tokenizer' is not None'\n",
      "  warnings.warn(\n"
     ]
    }
   ],
   "source": [
    "from sklearn.feature_extraction.text import CountVectorizer\n",
    "vectorizer = CountVectorizer(lowercase=False, tokenizer=lambda x: x, preprocessor=lambda x: x)\n",
    "\n",
    "X_encoded = vectorizer.fit_transform(X_split)\n",
    "X_test_encoded = vectorizer.transform(X_test_split)\n",
    "\n",
    "df_encoded = pd.DataFrame(X_encoded.toarray(), columns=vectorizer.get_feature_names_out())\n",
    "df_test_encoded = pd.DataFrame(X_test_encoded.toarray(), columns=vectorizer.get_feature_names_out())\n",
    "\n",
    "print(df_encoded)"
   ]
  },
  {
   "cell_type": "code",
   "execution_count": 94,
   "id": "cb44e4b5",
   "metadata": {},
   "outputs": [
    {
     "name": "stderr",
     "output_type": "stream",
     "text": [
      "C:\\Users\\cypri\\anaconda3\\Lib\\site-packages\\sklearn\\base.py:1151: DataConversionWarning: A column-vector y was passed when a 1d array was expected. Please change the shape of y to (n_samples,), for example using ravel().\n",
      "  return fit_method(estimator, *args, **kwargs)\n"
     ]
    },
    {
     "data": {
      "text/html": [
       "<style>#sk-container-id-5 {color: black;}#sk-container-id-5 pre{padding: 0;}#sk-container-id-5 div.sk-toggleable {background-color: white;}#sk-container-id-5 label.sk-toggleable__label {cursor: pointer;display: block;width: 100%;margin-bottom: 0;padding: 0.3em;box-sizing: border-box;text-align: center;}#sk-container-id-5 label.sk-toggleable__label-arrow:before {content: \"▸\";float: left;margin-right: 0.25em;color: #696969;}#sk-container-id-5 label.sk-toggleable__label-arrow:hover:before {color: black;}#sk-container-id-5 div.sk-estimator:hover label.sk-toggleable__label-arrow:before {color: black;}#sk-container-id-5 div.sk-toggleable__content {max-height: 0;max-width: 0;overflow: hidden;text-align: left;background-color: #f0f8ff;}#sk-container-id-5 div.sk-toggleable__content pre {margin: 0.2em;color: black;border-radius: 0.25em;background-color: #f0f8ff;}#sk-container-id-5 input.sk-toggleable__control:checked~div.sk-toggleable__content {max-height: 200px;max-width: 100%;overflow: auto;}#sk-container-id-5 input.sk-toggleable__control:checked~label.sk-toggleable__label-arrow:before {content: \"▾\";}#sk-container-id-5 div.sk-estimator input.sk-toggleable__control:checked~label.sk-toggleable__label {background-color: #d4ebff;}#sk-container-id-5 div.sk-label input.sk-toggleable__control:checked~label.sk-toggleable__label {background-color: #d4ebff;}#sk-container-id-5 input.sk-hidden--visually {border: 0;clip: rect(1px 1px 1px 1px);clip: rect(1px, 1px, 1px, 1px);height: 1px;margin: -1px;overflow: hidden;padding: 0;position: absolute;width: 1px;}#sk-container-id-5 div.sk-estimator {font-family: monospace;background-color: #f0f8ff;border: 1px dotted black;border-radius: 0.25em;box-sizing: border-box;margin-bottom: 0.5em;}#sk-container-id-5 div.sk-estimator:hover {background-color: #d4ebff;}#sk-container-id-5 div.sk-parallel-item::after {content: \"\";width: 100%;border-bottom: 1px solid gray;flex-grow: 1;}#sk-container-id-5 div.sk-label:hover label.sk-toggleable__label {background-color: #d4ebff;}#sk-container-id-5 div.sk-serial::before {content: \"\";position: absolute;border-left: 1px solid gray;box-sizing: border-box;top: 0;bottom: 0;left: 50%;z-index: 0;}#sk-container-id-5 div.sk-serial {display: flex;flex-direction: column;align-items: center;background-color: white;padding-right: 0.2em;padding-left: 0.2em;position: relative;}#sk-container-id-5 div.sk-item {position: relative;z-index: 1;}#sk-container-id-5 div.sk-parallel {display: flex;align-items: stretch;justify-content: center;background-color: white;position: relative;}#sk-container-id-5 div.sk-item::before, #sk-container-id-5 div.sk-parallel-item::before {content: \"\";position: absolute;border-left: 1px solid gray;box-sizing: border-box;top: 0;bottom: 0;left: 50%;z-index: -1;}#sk-container-id-5 div.sk-parallel-item {display: flex;flex-direction: column;z-index: 1;position: relative;background-color: white;}#sk-container-id-5 div.sk-parallel-item:first-child::after {align-self: flex-end;width: 50%;}#sk-container-id-5 div.sk-parallel-item:last-child::after {align-self: flex-start;width: 50%;}#sk-container-id-5 div.sk-parallel-item:only-child::after {width: 0;}#sk-container-id-5 div.sk-dashed-wrapped {border: 1px dashed gray;margin: 0 0.4em 0.5em 0.4em;box-sizing: border-box;padding-bottom: 0.4em;background-color: white;}#sk-container-id-5 div.sk-label label {font-family: monospace;font-weight: bold;display: inline-block;line-height: 1.2em;}#sk-container-id-5 div.sk-label-container {text-align: center;}#sk-container-id-5 div.sk-container {/* jupyter's `normalize.less` sets `[hidden] { display: none; }` but bootstrap.min.css set `[hidden] { display: none !important; }` so we also need the `!important` here to be able to override the default hidden behavior on the sphinx rendered scikit-learn.org. See: https://github.com/scikit-learn/scikit-learn/issues/21755 */display: inline-block !important;position: relative;}#sk-container-id-5 div.sk-text-repr-fallback {display: none;}</style><div id=\"sk-container-id-5\" class=\"sk-top-container\"><div class=\"sk-text-repr-fallback\"><pre>RandomForestClassifier(random_state=42)</pre><b>In a Jupyter environment, please rerun this cell to show the HTML representation or trust the notebook. <br />On GitHub, the HTML representation is unable to render, please try loading this page with nbviewer.org.</b></div><div class=\"sk-container\" hidden><div class=\"sk-item\"><div class=\"sk-estimator sk-toggleable\"><input class=\"sk-toggleable__control sk-hidden--visually\" id=\"sk-estimator-id-5\" type=\"checkbox\" checked><label for=\"sk-estimator-id-5\" class=\"sk-toggleable__label sk-toggleable__label-arrow\">RandomForestClassifier</label><div class=\"sk-toggleable__content\"><pre>RandomForestClassifier(random_state=42)</pre></div></div></div></div></div>"
      ],
      "text/plain": [
       "RandomForestClassifier(random_state=42)"
      ]
     },
     "execution_count": 94,
     "metadata": {},
     "output_type": "execute_result"
    }
   ],
   "source": [
    "from sklearn.ensemble import RandomForestClassifier\n",
    "\n",
    "model = RandomForestClassifier(n_estimators=100,random_state=42)\n",
    "\n",
    "model.fit(df_encoded, y)"
   ]
  },
  {
   "cell_type": "code",
   "execution_count": 95,
   "id": "38304650",
   "metadata": {},
   "outputs": [
    {
     "name": "stdout",
     "output_type": "stream",
     "text": [
      "[1 1 0 0 0 1 1 1 1 1 0 1 1 1 0 3 1 2 1 0 1 1 1 0 1 1 1 3 1 2 1 0 0 1 0 1 1\n",
      " 1 1 0 1 1 0 0 1 1 1 1 1 0 0 0 1 1 0 0 1 1 1 1 3 1 0 0 3 0 1 1 1 1 1 1 1 1\n",
      " 1 1 2 0 1 1 1 0 1 0 1 1 1 0 1 1 0 1 3 1 1 0 0 0 0 3 4 1 3 1 0 1 2 0 0 1 0\n",
      " 3 4 2 1 0 2 1 1 1 1 1 0 1 1 1 0 1 4 1 1 1 0 1 1 4 0 0 1 1 1 1 0 0 1 1 0 1\n",
      " 1 0 1 1 1 1 1 1 0 2 1 3 1 0 1 1 1 0 1 1 1 1 1 1 1 0 0 1 1 1 1 1 1 1 1 1 0\n",
      " 0 0 1 0 1 1 0 4 1 0 1 1 0 0 1]\n"
     ]
    }
   ],
   "source": [
    "predictions = model.predict(df_test_encoded)\n",
    "print(predictions)"
   ]
  },
  {
   "cell_type": "code",
   "execution_count": 96,
   "id": "a7cb1b58",
   "metadata": {},
   "outputs": [
    {
     "name": "stdout",
     "output_type": "stream",
     "text": [
      "Mean Squared Error: 2.085\n",
      "Accuracy: 0.555\n",
      "R² score: -0.013365735115431265\n"
     ]
    }
   ],
   "source": [
    "from sklearn.metrics import mean_squared_error, r2_score, accuracy_score\n",
    "\n",
    "mse = mean_squared_error(y_test, predictions)\n",
    "print(\"Mean Squared Error:\", mse)\n",
    "\n",
    "accuracy = accuracy_score(y_test, predictions)\n",
    "print(f\"Accuracy: {accuracy}\")\n",
    "\n",
    "r2 = r2_score(y_test, predictions)\n",
    "print(\"R² score:\", r2)\n"
   ]
  },
  {
   "cell_type": "code",
   "execution_count": null,
   "id": "dd8dbf08",
   "metadata": {},
   "outputs": [],
   "source": []
  }
 ],
 "metadata": {
  "kernelspec": {
   "display_name": "Python 3 (ipykernel)",
   "language": "python",
   "name": "python3"
  },
  "language_info": {
   "codemirror_mode": {
    "name": "ipython",
    "version": 3
   },
   "file_extension": ".py",
   "mimetype": "text/x-python",
   "name": "python",
   "nbconvert_exporter": "python",
   "pygments_lexer": "ipython3",
   "version": "3.11.5"
  }
 },
 "nbformat": 4,
 "nbformat_minor": 5
}

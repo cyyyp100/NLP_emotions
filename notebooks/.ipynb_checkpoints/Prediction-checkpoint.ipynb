{
 "cells": [
  {
   "cell_type": "code",
   "execution_count": null,
   "id": "5dc26a47",
   "metadata": {},
   "outputs": [],
   "source": [
    "import pandas as pd\n",
    "import os\n",
    "import matplotlib.pyplot as plt\n",
    "import numpy as np \n",
    "import sklearn\n",
    "import numpy as np\n",
    "import tensorflow as tf\n",
    "tf.__version__\n",
    "from tensorflow.keras.models import Sequential\n",
    "from tensorflow.keras.layers import Dense, Flatten\n",
    "from tensorflow.keras.datasets import mnist\n",
    "from tensorflow.keras.utils import to_categorical\n",
    "from lissage2 import lissage \n",
    "from buts import but_match\n"
   ]
  },
  {
   "cell_type": "code",
   "execution_count": null,
   "id": "874c46aa",
   "metadata": {},
   "outputs": [],
   "source": [
    "data=pd.read_csv('C:\\\\Users\\\\cypri\\\\Desktop\\\\Ecole\\\\ingenieur_logiciel\\\\Missionfoot\\\\DataEtMonCode\\\\Data_csv\\\\donnees_match_MHSC_ASM_2-3_traite.csv')\n",
    "print(data.dtypes)\n",
    "buts_match = but_match(data)\n",
    "print(buts_match)"
   ]
  },
  {
   "cell_type": "code",
   "execution_count": null,
   "id": "dd232ed2",
   "metadata": {},
   "outputs": [],
   "source": [
    "n = 6000\n",
    "nombre_de_groupes = len(data) // n + (1 if len(data) % n != 0 else 0)\n",
    "\n",
    "# Créer une liste pour stocker les groupes\n",
    "groupes = []\n",
    "\n",
    "# Diviser le DataFrame en groupes de 6000\n",
    "for i in range(nombre_de_groupes):\n",
    "    start_index = i * n\n",
    "    end_index = start_index + n\n",
    "    groupe = data.iloc[start_index:end_index]\n",
    "    groupes.append(groupe)\n",
    "\n",
    "labels = {}\n",
    "for i in range(len(data)):\n",
    "    if i in buts_match:\n",
    "        labels.append(1)\n",
    "    else:\n",
    "        labels.append(0)\n",
    "\n",
    "labels = pd.DataFrame(labels)\n",
    "\n"
   ]
  },
  {
   "cell_type": "code",
   "execution_count": null,
   "id": "efdc7111",
   "metadata": {},
   "outputs": [],
   "source": [
    "model = Sequential([\n",
    "    Flatten(),\n",
    "    Dense(128, activation='relu'),\n",
    "    Dense(64, activation='relu'), \n",
    "    Dense(6, activation='softmax')\n",
    "])\n",
    "\n",
    "# Compilez le modèle\n",
    "model.compile(optimizer='adam', loss='binary_crossentropy', metrics=['accuracy'])\n",
    "\n",
    "\n",
    "# Supposons que chaque DataFrame contient une partie des données\n",
    "for dataframe in [df1, df2, df3]:\n",
    "    X = dataframe[features_columns]\n",
    "    y = dataframe[label_column]\n",
    "    model.fit(X, y, epochs=1, batch_size=32)"
   ]
  }
 ],
 "metadata": {
  "kernelspec": {
   "display_name": "Python 3 (ipykernel)",
   "language": "python",
   "name": "python3"
  },
  "language_info": {
   "codemirror_mode": {
    "name": "ipython",
    "version": 3
   },
   "file_extension": ".py",
   "mimetype": "text/x-python",
   "name": "python",
   "nbconvert_exporter": "python",
   "pygments_lexer": "ipython3",
   "version": "3.11.5"
  }
 },
 "nbformat": 4,
 "nbformat_minor": 5
}

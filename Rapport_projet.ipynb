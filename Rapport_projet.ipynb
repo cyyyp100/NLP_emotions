{
  "nbformat": 4,
  "nbformat_minor": 0,
  "metadata": {
    "colab": {
      "provenance": [],
      "machine_shape": "hm",
      "collapsed_sections": [
        "9aFDKpY8xYGO"
      ]
    },
    "kernelspec": {
      "name": "python3",
      "display_name": "Python 3"
    },
    "language_info": {
      "name": "python"
    }
  },
  "cells": [
    {
      "cell_type": "markdown",
      "source": [
        "#Projet de ML : Prédiction d'émotions associées à des tweets."
      ],
      "metadata": {
        "id": "xY2rBofatdVJ"
      }
    },
    {
      "cell_type": "markdown",
      "source": [
        "**Plan** :\n",
        "\n",
        "*   Introduction\n",
        "\n",
        "Notre problématique\n",
        "Présentation du jeu de données\n",
        "Réflexion : comment associer notre problématique à un problème de ML\n",
        "\n",
        "* Partie 1 : Prétraitement des données : sélection du nombre de lignes\n",
        "\n",
        "* Partie 2 : Prétraitement BOW et modèle NLP\n",
        "\n",
        "* Partie 3 : Prétaitement Word Embedding et modèle NLP\n",
        "\n",
        "* Partie 4 : Prétraitement CountVectorizer et Random Forest\n",
        "\n",
        "* Partie 5 : Prétraitement CountVectorizer et Decision Tree\n",
        "\n",
        "* Partie 6 : Prétraitement Tfidf (avec ou sans stop words) et NLP\n",
        "\n",
        "* Partie 7 : Comparaison et choix du modèle\n",
        "\n",
        "* Conclusion\n",
        "\n",
        "\n",
        "\n",
        "\n",
        "\n",
        "**Intro** :\n",
        "\n",
        "Dans ce notebook, nous vous présentons notre démarche pour répondre à la problématique suivante :\n",
        "\n",
        "*   Comment déterminer les émotions associées à un grand ensemble de phrases sous la forme de tweets ?\n",
        "\n",
        "Nous avons extrait un jeu de données \"Emotions\" du site Kaggle. Ce jeu de données contient plus de 400 000 lignes et 2 colonnes. Chaque ligne correspond à un tweet différent. La première colonne reprend le tweet (en anglais) sous forme de chaîne de caractère. La deuxième colonne renvoie un nombre entre 0 et 5 qui correspond à l'émotion associé.\n",
        "\n",
        "Voici la liste des émotions et le chiffre associé : Tristesse (0), Joie (1), Amour (2), Colère (3), Peur (4) et Surprise (5).\n",
        "\n",
        "Voici un extrait du jeu de données (5 premières lignes) pour avoir une idée de la structure :\n",
        "\n",
        "\n",
        "text,label\n",
        "i just feel really helpless and heavy hearted,4\n",
        "\n",
        "i dont know i feel so lost,0\n",
        "\n",
        "i would think that whomever would be lucky enough to stay in this suite must feel like it is the most romantic place on earth,2\n",
        "\n",
        "i fear that they won t ever feel that delicious excitement of christmas eve at least not in the same way i remember doing it,1\n",
        "\n",
        "\n",
        "Pour répondre à cette problématique et aux attentes du projet, nous avons développé une approche de type apprentissage supervisé. Ici, nous avons un problème de type classification linéaire multiclasses. Il faut donc choisir des modèles de ce type pour répondre à notre problématique (on exclue les modèles de type régression linéaire).\n",
        "\n",
        "Ci-dessous, l'importation des bibliothèques pour notre projet.\n"
      ],
      "metadata": {
        "id": "qDYkfZrgYVBR"
      }
    },
    {
      "cell_type": "code",
      "execution_count": null,
      "metadata": {
        "id": "i-9nGu1qYHkY"
      },
      "outputs": [],
      "source": [
        "import numpy as np\n",
        "import matplotlib.pyplot as plt\n",
        "import pandas as pd\n",
        "import sklearn\n",
        "from IPython.display import display"
      ]
    },
    {
      "cell_type": "code",
      "source": [
        "df=pd.read_csv('text.csv')"
      ],
      "metadata": {
        "id": "tZz-pfUKh4bC"
      },
      "execution_count": null,
      "outputs": []
    },
    {
      "cell_type": "markdown",
      "source": [
        "#Partie 1 : Prétraitement des données : sélection du nombre de lignes\n",
        "\n",
        "\n",
        "* Sélection du nombre de lignes\n",
        "\n",
        "Nous avons été contraints de sélectionner un nombre de lignes limité. Lors de la transformation de la colonne texte avec les différentes méthodes de vectorisation, nous augmentons considérablement la taille de notre dataframe. Le volume de données à traiter est proportionnel à la mémoire RAM nécessaire pour faire tourner le programme. Alors pour que notre programme soit performant tout en limitant la RAM utilisée nous avons décidé de limiter notre jeu de données à 30 000 lignes."
      ],
      "metadata": {
        "id": "9aFDKpY8xYGO"
      }
    },
    {
      "cell_type": "code",
      "source": [
        "df1=df.copy().head(30000)  # dataset que l'on va utiliser pour le BOW\n",
        "df2=df.copy().head(30000)  # dataset que l'on va utiliser pour le Word embedding\n",
        "df3=df.copy().head(10000)  # dataset que l'on va utiliser pour le RandomForest et DecisionTree\n",
        "df4=df.copy().head(10000)  # dataset que l'on va utiliser pour le TF-IDF\n",
        "df5=df.copy() # dataset que l'on va utiliser pour l'équilibrage des données"
      ],
      "metadata": {
        "id": "Z4zeYeNgsEmd"
      },
      "execution_count": null,
      "outputs": []
    },
    {
      "cell_type": "markdown",
      "source": [
        "* Equilibrage des données ou données brut\n",
        "\n",
        "La cellule ci-dessous créée un DataFrame df6 dans lequel nous avons autant de 0 (Tristesse) que de 1 (Joie) que de 2 (Amour)... L'objectif est d'entraîner autant les données pour chaque émotion. Nous nous sommes rendus compte qu'il y avait beaucoup moins de tweets donc l'émotion associé est la surprise. Dans la suite de notre projet, nous avons la possibilité d'utiliser df6 ou non pour l'équilibrage des données."
      ],
      "metadata": {
        "id": "owUXNvf6y5Zx"
      }
    },
    {
      "cell_type": "code",
      "source": [
        "data0=df5.loc[df5['label']==0].head(5000)\n",
        "data1=df5.loc[df5['label']==1].head(5000)\n",
        "data2=df5.loc[df5['label']==2].head(5000)\n",
        "data3=df5.loc[df5['label']==3].head(5000)\n",
        "data4=df5.loc[df5['label']==4].head(5000)\n",
        "data5=df5.loc[df5['label']==5].head(5000)\n",
        "df6=pd.concat([data0,data1,data2,data3,data4,data5], axis=0)\n",
        "df6"
      ],
      "metadata": {
        "id": "ya4WmCrlh6uQ",
        "colab": {
          "base_uri": "https://localhost:8080/",
          "height": 423
        },
        "outputId": "d9d493c8-e49b-440b-a442-65f5bd3c952d"
      },
      "execution_count": null,
      "outputs": [
        {
          "output_type": "execute_result",
          "data": {
            "text/plain": [
              "       Unnamed: 0                                               text  label\n",
              "1               1  ive enjoyed being able to slouch about relax a...    0.0\n",
              "3               3                         i dont know i feel so lost    0.0\n",
              "5               5         i was beginning to feel quite disheartened    0.0\n",
              "9               9  i can still lose the weight without feeling de...    0.0\n",
              "11             11  im feeling a little like a damaged tree and th...    0.0\n",
              "...           ...                                                ...    ...\n",
              "19475       19475  i really dislike talking about my feelings unl...    5.0\n",
              "19499       19499  i have learnt to stop and question my thinking...    5.0\n",
              "19538       19538  i feel like the chance card below was funny an...    5.0\n",
              "19539       19539          i wasn t feeling so impressed with myself    5.0\n",
              "19629       19629  i think about everything that i need to do hav...    5.0\n",
              "\n",
              "[17199 rows x 3 columns]"
            ],
            "text/html": [
              "\n",
              "  <div id=\"df-c4f36790-ffa3-4cf9-a32d-a00f78553988\" class=\"colab-df-container\">\n",
              "    <div>\n",
              "<style scoped>\n",
              "    .dataframe tbody tr th:only-of-type {\n",
              "        vertical-align: middle;\n",
              "    }\n",
              "\n",
              "    .dataframe tbody tr th {\n",
              "        vertical-align: top;\n",
              "    }\n",
              "\n",
              "    .dataframe thead th {\n",
              "        text-align: right;\n",
              "    }\n",
              "</style>\n",
              "<table border=\"1\" class=\"dataframe\">\n",
              "  <thead>\n",
              "    <tr style=\"text-align: right;\">\n",
              "      <th></th>\n",
              "      <th>Unnamed: 0</th>\n",
              "      <th>text</th>\n",
              "      <th>label</th>\n",
              "    </tr>\n",
              "  </thead>\n",
              "  <tbody>\n",
              "    <tr>\n",
              "      <th>1</th>\n",
              "      <td>1</td>\n",
              "      <td>ive enjoyed being able to slouch about relax a...</td>\n",
              "      <td>0.0</td>\n",
              "    </tr>\n",
              "    <tr>\n",
              "      <th>3</th>\n",
              "      <td>3</td>\n",
              "      <td>i dont know i feel so lost</td>\n",
              "      <td>0.0</td>\n",
              "    </tr>\n",
              "    <tr>\n",
              "      <th>5</th>\n",
              "      <td>5</td>\n",
              "      <td>i was beginning to feel quite disheartened</td>\n",
              "      <td>0.0</td>\n",
              "    </tr>\n",
              "    <tr>\n",
              "      <th>9</th>\n",
              "      <td>9</td>\n",
              "      <td>i can still lose the weight without feeling de...</td>\n",
              "      <td>0.0</td>\n",
              "    </tr>\n",
              "    <tr>\n",
              "      <th>11</th>\n",
              "      <td>11</td>\n",
              "      <td>im feeling a little like a damaged tree and th...</td>\n",
              "      <td>0.0</td>\n",
              "    </tr>\n",
              "    <tr>\n",
              "      <th>...</th>\n",
              "      <td>...</td>\n",
              "      <td>...</td>\n",
              "      <td>...</td>\n",
              "    </tr>\n",
              "    <tr>\n",
              "      <th>19475</th>\n",
              "      <td>19475</td>\n",
              "      <td>i really dislike talking about my feelings unl...</td>\n",
              "      <td>5.0</td>\n",
              "    </tr>\n",
              "    <tr>\n",
              "      <th>19499</th>\n",
              "      <td>19499</td>\n",
              "      <td>i have learnt to stop and question my thinking...</td>\n",
              "      <td>5.0</td>\n",
              "    </tr>\n",
              "    <tr>\n",
              "      <th>19538</th>\n",
              "      <td>19538</td>\n",
              "      <td>i feel like the chance card below was funny an...</td>\n",
              "      <td>5.0</td>\n",
              "    </tr>\n",
              "    <tr>\n",
              "      <th>19539</th>\n",
              "      <td>19539</td>\n",
              "      <td>i wasn t feeling so impressed with myself</td>\n",
              "      <td>5.0</td>\n",
              "    </tr>\n",
              "    <tr>\n",
              "      <th>19629</th>\n",
              "      <td>19629</td>\n",
              "      <td>i think about everything that i need to do hav...</td>\n",
              "      <td>5.0</td>\n",
              "    </tr>\n",
              "  </tbody>\n",
              "</table>\n",
              "<p>17199 rows × 3 columns</p>\n",
              "</div>\n",
              "    <div class=\"colab-df-buttons\">\n",
              "\n",
              "  <div class=\"colab-df-container\">\n",
              "    <button class=\"colab-df-convert\" onclick=\"convertToInteractive('df-c4f36790-ffa3-4cf9-a32d-a00f78553988')\"\n",
              "            title=\"Convert this dataframe to an interactive table.\"\n",
              "            style=\"display:none;\">\n",
              "\n",
              "  <svg xmlns=\"http://www.w3.org/2000/svg\" height=\"24px\" viewBox=\"0 -960 960 960\">\n",
              "    <path d=\"M120-120v-720h720v720H120Zm60-500h600v-160H180v160Zm220 220h160v-160H400v160Zm0 220h160v-160H400v160ZM180-400h160v-160H180v160Zm440 0h160v-160H620v160ZM180-180h160v-160H180v160Zm440 0h160v-160H620v160Z\"/>\n",
              "  </svg>\n",
              "    </button>\n",
              "\n",
              "  <style>\n",
              "    .colab-df-container {\n",
              "      display:flex;\n",
              "      gap: 12px;\n",
              "    }\n",
              "\n",
              "    .colab-df-convert {\n",
              "      background-color: #E8F0FE;\n",
              "      border: none;\n",
              "      border-radius: 50%;\n",
              "      cursor: pointer;\n",
              "      display: none;\n",
              "      fill: #1967D2;\n",
              "      height: 32px;\n",
              "      padding: 0 0 0 0;\n",
              "      width: 32px;\n",
              "    }\n",
              "\n",
              "    .colab-df-convert:hover {\n",
              "      background-color: #E2EBFA;\n",
              "      box-shadow: 0px 1px 2px rgba(60, 64, 67, 0.3), 0px 1px 3px 1px rgba(60, 64, 67, 0.15);\n",
              "      fill: #174EA6;\n",
              "    }\n",
              "\n",
              "    .colab-df-buttons div {\n",
              "      margin-bottom: 4px;\n",
              "    }\n",
              "\n",
              "    [theme=dark] .colab-df-convert {\n",
              "      background-color: #3B4455;\n",
              "      fill: #D2E3FC;\n",
              "    }\n",
              "\n",
              "    [theme=dark] .colab-df-convert:hover {\n",
              "      background-color: #434B5C;\n",
              "      box-shadow: 0px 1px 3px 1px rgba(0, 0, 0, 0.15);\n",
              "      filter: drop-shadow(0px 1px 2px rgba(0, 0, 0, 0.3));\n",
              "      fill: #FFFFFF;\n",
              "    }\n",
              "  </style>\n",
              "\n",
              "    <script>\n",
              "      const buttonEl =\n",
              "        document.querySelector('#df-c4f36790-ffa3-4cf9-a32d-a00f78553988 button.colab-df-convert');\n",
              "      buttonEl.style.display =\n",
              "        google.colab.kernel.accessAllowed ? 'block' : 'none';\n",
              "\n",
              "      async function convertToInteractive(key) {\n",
              "        const element = document.querySelector('#df-c4f36790-ffa3-4cf9-a32d-a00f78553988');\n",
              "        const dataTable =\n",
              "          await google.colab.kernel.invokeFunction('convertToInteractive',\n",
              "                                                    [key], {});\n",
              "        if (!dataTable) return;\n",
              "\n",
              "        const docLinkHtml = 'Like what you see? Visit the ' +\n",
              "          '<a target=\"_blank\" href=https://colab.research.google.com/notebooks/data_table.ipynb>data table notebook</a>'\n",
              "          + ' to learn more about interactive tables.';\n",
              "        element.innerHTML = '';\n",
              "        dataTable['output_type'] = 'display_data';\n",
              "        await google.colab.output.renderOutput(dataTable, element);\n",
              "        const docLink = document.createElement('div');\n",
              "        docLink.innerHTML = docLinkHtml;\n",
              "        element.appendChild(docLink);\n",
              "      }\n",
              "    </script>\n",
              "  </div>\n",
              "\n",
              "\n",
              "<div id=\"df-808addab-812c-44bc-bbe2-8266d1301d45\">\n",
              "  <button class=\"colab-df-quickchart\" onclick=\"quickchart('df-808addab-812c-44bc-bbe2-8266d1301d45')\"\n",
              "            title=\"Suggest charts\"\n",
              "            style=\"display:none;\">\n",
              "\n",
              "<svg xmlns=\"http://www.w3.org/2000/svg\" height=\"24px\"viewBox=\"0 0 24 24\"\n",
              "     width=\"24px\">\n",
              "    <g>\n",
              "        <path d=\"M19 3H5c-1.1 0-2 .9-2 2v14c0 1.1.9 2 2 2h14c1.1 0 2-.9 2-2V5c0-1.1-.9-2-2-2zM9 17H7v-7h2v7zm4 0h-2V7h2v10zm4 0h-2v-4h2v4z\"/>\n",
              "    </g>\n",
              "</svg>\n",
              "  </button>\n",
              "\n",
              "<style>\n",
              "  .colab-df-quickchart {\n",
              "      --bg-color: #E8F0FE;\n",
              "      --fill-color: #1967D2;\n",
              "      --hover-bg-color: #E2EBFA;\n",
              "      --hover-fill-color: #174EA6;\n",
              "      --disabled-fill-color: #AAA;\n",
              "      --disabled-bg-color: #DDD;\n",
              "  }\n",
              "\n",
              "  [theme=dark] .colab-df-quickchart {\n",
              "      --bg-color: #3B4455;\n",
              "      --fill-color: #D2E3FC;\n",
              "      --hover-bg-color: #434B5C;\n",
              "      --hover-fill-color: #FFFFFF;\n",
              "      --disabled-bg-color: #3B4455;\n",
              "      --disabled-fill-color: #666;\n",
              "  }\n",
              "\n",
              "  .colab-df-quickchart {\n",
              "    background-color: var(--bg-color);\n",
              "    border: none;\n",
              "    border-radius: 50%;\n",
              "    cursor: pointer;\n",
              "    display: none;\n",
              "    fill: var(--fill-color);\n",
              "    height: 32px;\n",
              "    padding: 0;\n",
              "    width: 32px;\n",
              "  }\n",
              "\n",
              "  .colab-df-quickchart:hover {\n",
              "    background-color: var(--hover-bg-color);\n",
              "    box-shadow: 0 1px 2px rgba(60, 64, 67, 0.3), 0 1px 3px 1px rgba(60, 64, 67, 0.15);\n",
              "    fill: var(--button-hover-fill-color);\n",
              "  }\n",
              "\n",
              "  .colab-df-quickchart-complete:disabled,\n",
              "  .colab-df-quickchart-complete:disabled:hover {\n",
              "    background-color: var(--disabled-bg-color);\n",
              "    fill: var(--disabled-fill-color);\n",
              "    box-shadow: none;\n",
              "  }\n",
              "\n",
              "  .colab-df-spinner {\n",
              "    border: 2px solid var(--fill-color);\n",
              "    border-color: transparent;\n",
              "    border-bottom-color: var(--fill-color);\n",
              "    animation:\n",
              "      spin 1s steps(1) infinite;\n",
              "  }\n",
              "\n",
              "  @keyframes spin {\n",
              "    0% {\n",
              "      border-color: transparent;\n",
              "      border-bottom-color: var(--fill-color);\n",
              "      border-left-color: var(--fill-color);\n",
              "    }\n",
              "    20% {\n",
              "      border-color: transparent;\n",
              "      border-left-color: var(--fill-color);\n",
              "      border-top-color: var(--fill-color);\n",
              "    }\n",
              "    30% {\n",
              "      border-color: transparent;\n",
              "      border-left-color: var(--fill-color);\n",
              "      border-top-color: var(--fill-color);\n",
              "      border-right-color: var(--fill-color);\n",
              "    }\n",
              "    40% {\n",
              "      border-color: transparent;\n",
              "      border-right-color: var(--fill-color);\n",
              "      border-top-color: var(--fill-color);\n",
              "    }\n",
              "    60% {\n",
              "      border-color: transparent;\n",
              "      border-right-color: var(--fill-color);\n",
              "    }\n",
              "    80% {\n",
              "      border-color: transparent;\n",
              "      border-right-color: var(--fill-color);\n",
              "      border-bottom-color: var(--fill-color);\n",
              "    }\n",
              "    90% {\n",
              "      border-color: transparent;\n",
              "      border-bottom-color: var(--fill-color);\n",
              "    }\n",
              "  }\n",
              "</style>\n",
              "\n",
              "  <script>\n",
              "    async function quickchart(key) {\n",
              "      const quickchartButtonEl =\n",
              "        document.querySelector('#' + key + ' button');\n",
              "      quickchartButtonEl.disabled = true;  // To prevent multiple clicks.\n",
              "      quickchartButtonEl.classList.add('colab-df-spinner');\n",
              "      try {\n",
              "        const charts = await google.colab.kernel.invokeFunction(\n",
              "            'suggestCharts', [key], {});\n",
              "      } catch (error) {\n",
              "        console.error('Error during call to suggestCharts:', error);\n",
              "      }\n",
              "      quickchartButtonEl.classList.remove('colab-df-spinner');\n",
              "      quickchartButtonEl.classList.add('colab-df-quickchart-complete');\n",
              "    }\n",
              "    (() => {\n",
              "      let quickchartButtonEl =\n",
              "        document.querySelector('#df-808addab-812c-44bc-bbe2-8266d1301d45 button');\n",
              "      quickchartButtonEl.style.display =\n",
              "        google.colab.kernel.accessAllowed ? 'block' : 'none';\n",
              "    })();\n",
              "  </script>\n",
              "</div>\n",
              "    </div>\n",
              "  </div>\n"
            ],
            "application/vnd.google.colaboratory.intrinsic+json": {
              "type": "dataframe",
              "variable_name": "df6",
              "summary": "{\n  \"name\": \"df6\",\n  \"rows\": 17199,\n  \"fields\": [\n    {\n      \"column\": \"Unnamed: 0\",\n      \"properties\": {\n        \"dtype\": \"number\",\n        \"std\": 5176,\n        \"min\": 0,\n        \"max\": 19677,\n        \"num_unique_values\": 17199,\n        \"samples\": [\n          14019,\n          4289,\n          10361\n        ],\n        \"semantic_type\": \"\",\n        \"description\": \"\"\n      }\n    },\n    {\n      \"column\": \"text\",\n      \"properties\": {\n        \"dtype\": \"string\",\n        \"num_unique_values\": 17154,\n        \"samples\": [\n          \"i was feeling a bit annoyed with him constantly being on me so i tried to distract him away from nursing during the day\",\n          \"i was trying very hard not to feel envious of those tweeting their journey and arrival in london then at the unconference and then providing link to photographs of the event\",\n          \"i think at the time i was on my way out the door and didnt really feel like being bothered with putting it back\"\n        ],\n        \"semantic_type\": \"\",\n        \"description\": \"\"\n      }\n    },\n    {\n      \"column\": \"label\",\n      \"properties\": {\n        \"dtype\": \"number\",\n        \"std\": 1.547336515589825,\n        \"min\": 0.0,\n        \"max\": 5.0,\n        \"num_unique_values\": 6,\n        \"samples\": [\n          0.0,\n          1.0,\n          5.0\n        ],\n        \"semantic_type\": \"\",\n        \"description\": \"\"\n      }\n    }\n  ]\n}"
            }
          },
          "metadata": {},
          "execution_count": 7
        }
      ]
    },
    {
      "cell_type": "markdown",
      "source": [
        "#Partie 2 : Prétraitement BOW et modèle NLP\n",
        "\n",
        "* Choix du vectorizer\n",
        "\n",
        "Premier vectorizer : le Bag of Words (BOW). Le principe est le suivant : la machine va lire chaque phrase et placer tous les mots dans un sac (d'où sac de mots). Les mots uniques forment nos caractéristiques (nos nouvelles colonnes), Ensuite on transforme les tweets initiaux en vecteur. On associe l'occurence de chaque mot de notre vecteur en fonction des caractéristiques. (Par exemple \"le chat poursuit le chien\" pourrait être un vecteur [2,1,1,1,0] où nos caractéristiques seraient (\"le\", \"chat\", \"poursuit\", \"chien\", \"maison\")"
      ],
      "metadata": {
        "id": "zxb6cyhFNhEQ"
      }
    },
    {
      "cell_type": "code",
      "source": [
        "from sklearn.feature_extraction.text import CountVectorizer\n",
        "vectorizer_BOW = CountVectorizer(lowercase=False, tokenizer=lambda x: x, preprocessor=lambda x: x)\n",
        "\n",
        "df1['text'] = df1['text'].str.split(' ',)\n",
        "\n",
        "X_BOW = vectorizer_BOW.fit_transform(df1['text'])\n",
        "\n",
        "df_encoded_BOW = pd.DataFrame(X_BOW.toarray(), columns=vectorizer_BOW.get_feature_names_out())\n",
        "\n",
        "df_concatenated_BOW  = pd.concat([df_encoded_BOW, df1['label']], axis=1)"
      ],
      "metadata": {
        "id": "lnHAMivxtkdm",
        "colab": {
          "base_uri": "https://localhost:8080/"
        },
        "outputId": "a3106c4e-8528-4fd7-bf37-732a118fc71a"
      },
      "execution_count": null,
      "outputs": [
        {
          "output_type": "stream",
          "name": "stderr",
          "text": [
            "/usr/local/lib/python3.10/dist-packages/sklearn/feature_extraction/text.py:528: UserWarning: The parameter 'token_pattern' will not be used since 'tokenizer' is not None'\n",
            "  warnings.warn(\n"
          ]
        }
      ]
    },
    {
      "cell_type": "code",
      "source": [
        "import numpy as np\n",
        "import tensorflow as tf\n",
        "tf.__version__\n",
        "from tensorflow.keras.models import Sequential\n",
        "from tensorflow.keras.layers import Dense, Flatten\n",
        "from tensorflow.keras.datasets import mnist\n",
        "from tensorflow.keras.utils import to_categorical\n",
        "\n",
        "\n",
        "X_test_BOW = df_concatenated_BOW.head(24000).iloc[:, :-1].values\n",
        "y_test_BOW = df_concatenated_BOW.head(24000).iloc[:, -1].values\n",
        "X_train_BOW = df_concatenated_BOW[24000:].iloc[:, :-1].values\n",
        "y_train_BOW = df_concatenated_BOW[24000:].iloc[:, -1].values\n",
        "\n",
        "\n",
        "valid_indices1 = (y_train_BOW >= 0) & (y_train_BOW < 6)\n",
        "y_train_BOW_filtered = y_train_BOW[valid_indices1]\n",
        "y_train_BOW_one_hot = to_categorical(y_train_BOW_filtered, num_classes=6)\n",
        "\n",
        "valid_indices2 = (y_test_BOW >= 0) & (y_test_BOW < 6)\n",
        "y_test_BOW_filtered = y_test_BOW[valid_indices2]\n",
        "y_test_BOW_one_hot = to_categorical(y_test_BOW_filtered, num_classes =6)\n",
        "\n",
        "X_train_BOW_filtered=X_train_BOW[valid_indices1]\n",
        "X_test_BOW_filtered=X_test_BOW[valid_indices2]"
      ],
      "metadata": {
        "id": "mgAXeWI2v1ls"
      },
      "execution_count": null,
      "outputs": []
    },
    {
      "cell_type": "markdown",
      "source": [
        "Après avoir réalisé le pré-traitement des données et divisé notre jeu de données en données d'entraînement et de test, nous allons appliquer un modèle de type ANN (réseaux de neurones) avec 2 premières couches de 128 et 64 neurones et notre dernière couche applicative. Nos hyperparamètres sont fixés à 3 epochs (chaque entrée est vue 3 fois en tout dans le modèle) et 32 batch size (lors de chaque itération du modèle, le réseaux de données verra 32 entrées à la fois, soit 24 000/32 = 750 itérations/epoch)."
      ],
      "metadata": {
        "id": "Al_9mW6iNzBJ"
      }
    },
    {
      "cell_type": "code",
      "source": [
        "model_BOW = Sequential([\n",
        "    Flatten(),\n",
        "    Dense(128, activation='relu'),\n",
        "    Dense(64, activation='relu'),\n",
        "    Dense(6, activation='softmax')\n",
        "])\n",
        "\n",
        "model_BOW.compile(optimizer='adam',\n",
        "              loss='categorical_crossentropy',\n",
        "              metrics=['accuracy'])\n",
        "\n",
        "model_BOW.fit(X_train_BOW_filtered, y_train_BOW_one_hot, epochs=3, batch_size=32)\n"
      ],
      "metadata": {
        "id": "Hds-RGFav6Ry",
        "colab": {
          "base_uri": "https://localhost:8080/",
          "height": 356
        },
        "outputId": "d6520c62-6bc5-4159-e3ed-ac4e1ae102b4"
      },
      "execution_count": null,
      "outputs": [
        {
          "output_type": "error",
          "ename": "ValueError",
          "evalue": "Expected input data to be non-empty.",
          "traceback": [
            "\u001b[0;31m---------------------------------------------------------------------------\u001b[0m",
            "\u001b[0;31mValueError\u001b[0m                                Traceback (most recent call last)",
            "\u001b[0;32m<ipython-input-15-14a4938f5cd6>\u001b[0m in \u001b[0;36m<cell line: 12>\u001b[0;34m()\u001b[0m\n\u001b[1;32m     10\u001b[0m               metrics=['accuracy'])\n\u001b[1;32m     11\u001b[0m \u001b[0;34m\u001b[0m\u001b[0m\n\u001b[0;32m---> 12\u001b[0;31m \u001b[0mmodel_BOW\u001b[0m\u001b[0;34m.\u001b[0m\u001b[0mfit\u001b[0m\u001b[0;34m(\u001b[0m\u001b[0mX_train_BOW_filtered\u001b[0m\u001b[0;34m,\u001b[0m \u001b[0my_train_BOW_one_hot\u001b[0m\u001b[0;34m,\u001b[0m \u001b[0mepochs\u001b[0m\u001b[0;34m=\u001b[0m\u001b[0;36m3\u001b[0m\u001b[0;34m,\u001b[0m \u001b[0mbatch_size\u001b[0m\u001b[0;34m=\u001b[0m\u001b[0;36m32\u001b[0m\u001b[0;34m)\u001b[0m\u001b[0;34m\u001b[0m\u001b[0;34m\u001b[0m\u001b[0m\n\u001b[0m",
            "\u001b[0;32m/usr/local/lib/python3.10/dist-packages/keras/src/utils/traceback_utils.py\u001b[0m in \u001b[0;36merror_handler\u001b[0;34m(*args, **kwargs)\u001b[0m\n\u001b[1;32m     68\u001b[0m             \u001b[0;31m# To get the full stack trace, call:\u001b[0m\u001b[0;34m\u001b[0m\u001b[0;34m\u001b[0m\u001b[0m\n\u001b[1;32m     69\u001b[0m             \u001b[0;31m# `tf.debugging.disable_traceback_filtering()`\u001b[0m\u001b[0;34m\u001b[0m\u001b[0;34m\u001b[0m\u001b[0m\n\u001b[0;32m---> 70\u001b[0;31m             \u001b[0;32mraise\u001b[0m \u001b[0me\u001b[0m\u001b[0;34m.\u001b[0m\u001b[0mwith_traceback\u001b[0m\u001b[0;34m(\u001b[0m\u001b[0mfiltered_tb\u001b[0m\u001b[0;34m)\u001b[0m \u001b[0;32mfrom\u001b[0m \u001b[0;32mNone\u001b[0m\u001b[0;34m\u001b[0m\u001b[0;34m\u001b[0m\u001b[0m\n\u001b[0m\u001b[1;32m     71\u001b[0m         \u001b[0;32mfinally\u001b[0m\u001b[0;34m:\u001b[0m\u001b[0;34m\u001b[0m\u001b[0;34m\u001b[0m\u001b[0m\n\u001b[1;32m     72\u001b[0m             \u001b[0;32mdel\u001b[0m \u001b[0mfiltered_tb\u001b[0m\u001b[0;34m\u001b[0m\u001b[0;34m\u001b[0m\u001b[0m\n",
            "\u001b[0;32m/usr/local/lib/python3.10/dist-packages/keras/src/engine/data_adapter.py\u001b[0m in \u001b[0;36m__init__\u001b[0;34m(self, x, y, sample_weight, batch_size, steps_per_epoch, initial_epoch, epochs, shuffle, class_weight, max_queue_size, workers, use_multiprocessing, model, steps_per_execution, distribute, pss_evaluation_shards)\u001b[0m\n\u001b[1;32m   1317\u001b[0m \u001b[0;34m\u001b[0m\u001b[0m\n\u001b[1;32m   1318\u001b[0m         \u001b[0;32mif\u001b[0m \u001b[0mself\u001b[0m\u001b[0;34m.\u001b[0m\u001b[0m_inferred_steps\u001b[0m \u001b[0;34m==\u001b[0m \u001b[0;36m0\u001b[0m\u001b[0;34m:\u001b[0m\u001b[0;34m\u001b[0m\u001b[0;34m\u001b[0m\u001b[0m\n\u001b[0;32m-> 1319\u001b[0;31m             \u001b[0;32mraise\u001b[0m \u001b[0mValueError\u001b[0m\u001b[0;34m(\u001b[0m\u001b[0;34m\"Expected input data to be non-empty.\"\u001b[0m\u001b[0;34m)\u001b[0m\u001b[0;34m\u001b[0m\u001b[0;34m\u001b[0m\u001b[0m\n\u001b[0m\u001b[1;32m   1320\u001b[0m \u001b[0;34m\u001b[0m\u001b[0m\n\u001b[1;32m   1321\u001b[0m     def _configure_dataset_and_inferred_steps(\n",
            "\u001b[0;31mValueError\u001b[0m: Expected input data to be non-empty."
          ]
        }
      ]
    },
    {
      "cell_type": "markdown",
      "source": [
        "Ci-dessous, nous évaluons la précision du modèle. La précision sera utilisée pour comparer nos modèles et evaluer le plus performant à hyperparamètres égaux.\n",
        "\n",
        "\n",
        "Nous codons également la fonction qui transforme n'importe quel texte (tweet) en vecteur avec la technique bag of words. L'idée est de tester pour n'importe quelle phrase. Nous souhaitions tester à la main notre modèle sur des exemples de notre jeu de données que nous n'avions pas utiliser pour l'entraînement."
      ],
      "metadata": {
        "id": "EmG__lQZO2Ad"
      }
    },
    {
      "cell_type": "code",
      "source": [
        "test_loss_BOW, test_acc_BOW = model_BOW.evaluate(X_test_BOW_filtered, y_test_BOW_one_hot, batch_size=32)\n",
        "\n",
        "print(f'Test accuracy: {test_acc_BOW}')\n",
        "\n",
        "def transf_BOW(texte,vectorizer):\n",
        "    texte_preprocessed = [texte]  # Appliquez votre logique de tokenisation/prétraitement si nécessaire\n",
        "    texte_vect = vectorizer.transform(texte_preprocessed)\n",
        "    return texte_vect.toarray()"
      ],
      "metadata": {
        "id": "7LIDEjVYwkki",
        "colab": {
          "base_uri": "https://localhost:8080/"
        },
        "outputId": "b3008368-6902-43a0-f26a-f54dcefe2aff"
      },
      "execution_count": null,
      "outputs": [
        {
          "output_type": "stream",
          "name": "stdout",
          "text": [
            "750/750 [==============================] - 3s 4ms/step - loss: 0.5073 - accuracy: 0.8417\n",
            "Test accuracy: 0.8416666388511658\n"
          ]
        }
      ]
    },
    {
      "cell_type": "code",
      "source": [
        "prediction_BOW  = model_BOW.predict(transf_BOW('i feel like being mentally tortured',vectorizer_BOW))\n",
        "print(prediction_BOW)\n",
        "classe_predite_BOW = np.argmax(prediction_BOW , axis=1)\n",
        "print(classe_predite_BOW)"
      ],
      "metadata": {
        "id": "ntANo4-HwmeK",
        "colab": {
          "base_uri": "https://localhost:8080/"
        },
        "outputId": "9af15d85-a922-4a39-999b-2b58872daf93"
      },
      "execution_count": null,
      "outputs": [
        {
          "output_type": "stream",
          "name": "stdout",
          "text": [
            "1/1 [==============================] - 0s 66ms/step\n",
            "[[2.9968101e-01 3.9132207e-04 2.4681360e-05 6.9980264e-01 8.3711238e-05\n",
            "  1.6709388e-05]]\n",
            "[3]\n"
          ]
        }
      ]
    },
    {
      "cell_type": "markdown",
      "source": [
        "# Partie 3 : Word embedding et modèle NLP\n",
        "\n",
        "Le prétraitement que nous allons voir ici est le word embedding. Le principe du word embedding est de capturer les relations sémantiques entre une suite de mot. Chaque caractéristique reprend une relation sémantique. On vectorise chaque tweet en associant un nombre : par exemple entre 0 et 1 pour chaque caractéristique avec 1 la similarité parfaite. On applique ensuite un modèle de régression logistique multiclasse de type one vs all (modèle par défaut dans la bibliothèque sklearn).\n",
        "\n",
        "Word embedding (df2)"
      ],
      "metadata": {
        "id": "XpDpEs1tXwab"
      }
    },
    {
      "cell_type": "code",
      "source": [
        "X_emb = df2.text\n",
        "X_split_emb= X_emb.str.split(' ',)\n",
        "X_list_emb = X_split_emb.tolist()\n",
        "\n",
        "X_train_emb= X_list_emb[:24000]\n",
        "X_test_emb = X_list_emb[24001:]\n",
        "\n",
        "y_train_emb= df2[:24000].iloc[:, -1].values\n",
        "y_test_emb=df2[24001:].iloc[:, -1].values"
      ],
      "metadata": {
        "id": "Fab8S5xIxIuk"
      },
      "execution_count": null,
      "outputs": []
    },
    {
      "cell_type": "code",
      "source": [
        "from gensim.models import Word2Vec\n",
        "import numpy as np\n",
        "from sklearn.linear_model import LogisticRegression\n",
        "from sklearn.metrics import log_loss\n",
        "\n",
        "model = Word2Vec(X_train_emb, vector_size=100, window=5, min_count=1, workers=4)\n",
        "\n",
        "\n",
        "X_vec_train_emb = np.array([np.mean([model.wv[word] for word in sentence if word in model.wv], axis=0) for sentence in X_train_emb])\n",
        "X_vec_test_emb = np.array([np.mean([model.wv[word] for word in sentence if word in model.wv], axis=0) for sentence in X_test_emb])\n",
        "\n",
        "\n",
        "classifier_emb = LogisticRegression()\n",
        "classifier_emb.fit(X_vec_train_emb , y_train_emb)"
      ],
      "metadata": {
        "id": "BKuloFXh0eAI",
        "colab": {
          "base_uri": "https://localhost:8080/",
          "height": 210
        },
        "outputId": "8663e8ef-0a4a-48bb-fc65-467243adf511"
      },
      "execution_count": null,
      "outputs": [
        {
          "output_type": "stream",
          "name": "stderr",
          "text": [
            "/usr/local/lib/python3.10/dist-packages/sklearn/linear_model/_logistic.py:458: ConvergenceWarning: lbfgs failed to converge (status=1):\n",
            "STOP: TOTAL NO. of ITERATIONS REACHED LIMIT.\n",
            "\n",
            "Increase the number of iterations (max_iter) or scale the data as shown in:\n",
            "    https://scikit-learn.org/stable/modules/preprocessing.html\n",
            "Please also refer to the documentation for alternative solver options:\n",
            "    https://scikit-learn.org/stable/modules/linear_model.html#logistic-regression\n",
            "  n_iter_i = _check_optimize_result(\n"
          ]
        },
        {
          "output_type": "execute_result",
          "data": {
            "text/plain": [
              "LogisticRegression()"
            ],
            "text/html": [
              "<style>#sk-container-id-4 {color: black;background-color: white;}#sk-container-id-4 pre{padding: 0;}#sk-container-id-4 div.sk-toggleable {background-color: white;}#sk-container-id-4 label.sk-toggleable__label {cursor: pointer;display: block;width: 100%;margin-bottom: 0;padding: 0.3em;box-sizing: border-box;text-align: center;}#sk-container-id-4 label.sk-toggleable__label-arrow:before {content: \"▸\";float: left;margin-right: 0.25em;color: #696969;}#sk-container-id-4 label.sk-toggleable__label-arrow:hover:before {color: black;}#sk-container-id-4 div.sk-estimator:hover label.sk-toggleable__label-arrow:before {color: black;}#sk-container-id-4 div.sk-toggleable__content {max-height: 0;max-width: 0;overflow: hidden;text-align: left;background-color: #f0f8ff;}#sk-container-id-4 div.sk-toggleable__content pre {margin: 0.2em;color: black;border-radius: 0.25em;background-color: #f0f8ff;}#sk-container-id-4 input.sk-toggleable__control:checked~div.sk-toggleable__content {max-height: 200px;max-width: 100%;overflow: auto;}#sk-container-id-4 input.sk-toggleable__control:checked~label.sk-toggleable__label-arrow:before {content: \"▾\";}#sk-container-id-4 div.sk-estimator input.sk-toggleable__control:checked~label.sk-toggleable__label {background-color: #d4ebff;}#sk-container-id-4 div.sk-label input.sk-toggleable__control:checked~label.sk-toggleable__label {background-color: #d4ebff;}#sk-container-id-4 input.sk-hidden--visually {border: 0;clip: rect(1px 1px 1px 1px);clip: rect(1px, 1px, 1px, 1px);height: 1px;margin: -1px;overflow: hidden;padding: 0;position: absolute;width: 1px;}#sk-container-id-4 div.sk-estimator {font-family: monospace;background-color: #f0f8ff;border: 1px dotted black;border-radius: 0.25em;box-sizing: border-box;margin-bottom: 0.5em;}#sk-container-id-4 div.sk-estimator:hover {background-color: #d4ebff;}#sk-container-id-4 div.sk-parallel-item::after {content: \"\";width: 100%;border-bottom: 1px solid gray;flex-grow: 1;}#sk-container-id-4 div.sk-label:hover label.sk-toggleable__label {background-color: #d4ebff;}#sk-container-id-4 div.sk-serial::before {content: \"\";position: absolute;border-left: 1px solid gray;box-sizing: border-box;top: 0;bottom: 0;left: 50%;z-index: 0;}#sk-container-id-4 div.sk-serial {display: flex;flex-direction: column;align-items: center;background-color: white;padding-right: 0.2em;padding-left: 0.2em;position: relative;}#sk-container-id-4 div.sk-item {position: relative;z-index: 1;}#sk-container-id-4 div.sk-parallel {display: flex;align-items: stretch;justify-content: center;background-color: white;position: relative;}#sk-container-id-4 div.sk-item::before, #sk-container-id-4 div.sk-parallel-item::before {content: \"\";position: absolute;border-left: 1px solid gray;box-sizing: border-box;top: 0;bottom: 0;left: 50%;z-index: -1;}#sk-container-id-4 div.sk-parallel-item {display: flex;flex-direction: column;z-index: 1;position: relative;background-color: white;}#sk-container-id-4 div.sk-parallel-item:first-child::after {align-self: flex-end;width: 50%;}#sk-container-id-4 div.sk-parallel-item:last-child::after {align-self: flex-start;width: 50%;}#sk-container-id-4 div.sk-parallel-item:only-child::after {width: 0;}#sk-container-id-4 div.sk-dashed-wrapped {border: 1px dashed gray;margin: 0 0.4em 0.5em 0.4em;box-sizing: border-box;padding-bottom: 0.4em;background-color: white;}#sk-container-id-4 div.sk-label label {font-family: monospace;font-weight: bold;display: inline-block;line-height: 1.2em;}#sk-container-id-4 div.sk-label-container {text-align: center;}#sk-container-id-4 div.sk-container {/* jupyter's `normalize.less` sets `[hidden] { display: none; }` but bootstrap.min.css set `[hidden] { display: none !important; }` so we also need the `!important` here to be able to override the default hidden behavior on the sphinx rendered scikit-learn.org. See: https://github.com/scikit-learn/scikit-learn/issues/21755 */display: inline-block !important;position: relative;}#sk-container-id-4 div.sk-text-repr-fallback {display: none;}</style><div id=\"sk-container-id-4\" class=\"sk-top-container\"><div class=\"sk-text-repr-fallback\"><pre>LogisticRegression()</pre><b>In a Jupyter environment, please rerun this cell to show the HTML representation or trust the notebook. <br />On GitHub, the HTML representation is unable to render, please try loading this page with nbviewer.org.</b></div><div class=\"sk-container\" hidden><div class=\"sk-item\"><div class=\"sk-estimator sk-toggleable\"><input class=\"sk-toggleable__control sk-hidden--visually\" id=\"sk-estimator-id-4\" type=\"checkbox\" checked><label for=\"sk-estimator-id-4\" class=\"sk-toggleable__label sk-toggleable__label-arrow\">LogisticRegression</label><div class=\"sk-toggleable__content\"><pre>LogisticRegression()</pre></div></div></div></div></div>"
            ]
          },
          "metadata": {},
          "execution_count": 95
        }
      ]
    },
    {
      "cell_type": "markdown",
      "source": [
        "Ici, comme pour le modèle précédent, on détermine la précision et également la perte."
      ],
      "metadata": {
        "id": "fv_2R65HZ44H"
      }
    },
    {
      "cell_type": "code",
      "source": [
        "y_pred_proba_emb = classifier_emb.predict_proba(X_vec_test_emb)\n",
        "test_acc = classifier_emb.score(X_vec_test_emb, y_test_emb)\n",
        "print(f'Test accuracy: {test_acc}')\n",
        "\n",
        "test_loss = log_loss(y_test_emb, y_pred_proba_emb)\n",
        "print(f'Test loss: {test_loss}')\n"
      ],
      "metadata": {
        "id": "ZkchgHC20fq1",
        "colab": {
          "base_uri": "https://localhost:8080/"
        },
        "outputId": "ee13bd0c-ce36-413c-b583-417c79dcbe43"
      },
      "execution_count": null,
      "outputs": [
        {
          "output_type": "stream",
          "name": "stdout",
          "text": [
            "Test accuracy: 0.3878979829971662\n",
            "Test loss: 1.5246668942298063\n"
          ]
        }
      ]
    },
    {
      "cell_type": "code",
      "source": [
        "new_doc = \"i feel like i have been neglecting you my faithful reader s\".split()  # Tokenisation simple\n",
        "new_doc_vector = np.mean([model.wv[word] for word in new_doc if word in model.wv], axis=0).reshape(1, -1)\n",
        "\n",
        "prediction_emb = classifier_emb.predict(new_doc_vector)\n",
        "print(prediction_emb)"
      ],
      "metadata": {
        "id": "4FMzjAFt0jo6",
        "colab": {
          "base_uri": "https://localhost:8080/"
        },
        "outputId": "b8012526-b747-4ce3-c911-e7b20a8cf8c1"
      },
      "execution_count": null,
      "outputs": [
        {
          "output_type": "stream",
          "name": "stdout",
          "text": [
            "[0]\n"
          ]
        }
      ]
    },
    {
      "cell_type": "markdown",
      "source": [
        "# Partie 4 : Prétraitement CountVectorizer et Random Forest\n",
        "\n",
        "\n",
        "Le modèle que nous allons évaluer maintenant est random forest qui fonctionne en construisant un ensemble d'arbres de décision pendant la phase d'entraînement. Chaque arbre est formé sur un sous-ensemble aléatoire des données d'entraînement et utilise un sous-ensemble aléatoire des caractéristiques pour prendre des décisions. Lors de la prédiction, chaque arbre donne sa propre prédiction, et la prédiction finale est obtenue par un vote majoritaire (pour la classification) ou une moyenne (pour la régression) des prédictions individuelles des arbres.\n",
        "\n",
        "RandomForest (df3)"
      ],
      "metadata": {
        "id": "5TsuHfFXg7oC"
      }
    },
    {
      "cell_type": "code",
      "source": [
        "valeursX=['text']\n",
        "valeursy=['label']\n",
        "y_train_RF=df3[:8000].iloc[:,-1]\n",
        "X_train_RF=df3[:8000].iloc[:,:-1]\n",
        "X_test_RF=df3[8001:].iloc[:,:-1]\n",
        "y_test_RF=df3[8001:].iloc[:,-1]"
      ],
      "metadata": {
        "id": "jXMY7d8x0sup"
      },
      "execution_count": null,
      "outputs": []
    },
    {
      "cell_type": "code",
      "source": [
        "X_train_split_RF = X_train_RF['text'].str.split(' ')\n",
        "X_test_split_RF= X_test_RF['text'].str.split(' ')\n",
        "X_train_split_RF"
      ],
      "metadata": {
        "id": "kUMczDEO2M-o",
        "colab": {
          "base_uri": "https://localhost:8080/"
        },
        "outputId": "4aaa0cbe-bff5-4f51-e009-814cb28b76dc"
      },
      "execution_count": null,
      "outputs": [
        {
          "output_type": "execute_result",
          "data": {
            "text/plain": [
              "0       [i, just, feel, really, helpless, and, heavy, ...\n",
              "1       [ive, enjoyed, being, able, to, slouch, about,...\n",
              "2       [i, gave, up, my, internship, with, the, dmrg,...\n",
              "3                      [i, dont, know, i, feel, so, lost]\n",
              "4       [i, am, a, kindergarten, teacher, and, i, am, ...\n",
              "                              ...                        \n",
              "7995    [i, did, feel, very, elegant, suddenly, portma...\n",
              "7996                  [i, was, already, feeling, nervous]\n",
              "7997    [i, walk, around, dressed, plainly, im, talkin...\n",
              "7998    [i, used, the, little, evian, water, spray, wh...\n",
              "7999    [i, had, taken, piriton, which, just, makes, m...\n",
              "Name: text, Length: 8000, dtype: object"
            ]
          },
          "metadata": {},
          "execution_count": 99
        }
      ]
    },
    {
      "cell_type": "code",
      "source": [
        "from sklearn.feature_extraction.text import CountVectorizer\n",
        "vectorizer_RF = CountVectorizer(lowercase=False, tokenizer=lambda x: x, preprocessor=lambda x: x)\n",
        "\n",
        "X_train_encoded_RF = vectorizer_RF.fit_transform(X_train_split_RF)\n",
        "X_test_encoded_RF = vectorizer_RF.transform(X_test_split_RF)\n",
        "\n",
        "df_train_encoded_RF = pd.DataFrame(X_train_encoded_RF.toarray(), columns=vectorizer_RF.get_feature_names_out())\n",
        "df_test_encoded_RF = pd.DataFrame(X_test_encoded_RF.toarray(), columns=vectorizer_RF.get_feature_names_out())\n"
      ],
      "metadata": {
        "id": "AhFUIpsx2PXF",
        "colab": {
          "base_uri": "https://localhost:8080/"
        },
        "outputId": "de4b1740-f13b-4998-e237-11a1cc510673"
      },
      "execution_count": null,
      "outputs": [
        {
          "output_type": "stream",
          "name": "stderr",
          "text": [
            "/usr/local/lib/python3.10/dist-packages/sklearn/feature_extraction/text.py:528: UserWarning: The parameter 'token_pattern' will not be used since 'tokenizer' is not None'\n",
            "  warnings.warn(\n"
          ]
        }
      ]
    },
    {
      "cell_type": "code",
      "source": [
        "from sklearn.ensemble import RandomForestClassifier\n",
        "\n",
        "model_RF = RandomForestClassifier(n_estimators=100,random_state=42)\n",
        "\n",
        "model_RF.fit(df_train_encoded_RF, y_train_RF)"
      ],
      "metadata": {
        "id": "ySZEKThv2Upe",
        "colab": {
          "base_uri": "https://localhost:8080/",
          "height": 74
        },
        "outputId": "a720fafe-5565-4914-ffa6-aa8463ab6eb5"
      },
      "execution_count": null,
      "outputs": [
        {
          "output_type": "execute_result",
          "data": {
            "text/plain": [
              "RandomForestClassifier(random_state=42)"
            ],
            "text/html": [
              "<style>#sk-container-id-5 {color: black;background-color: white;}#sk-container-id-5 pre{padding: 0;}#sk-container-id-5 div.sk-toggleable {background-color: white;}#sk-container-id-5 label.sk-toggleable__label {cursor: pointer;display: block;width: 100%;margin-bottom: 0;padding: 0.3em;box-sizing: border-box;text-align: center;}#sk-container-id-5 label.sk-toggleable__label-arrow:before {content: \"▸\";float: left;margin-right: 0.25em;color: #696969;}#sk-container-id-5 label.sk-toggleable__label-arrow:hover:before {color: black;}#sk-container-id-5 div.sk-estimator:hover label.sk-toggleable__label-arrow:before {color: black;}#sk-container-id-5 div.sk-toggleable__content {max-height: 0;max-width: 0;overflow: hidden;text-align: left;background-color: #f0f8ff;}#sk-container-id-5 div.sk-toggleable__content pre {margin: 0.2em;color: black;border-radius: 0.25em;background-color: #f0f8ff;}#sk-container-id-5 input.sk-toggleable__control:checked~div.sk-toggleable__content {max-height: 200px;max-width: 100%;overflow: auto;}#sk-container-id-5 input.sk-toggleable__control:checked~label.sk-toggleable__label-arrow:before {content: \"▾\";}#sk-container-id-5 div.sk-estimator input.sk-toggleable__control:checked~label.sk-toggleable__label {background-color: #d4ebff;}#sk-container-id-5 div.sk-label input.sk-toggleable__control:checked~label.sk-toggleable__label {background-color: #d4ebff;}#sk-container-id-5 input.sk-hidden--visually {border: 0;clip: rect(1px 1px 1px 1px);clip: rect(1px, 1px, 1px, 1px);height: 1px;margin: -1px;overflow: hidden;padding: 0;position: absolute;width: 1px;}#sk-container-id-5 div.sk-estimator {font-family: monospace;background-color: #f0f8ff;border: 1px dotted black;border-radius: 0.25em;box-sizing: border-box;margin-bottom: 0.5em;}#sk-container-id-5 div.sk-estimator:hover {background-color: #d4ebff;}#sk-container-id-5 div.sk-parallel-item::after {content: \"\";width: 100%;border-bottom: 1px solid gray;flex-grow: 1;}#sk-container-id-5 div.sk-label:hover label.sk-toggleable__label {background-color: #d4ebff;}#sk-container-id-5 div.sk-serial::before {content: \"\";position: absolute;border-left: 1px solid gray;box-sizing: border-box;top: 0;bottom: 0;left: 50%;z-index: 0;}#sk-container-id-5 div.sk-serial {display: flex;flex-direction: column;align-items: center;background-color: white;padding-right: 0.2em;padding-left: 0.2em;position: relative;}#sk-container-id-5 div.sk-item {position: relative;z-index: 1;}#sk-container-id-5 div.sk-parallel {display: flex;align-items: stretch;justify-content: center;background-color: white;position: relative;}#sk-container-id-5 div.sk-item::before, #sk-container-id-5 div.sk-parallel-item::before {content: \"\";position: absolute;border-left: 1px solid gray;box-sizing: border-box;top: 0;bottom: 0;left: 50%;z-index: -1;}#sk-container-id-5 div.sk-parallel-item {display: flex;flex-direction: column;z-index: 1;position: relative;background-color: white;}#sk-container-id-5 div.sk-parallel-item:first-child::after {align-self: flex-end;width: 50%;}#sk-container-id-5 div.sk-parallel-item:last-child::after {align-self: flex-start;width: 50%;}#sk-container-id-5 div.sk-parallel-item:only-child::after {width: 0;}#sk-container-id-5 div.sk-dashed-wrapped {border: 1px dashed gray;margin: 0 0.4em 0.5em 0.4em;box-sizing: border-box;padding-bottom: 0.4em;background-color: white;}#sk-container-id-5 div.sk-label label {font-family: monospace;font-weight: bold;display: inline-block;line-height: 1.2em;}#sk-container-id-5 div.sk-label-container {text-align: center;}#sk-container-id-5 div.sk-container {/* jupyter's `normalize.less` sets `[hidden] { display: none; }` but bootstrap.min.css set `[hidden] { display: none !important; }` so we also need the `!important` here to be able to override the default hidden behavior on the sphinx rendered scikit-learn.org. See: https://github.com/scikit-learn/scikit-learn/issues/21755 */display: inline-block !important;position: relative;}#sk-container-id-5 div.sk-text-repr-fallback {display: none;}</style><div id=\"sk-container-id-5\" class=\"sk-top-container\"><div class=\"sk-text-repr-fallback\"><pre>RandomForestClassifier(random_state=42)</pre><b>In a Jupyter environment, please rerun this cell to show the HTML representation or trust the notebook. <br />On GitHub, the HTML representation is unable to render, please try loading this page with nbviewer.org.</b></div><div class=\"sk-container\" hidden><div class=\"sk-item\"><div class=\"sk-estimator sk-toggleable\"><input class=\"sk-toggleable__control sk-hidden--visually\" id=\"sk-estimator-id-5\" type=\"checkbox\" checked><label for=\"sk-estimator-id-5\" class=\"sk-toggleable__label sk-toggleable__label-arrow\">RandomForestClassifier</label><div class=\"sk-toggleable__content\"><pre>RandomForestClassifier(random_state=42)</pre></div></div></div></div></div>"
            ]
          },
          "metadata": {},
          "execution_count": 101
        }
      ]
    },
    {
      "cell_type": "code",
      "source": [
        "predictions_RF = model_RF.predict(df_test_encoded_RF)\n",
        "print(predictions_RF)"
      ],
      "metadata": {
        "id": "X4uHuuHU2WQN",
        "colab": {
          "base_uri": "https://localhost:8080/"
        },
        "outputId": "04b37b90-2872-4213-fa1b-713cc92e3a08"
      },
      "execution_count": null,
      "outputs": [
        {
          "output_type": "stream",
          "name": "stdout",
          "text": [
            "[0 1 0 ... 0 0 1]\n"
          ]
        }
      ]
    },
    {
      "cell_type": "markdown",
      "source": [
        "Ici, en plus de la précision, on évalue le modèle avec l'erreur moyenne quadratique, et le score R^2"
      ],
      "metadata": {
        "id": "SYaD1bapiHCm"
      }
    },
    {
      "cell_type": "code",
      "source": [
        "from sklearn.metrics import mean_squared_error, r2_score, accuracy_score\n",
        "\n",
        "mse_RF = mean_squared_error(y_test_RF, predictions_RF)\n",
        "print(\"Mean Squared Error:\", mse_RF)\n",
        "\n",
        "accuracy_RF = accuracy_score(y_test_RF, predictions_RF)\n",
        "print(f\"Accuracy: {accuracy_RF}\")\n",
        "\n",
        "r2_RF = r2_score(y_test_RF, predictions_RF)\n",
        "print(\"R² score:\", r2_RF)"
      ],
      "metadata": {
        "id": "hdPt5hVH2Xpz",
        "colab": {
          "base_uri": "https://localhost:8080/"
        },
        "outputId": "fd691b94-8a19-4e8b-f4e1-555e62b49bb9"
      },
      "execution_count": null,
      "outputs": [
        {
          "output_type": "stream",
          "name": "stdout",
          "text": [
            "Mean Squared Error: 0.7113556778389195\n",
            "Accuracy: 0.848424212106053\n",
            "R² score: 0.6735521444365509\n"
          ]
        }
      ]
    },
    {
      "cell_type": "markdown",
      "source": [
        "# Partie 5 : Prétraitement CountVectorizer et Decision Tree\n",
        "\n",
        "\n",
        "Lorsque nous utilisons un modèle d'Arbre de Décision pour prédire l'émotion d'un tweet, nous commençons par prétraiter le tweet pour le rendre compatible avec le modèle. Ensuite, le tweet est transformé en une représentation numérique qui est ensuite introduite dans l'arbre de décision. À chaque étape de l'arbre, une caractéristique spécifique du tweet est évaluée, guidant le flux de données à travers les branches de l'arbre jusqu'à ce qu'une décision soit prise. Cette décision finale détermine l'émotion prédite pour le tweet.\n",
        "\n",
        "DecisionTree (df4)"
      ],
      "metadata": {
        "id": "kTIqb1DHjokN"
      }
    },
    {
      "cell_type": "code",
      "source": [
        "valeursX=['text']\n",
        "valeursy=['label']\n",
        "y_train_DT=df4[:8000].iloc[:,-1]\n",
        "X_train_DT=df4[:8000].iloc[:,:-1]\n",
        "X_test_DT=df4[8001:].iloc[:,:-1]\n",
        "y_test_DT=df4[8001:].iloc[:,-1]"
      ],
      "metadata": {
        "id": "bwDLLn842peT"
      },
      "execution_count": null,
      "outputs": []
    },
    {
      "cell_type": "code",
      "source": [
        "X_train_split_DT = X_train_DT['text'].str.split(' ')\n",
        "X_test_split_DT= X_test_DT['text'].str.split(' ')\n",
        "X_train_split_DT"
      ],
      "metadata": {
        "id": "JV71Lew020fp",
        "colab": {
          "base_uri": "https://localhost:8080/"
        },
        "outputId": "e9a8d0ad-11fe-4fce-ffaa-6d177359ff23"
      },
      "execution_count": null,
      "outputs": [
        {
          "output_type": "execute_result",
          "data": {
            "text/plain": [
              "0       [i, just, feel, really, helpless, and, heavy, ...\n",
              "1       [ive, enjoyed, being, able, to, slouch, about,...\n",
              "2       [i, gave, up, my, internship, with, the, dmrg,...\n",
              "3                      [i, dont, know, i, feel, so, lost]\n",
              "4       [i, am, a, kindergarten, teacher, and, i, am, ...\n",
              "                              ...                        \n",
              "7995    [i, did, feel, very, elegant, suddenly, portma...\n",
              "7996                  [i, was, already, feeling, nervous]\n",
              "7997    [i, walk, around, dressed, plainly, im, talkin...\n",
              "7998    [i, used, the, little, evian, water, spray, wh...\n",
              "7999    [i, had, taken, piriton, which, just, makes, m...\n",
              "Name: text, Length: 8000, dtype: object"
            ]
          },
          "metadata": {},
          "execution_count": 105
        }
      ]
    },
    {
      "cell_type": "code",
      "source": [
        "from sklearn.feature_extraction.text import CountVectorizer\n",
        "vectorizer_DT = CountVectorizer(lowercase=False, tokenizer=lambda x: x, preprocessor=lambda x: x)\n",
        "\n",
        "X_train_encoded_DT = vectorizer_DT.fit_transform(X_train_split_DT)\n",
        "X_test_encoded_DT = vectorizer_DT.transform(X_test_split_DT)\n",
        "\n",
        "df_train_encoded_DT = pd.DataFrame(X_train_encoded_DT.toarray(), columns=vectorizer_DT.get_feature_names_out())\n",
        "df_test_encoded_DT = pd.DataFrame(X_test_encoded_DT.toarray(), columns=vectorizer_DT.get_feature_names_out())\n",
        "\n",
        "print(df_train_encoded_DT)"
      ],
      "metadata": {
        "id": "kBQHIBjy221p",
        "colab": {
          "base_uri": "https://localhost:8080/"
        },
        "outputId": "f55ff0ba-6084-4c5c-c93f-b7f09547fcac"
      },
      "execution_count": null,
      "outputs": [
        {
          "output_type": "stream",
          "name": "stderr",
          "text": [
            "/usr/local/lib/python3.10/dist-packages/sklearn/feature_extraction/text.py:528: UserWarning: The parameter 'token_pattern' will not be used since 'tokenizer' is not None'\n",
            "  warnings.warn(\n"
          ]
        },
        {
          "output_type": "stream",
          "name": "stdout",
          "text": [
            "      a  aaron  aatp  aback  abandon  abandoned  abandoning  abandonment  \\\n",
            "0     0      0     0      0        0          0           0            0   \n",
            "1     2      0     0      0        0          0           0            0   \n",
            "2     0      0     0      0        0          0           0            0   \n",
            "3     0      0     0      0        0          0           0            0   \n",
            "4     1      0     0      0        0          0           0            0   \n",
            "...  ..    ...   ...    ...      ...        ...         ...          ...   \n",
            "7995  0      0     0      0        0          0           0            0   \n",
            "7996  0      0     0      0        0          0           0            0   \n",
            "7997  0      0     0      0        0          0           0            0   \n",
            "7998  0      0     0      0        0          0           0            0   \n",
            "7999  1      0     0      0        0          0           0            0   \n",
            "\n",
            "      abdominal  abe  ...  zingers  ziva  zombie  zone  zoom  zooming  zouk  \\\n",
            "0             0    0  ...        0     0       0     0     0        0     0   \n",
            "1             0    0  ...        0     0       0     0     0        0     0   \n",
            "2             0    0  ...        0     0       0     0     0        0     0   \n",
            "3             0    0  ...        0     0       0     0     0        0     0   \n",
            "4             0    0  ...        0     0       0     0     0        0     0   \n",
            "...         ...  ...  ...      ...   ...     ...   ...   ...      ...   ...   \n",
            "7995          0    0  ...        0     0       0     0     0        0     0   \n",
            "7996          0    0  ...        0     0       0     0     0        0     0   \n",
            "7997          0    0  ...        0     0       0     0     0        0     0   \n",
            "7998          0    0  ...        0     0       0     0     0        0     0   \n",
            "7999          0    0  ...        0     0       0     0     0        0     0   \n",
            "\n",
            "      zumba  zurich  zz  \n",
            "0         0       0   0  \n",
            "1         0       0   0  \n",
            "2         0       0   0  \n",
            "3         0       0   0  \n",
            "4         0       0   0  \n",
            "...     ...     ...  ..  \n",
            "7995      0       0   0  \n",
            "7996      0       0   0  \n",
            "7997      0       0   0  \n",
            "7998      0       0   0  \n",
            "7999      0       0   0  \n",
            "\n",
            "[8000 rows x 10445 columns]\n"
          ]
        }
      ]
    },
    {
      "cell_type": "code",
      "source": [
        "from sklearn.tree import DecisionTreeRegressor\n",
        "\n",
        "iowa_model = DecisionTreeRegressor(random_state=1)\n",
        "\n",
        "iowa_model.fit(df_train_encoded_DT, y_train_DT)"
      ],
      "metadata": {
        "id": "RKxtL9qs25jS",
        "colab": {
          "base_uri": "https://localhost:8080/",
          "height": 74
        },
        "outputId": "f75662a4-99c5-4233-8c8e-2f1ba5a6d04b"
      },
      "execution_count": null,
      "outputs": [
        {
          "output_type": "execute_result",
          "data": {
            "text/plain": [
              "DecisionTreeRegressor(random_state=1)"
            ],
            "text/html": [
              "<style>#sk-container-id-6 {color: black;background-color: white;}#sk-container-id-6 pre{padding: 0;}#sk-container-id-6 div.sk-toggleable {background-color: white;}#sk-container-id-6 label.sk-toggleable__label {cursor: pointer;display: block;width: 100%;margin-bottom: 0;padding: 0.3em;box-sizing: border-box;text-align: center;}#sk-container-id-6 label.sk-toggleable__label-arrow:before {content: \"▸\";float: left;margin-right: 0.25em;color: #696969;}#sk-container-id-6 label.sk-toggleable__label-arrow:hover:before {color: black;}#sk-container-id-6 div.sk-estimator:hover label.sk-toggleable__label-arrow:before {color: black;}#sk-container-id-6 div.sk-toggleable__content {max-height: 0;max-width: 0;overflow: hidden;text-align: left;background-color: #f0f8ff;}#sk-container-id-6 div.sk-toggleable__content pre {margin: 0.2em;color: black;border-radius: 0.25em;background-color: #f0f8ff;}#sk-container-id-6 input.sk-toggleable__control:checked~div.sk-toggleable__content {max-height: 200px;max-width: 100%;overflow: auto;}#sk-container-id-6 input.sk-toggleable__control:checked~label.sk-toggleable__label-arrow:before {content: \"▾\";}#sk-container-id-6 div.sk-estimator input.sk-toggleable__control:checked~label.sk-toggleable__label {background-color: #d4ebff;}#sk-container-id-6 div.sk-label input.sk-toggleable__control:checked~label.sk-toggleable__label {background-color: #d4ebff;}#sk-container-id-6 input.sk-hidden--visually {border: 0;clip: rect(1px 1px 1px 1px);clip: rect(1px, 1px, 1px, 1px);height: 1px;margin: -1px;overflow: hidden;padding: 0;position: absolute;width: 1px;}#sk-container-id-6 div.sk-estimator {font-family: monospace;background-color: #f0f8ff;border: 1px dotted black;border-radius: 0.25em;box-sizing: border-box;margin-bottom: 0.5em;}#sk-container-id-6 div.sk-estimator:hover {background-color: #d4ebff;}#sk-container-id-6 div.sk-parallel-item::after {content: \"\";width: 100%;border-bottom: 1px solid gray;flex-grow: 1;}#sk-container-id-6 div.sk-label:hover label.sk-toggleable__label {background-color: #d4ebff;}#sk-container-id-6 div.sk-serial::before {content: \"\";position: absolute;border-left: 1px solid gray;box-sizing: border-box;top: 0;bottom: 0;left: 50%;z-index: 0;}#sk-container-id-6 div.sk-serial {display: flex;flex-direction: column;align-items: center;background-color: white;padding-right: 0.2em;padding-left: 0.2em;position: relative;}#sk-container-id-6 div.sk-item {position: relative;z-index: 1;}#sk-container-id-6 div.sk-parallel {display: flex;align-items: stretch;justify-content: center;background-color: white;position: relative;}#sk-container-id-6 div.sk-item::before, #sk-container-id-6 div.sk-parallel-item::before {content: \"\";position: absolute;border-left: 1px solid gray;box-sizing: border-box;top: 0;bottom: 0;left: 50%;z-index: -1;}#sk-container-id-6 div.sk-parallel-item {display: flex;flex-direction: column;z-index: 1;position: relative;background-color: white;}#sk-container-id-6 div.sk-parallel-item:first-child::after {align-self: flex-end;width: 50%;}#sk-container-id-6 div.sk-parallel-item:last-child::after {align-self: flex-start;width: 50%;}#sk-container-id-6 div.sk-parallel-item:only-child::after {width: 0;}#sk-container-id-6 div.sk-dashed-wrapped {border: 1px dashed gray;margin: 0 0.4em 0.5em 0.4em;box-sizing: border-box;padding-bottom: 0.4em;background-color: white;}#sk-container-id-6 div.sk-label label {font-family: monospace;font-weight: bold;display: inline-block;line-height: 1.2em;}#sk-container-id-6 div.sk-label-container {text-align: center;}#sk-container-id-6 div.sk-container {/* jupyter's `normalize.less` sets `[hidden] { display: none; }` but bootstrap.min.css set `[hidden] { display: none !important; }` so we also need the `!important` here to be able to override the default hidden behavior on the sphinx rendered scikit-learn.org. See: https://github.com/scikit-learn/scikit-learn/issues/21755 */display: inline-block !important;position: relative;}#sk-container-id-6 div.sk-text-repr-fallback {display: none;}</style><div id=\"sk-container-id-6\" class=\"sk-top-container\"><div class=\"sk-text-repr-fallback\"><pre>DecisionTreeRegressor(random_state=1)</pre><b>In a Jupyter environment, please rerun this cell to show the HTML representation or trust the notebook. <br />On GitHub, the HTML representation is unable to render, please try loading this page with nbviewer.org.</b></div><div class=\"sk-container\" hidden><div class=\"sk-item\"><div class=\"sk-estimator sk-toggleable\"><input class=\"sk-toggleable__control sk-hidden--visually\" id=\"sk-estimator-id-6\" type=\"checkbox\" checked><label for=\"sk-estimator-id-6\" class=\"sk-toggleable__label sk-toggleable__label-arrow\">DecisionTreeRegressor</label><div class=\"sk-toggleable__content\"><pre>DecisionTreeRegressor(random_state=1)</pre></div></div></div></div></div>"
            ]
          },
          "metadata": {},
          "execution_count": 107
        }
      ]
    },
    {
      "cell_type": "code",
      "source": [
        "prediction_DT = iowa_model.predict(df_test_encoded_DT)\n",
        "print(prediction_DT)"
      ],
      "metadata": {
        "id": "asIvf8gs27Gk",
        "colab": {
          "base_uri": "https://localhost:8080/"
        },
        "outputId": "c8d3ad06-b10c-4952-db38-001f41450dc3"
      },
      "execution_count": null,
      "outputs": [
        {
          "output_type": "stream",
          "name": "stdout",
          "text": [
            "[0. 1. 0. ... 0. 0. 1.]\n"
          ]
        }
      ]
    },
    {
      "cell_type": "code",
      "source": [
        "from sklearn.metrics import mean_squared_error, r2_score\n",
        "\n",
        "mse_DT = mean_squared_error(y_test_DT, prediction_DT)\n",
        "print(\"Mean Squared Error:\", mse_DT)\n",
        "\n",
        "r2_DT = r2_score(y_test_DT, prediction_DT)\n",
        "print(\"R² score:\", r2_DT)"
      ],
      "metadata": {
        "id": "_vmM4-X-28kp",
        "colab": {
          "base_uri": "https://localhost:8080/"
        },
        "outputId": "57d36a98-32cc-443e-8f84-ac510f400a19"
      },
      "execution_count": null,
      "outputs": [
        {
          "output_type": "stream",
          "name": "stdout",
          "text": [
            "Mean Squared Error: 0.7453726863431716\n",
            "R² score: 0.6579414171662874\n"
          ]
        }
      ]
    },
    {
      "cell_type": "markdown",
      "source": [
        "# Partie 6 : Prétraitement Tfidf (avec ou sans stop words) et NLP\n",
        "\n",
        "TF-IDF (df4)\n"
      ],
      "metadata": {
        "id": "ZjKD4CAd2_Mj"
      }
    },
    {
      "cell_type": "code",
      "source": [
        "X=df5.text.head(30000)\n",
        "X.shape"
      ],
      "metadata": {
        "id": "Wa9vKnsr-wki",
        "colab": {
          "base_uri": "https://localhost:8080/"
        },
        "outputId": "ad430cb4-2965-4cda-b511-bec7a01796e0"
      },
      "execution_count": null,
      "outputs": [
        {
          "output_type": "execute_result",
          "data": {
            "text/plain": [
              "(19679,)"
            ]
          },
          "metadata": {},
          "execution_count": 8
        }
      ]
    },
    {
      "cell_type": "markdown",
      "source": [
        "Sans supprimer les stop-words"
      ],
      "metadata": {
        "id": "tVBQ-8WG3LWK"
      }
    },
    {
      "cell_type": "code",
      "source": [
        "from sklearn.feature_extraction.text import TfidfVectorizer\n",
        "\n",
        "vectorizer_TF = TfidfVectorizer()\n",
        "\n",
        "X_vec = vectorizer_TF.fit_transform(X)\n",
        "X_vec.shape"
      ],
      "metadata": {
        "id": "TeL-ePvV2-k5",
        "colab": {
          "base_uri": "https://localhost:8080/"
        },
        "outputId": "e8627ae1-2c72-4578-f6e6-5afb0a9bf40f"
      },
      "execution_count": null,
      "outputs": [
        {
          "output_type": "execute_result",
          "data": {
            "text/plain": [
              "(19679, 16937)"
            ]
          },
          "metadata": {},
          "execution_count": 9
        }
      ]
    },
    {
      "cell_type": "markdown",
      "source": [
        "Avec suppression des stop-words"
      ],
      "metadata": {
        "id": "U-Slr3U_3U5o"
      }
    },
    {
      "cell_type": "code",
      "source": [
        "from sklearn.feature_extraction.text import TfidfVectorizer\n",
        "\n",
        "vectorizer_TF = TfidfVectorizer(stop_words='english')\n",
        "\n",
        "X_vec = vectorizer_TF.fit_transform(X)\n",
        "X_vec"
      ],
      "metadata": {
        "id": "l-UL-ec-3T0e",
        "colab": {
          "base_uri": "https://localhost:8080/"
        },
        "outputId": "e5670038-3274-48f7-e4f5-55fbf92fb498"
      },
      "execution_count": null,
      "outputs": [
        {
          "output_type": "execute_result",
          "data": {
            "text/plain": [
              "<30000x20829 sparse matrix of type '<class 'numpy.float64'>'\n",
              "\twith 244670 stored elements in Compressed Sparse Row format>"
            ]
          },
          "metadata": {},
          "execution_count": 112
        }
      ]
    },
    {
      "cell_type": "markdown",
      "source": [
        "Suite dans les 2 cas"
      ],
      "metadata": {
        "id": "bDQIhn5A-cyJ"
      }
    },
    {
      "cell_type": "code",
      "source": [
        "import pandas as pd\n",
        "df_vec_TF = pd.DataFrame(X_vec.toarray(), columns=vectorizer_TF.get_feature_names_out())\n",
        "print(df_vec_TF.shape)"
      ],
      "metadata": {
        "id": "HGNIFmtG3dhb",
        "colab": {
          "base_uri": "https://localhost:8080/"
        },
        "outputId": "37e02dfd-827b-4e1e-93c3-f618387f1931"
      },
      "execution_count": null,
      "outputs": [
        {
          "output_type": "stream",
          "name": "stdout",
          "text": [
            "(19679, 16937)\n"
          ]
        }
      ]
    },
    {
      "cell_type": "code",
      "source": [
        "import numpy as np\n",
        "import tensorflow as tf\n",
        "tf.__version__\n",
        "from tensorflow.keras.models import Sequential\n",
        "from tensorflow.keras.layers import Dense, Flatten\n",
        "from tensorflow.keras.datasets import mnist\n",
        "from tensorflow.keras.utils import to_categorical\n",
        "\n",
        "X_train_TF = df_vec_TF[:24000].iloc[:, :].values\n",
        "y_train_TF = df5[:24000].iloc[:, -1].values\n",
        "\n",
        "X_test_TF = df_vec_TF[24001:30000].iloc[:, :].values\n",
        "y_test_TF = df5[24001:30000].iloc[:, -1].values\n",
        "\n",
        "y_train_one_hot_TF = to_categorical(y_train_TF, num_classes=6)\n",
        "y_test_one_hot_TF = to_categorical(y_test_TF, num_classes=6)"
      ],
      "metadata": {
        "id": "tzCmkC0V3hOH",
        "colab": {
          "base_uri": "https://localhost:8080/",
          "height": 369
        },
        "outputId": "7ef214a8-632c-427a-f929-e869abc45e6a"
      },
      "execution_count": null,
      "outputs": [
        {
          "output_type": "stream",
          "name": "stderr",
          "text": [
            "/usr/local/lib/python3.10/dist-packages/keras/src/utils/np_utils.py:62: RuntimeWarning: invalid value encountered in cast\n",
            "  y = np.array(y, dtype=\"int\")\n"
          ]
        },
        {
          "output_type": "error",
          "ename": "IndexError",
          "evalue": "index -9223372036854775808 is out of bounds for axis 1 with size 6",
          "traceback": [
            "\u001b[0;31m---------------------------------------------------------------------------\u001b[0m",
            "\u001b[0;31mIndexError\u001b[0m                                Traceback (most recent call last)",
            "\u001b[0;32m<ipython-input-11-3b1bf74cc6f3>\u001b[0m in \u001b[0;36m<cell line: 15>\u001b[0;34m()\u001b[0m\n\u001b[1;32m     13\u001b[0m \u001b[0my_test_TF\u001b[0m \u001b[0;34m=\u001b[0m \u001b[0mdf5\u001b[0m\u001b[0;34m[\u001b[0m\u001b[0;36m24001\u001b[0m\u001b[0;34m:\u001b[0m\u001b[0;36m30000\u001b[0m\u001b[0;34m]\u001b[0m\u001b[0;34m.\u001b[0m\u001b[0miloc\u001b[0m\u001b[0;34m[\u001b[0m\u001b[0;34m:\u001b[0m\u001b[0;34m,\u001b[0m \u001b[0;34m-\u001b[0m\u001b[0;36m1\u001b[0m\u001b[0;34m]\u001b[0m\u001b[0;34m.\u001b[0m\u001b[0mvalues\u001b[0m\u001b[0;34m\u001b[0m\u001b[0;34m\u001b[0m\u001b[0m\n\u001b[1;32m     14\u001b[0m \u001b[0;34m\u001b[0m\u001b[0m\n\u001b[0;32m---> 15\u001b[0;31m \u001b[0my_train_one_hot_TF\u001b[0m \u001b[0;34m=\u001b[0m \u001b[0mto_categorical\u001b[0m\u001b[0;34m(\u001b[0m\u001b[0my_train_TF\u001b[0m\u001b[0;34m,\u001b[0m \u001b[0mnum_classes\u001b[0m\u001b[0;34m=\u001b[0m\u001b[0;36m6\u001b[0m\u001b[0;34m)\u001b[0m\u001b[0;34m\u001b[0m\u001b[0;34m\u001b[0m\u001b[0m\n\u001b[0m\u001b[1;32m     16\u001b[0m \u001b[0my_test_one_hot_TF\u001b[0m \u001b[0;34m=\u001b[0m \u001b[0mto_categorical\u001b[0m\u001b[0;34m(\u001b[0m\u001b[0my_test_TF\u001b[0m\u001b[0;34m,\u001b[0m \u001b[0mnum_classes\u001b[0m\u001b[0;34m=\u001b[0m\u001b[0;36m6\u001b[0m\u001b[0;34m)\u001b[0m\u001b[0;34m\u001b[0m\u001b[0;34m\u001b[0m\u001b[0m\n",
            "\u001b[0;32m/usr/local/lib/python3.10/dist-packages/keras/src/utils/np_utils.py\u001b[0m in \u001b[0;36mto_categorical\u001b[0;34m(y, num_classes, dtype)\u001b[0m\n\u001b[1;32m     72\u001b[0m     \u001b[0mn\u001b[0m \u001b[0;34m=\u001b[0m \u001b[0my\u001b[0m\u001b[0;34m.\u001b[0m\u001b[0mshape\u001b[0m\u001b[0;34m[\u001b[0m\u001b[0;36m0\u001b[0m\u001b[0;34m]\u001b[0m\u001b[0;34m\u001b[0m\u001b[0;34m\u001b[0m\u001b[0m\n\u001b[1;32m     73\u001b[0m     \u001b[0mcategorical\u001b[0m \u001b[0;34m=\u001b[0m \u001b[0mnp\u001b[0m\u001b[0;34m.\u001b[0m\u001b[0mzeros\u001b[0m\u001b[0;34m(\u001b[0m\u001b[0;34m(\u001b[0m\u001b[0mn\u001b[0m\u001b[0;34m,\u001b[0m \u001b[0mnum_classes\u001b[0m\u001b[0;34m)\u001b[0m\u001b[0;34m,\u001b[0m \u001b[0mdtype\u001b[0m\u001b[0;34m=\u001b[0m\u001b[0mdtype\u001b[0m\u001b[0;34m)\u001b[0m\u001b[0;34m\u001b[0m\u001b[0;34m\u001b[0m\u001b[0m\n\u001b[0;32m---> 74\u001b[0;31m     \u001b[0mcategorical\u001b[0m\u001b[0;34m[\u001b[0m\u001b[0mnp\u001b[0m\u001b[0;34m.\u001b[0m\u001b[0marange\u001b[0m\u001b[0;34m(\u001b[0m\u001b[0mn\u001b[0m\u001b[0;34m)\u001b[0m\u001b[0;34m,\u001b[0m \u001b[0my\u001b[0m\u001b[0;34m]\u001b[0m \u001b[0;34m=\u001b[0m \u001b[0;36m1\u001b[0m\u001b[0;34m\u001b[0m\u001b[0;34m\u001b[0m\u001b[0m\n\u001b[0m\u001b[1;32m     75\u001b[0m     \u001b[0moutput_shape\u001b[0m \u001b[0;34m=\u001b[0m \u001b[0minput_shape\u001b[0m \u001b[0;34m+\u001b[0m \u001b[0;34m(\u001b[0m\u001b[0mnum_classes\u001b[0m\u001b[0;34m,\u001b[0m\u001b[0;34m)\u001b[0m\u001b[0;34m\u001b[0m\u001b[0;34m\u001b[0m\u001b[0m\n\u001b[1;32m     76\u001b[0m     \u001b[0mcategorical\u001b[0m \u001b[0;34m=\u001b[0m \u001b[0mnp\u001b[0m\u001b[0;34m.\u001b[0m\u001b[0mreshape\u001b[0m\u001b[0;34m(\u001b[0m\u001b[0mcategorical\u001b[0m\u001b[0;34m,\u001b[0m \u001b[0moutput_shape\u001b[0m\u001b[0;34m)\u001b[0m\u001b[0;34m\u001b[0m\u001b[0;34m\u001b[0m\u001b[0m\n",
            "\u001b[0;31mIndexError\u001b[0m: index -9223372036854775808 is out of bounds for axis 1 with size 6"
          ]
        }
      ]
    },
    {
      "cell_type": "code",
      "source": [
        "model_TF = Sequential([\n",
        "    Flatten(),\n",
        "    Dense(128, activation='relu'),\n",
        "    Dense(64, activation='relu'),\n",
        "    Dense(6, activation='softmax')\n",
        "])\n",
        "\n",
        "model_TF.compile(optimizer='adam',\n",
        "              loss='categorical_crossentropy',\n",
        "              metrics=['accuracy'])\n",
        "\n",
        "model_TF.fit(X_train_TF, y_train_one_hot_TF, epochs=5, batch_size=32)\n"
      ],
      "metadata": {
        "id": "S4vLbumP3lFj",
        "colab": {
          "base_uri": "https://localhost:8080/"
        },
        "outputId": "11969f23-7031-4d02-d29f-4c9e5f872d7e"
      },
      "execution_count": null,
      "outputs": [
        {
          "output_type": "stream",
          "name": "stdout",
          "text": [
            "Epoch 1/5\n",
            "750/750 [==============================] - 10s 12ms/step - loss: 0.6901 - accuracy: 0.7544\n",
            "Epoch 2/5\n",
            "750/750 [==============================] - 9s 12ms/step - loss: 0.1474 - accuracy: 0.9467\n",
            "Epoch 3/5\n",
            "750/750 [==============================] - 9s 12ms/step - loss: 0.0731 - accuracy: 0.9746\n",
            "Epoch 4/5\n",
            "750/750 [==============================] - 9s 12ms/step - loss: 0.0498 - accuracy: 0.9831\n",
            "Epoch 5/5\n",
            "750/750 [==============================] - 9s 12ms/step - loss: 0.0377 - accuracy: 0.9862\n"
          ]
        },
        {
          "output_type": "execute_result",
          "data": {
            "text/plain": [
              "<keras.src.callbacks.History at 0x7da44a049330>"
            ]
          },
          "metadata": {},
          "execution_count": 115
        }
      ]
    },
    {
      "cell_type": "code",
      "source": [
        "test_loss_TF, test_acc_TF = model_TF.evaluate(X_test_TF , y_test_one_hot_TF, batch_size=32)\n",
        "\n",
        "print(f'Test accuracy: {test_acc_TF}')"
      ],
      "metadata": {
        "id": "gapj4YtN3muL",
        "colab": {
          "base_uri": "https://localhost:8080/"
        },
        "outputId": "18858309-b81c-4086-df3e-9b54a15dd75a"
      },
      "execution_count": null,
      "outputs": [
        {
          "output_type": "stream",
          "name": "stdout",
          "text": [
            "188/188 [==============================] - 1s 4ms/step - loss: 0.4610 - accuracy: 0.8618\n",
            "Test accuracy: 0.8618103265762329\n"
          ]
        }
      ]
    },
    {
      "cell_type": "code",
      "source": [
        "def transf_TF(text, vectorizer):\n",
        "    texte_vect = vectorizer_TF.transform([text])\n",
        "    return texte_vect.toarray()"
      ],
      "metadata": {
        "id": "ok4Ycbb-3oTa"
      },
      "execution_count": null,
      "outputs": []
    },
    {
      "cell_type": "code",
      "source": [
        "prediction_TF = model_TF.predict(transf_TF('i feel frightened like something is ending',vectorizer_TF))\n",
        "print(prediction_TF)\n",
        "classe_predite_TF = np.argmax(prediction_TF, axis=1)\n",
        "print(classe_predite_TF)"
      ],
      "metadata": {
        "id": "_pFOHcy83p4c",
        "colab": {
          "base_uri": "https://localhost:8080/"
        },
        "outputId": "6858bc68-f73b-493e-b4ea-cc441da67b7d"
      },
      "execution_count": null,
      "outputs": [
        {
          "output_type": "stream",
          "name": "stdout",
          "text": [
            "1/1 [==============================] - 0s 90ms/step\n",
            "[[1.8396782e-05 6.3663089e-07 8.3542211e-08 8.0155297e-07 9.9990535e-01\n",
            "  7.4711745e-05]]\n",
            "[4]\n"
          ]
        }
      ]
    },
    {
      "cell_type": "markdown",
      "source": [
        "Anti over-fitting (à mettre après le modele compil à la place de modele fit)"
      ],
      "metadata": {
        "id": "erbdnAmw_ajK"
      }
    },
    {
      "cell_type": "code",
      "source": [
        "from keras.callbacks import EarlyStopping\n",
        "\n",
        "early_stopping = EarlyStopping(\n",
        "    monitor='val_loss',  # La métrique à surveiller\n",
        "    patience=3,          # Nombre d'époques sans amélioration après lesquelles l'entraînement sera stoppé\n",
        "    restore_best_weights=True\n",
        ")\n",
        "\n",
        "history = model_TF.fit(\n",
        "    X_train_TF, y_train_one_hot_TF,\n",
        "    validation_data=(X_test_TF, y_test_one_hot_TF),\n",
        "    epochs=100,\n",
        "    batch_size=32,\n",
        "    callbacks=[early_stopping]  # Utilisation de la fonction de callback EarlyStopping\n",
        ")"
      ],
      "metadata": {
        "colab": {
          "base_uri": "https://localhost:8080/"
        },
        "id": "tTq2-my7ZOIZ",
        "outputId": "86f69510-3b1d-4562-d4d4-019c469d5769"
      },
      "execution_count": null,
      "outputs": [
        {
          "output_type": "stream",
          "name": "stdout",
          "text": [
            "Epoch 1/100\n",
            "750/750 [==============================] - 11s 14ms/step - loss: 0.0303 - accuracy: 0.9885 - val_loss: 0.5179 - val_accuracy: 0.8533\n",
            "Epoch 2/100\n",
            "750/750 [==============================] - 10s 13ms/step - loss: 0.0274 - accuracy: 0.9893 - val_loss: 0.5398 - val_accuracy: 0.8540\n",
            "Epoch 3/100\n",
            "750/750 [==============================] - 10s 13ms/step - loss: 0.0235 - accuracy: 0.9901 - val_loss: 0.6107 - val_accuracy: 0.8493\n",
            "Epoch 4/100\n",
            "750/750 [==============================] - 10s 13ms/step - loss: 0.0224 - accuracy: 0.9903 - val_loss: 0.6112 - val_accuracy: 0.8488\n"
          ]
        }
      ]
    },
    {
      "cell_type": "code",
      "source": [
        "test_loss_TF, test_acc_TF = model_TF.evaluate(X_test_TF , y_test_one_hot_TF, batch_size=32)\n",
        "\n",
        "print(f'Test accuracy: {test_acc_TF}')"
      ],
      "metadata": {
        "colab": {
          "base_uri": "https://localhost:8080/"
        },
        "id": "rYahuIlgZtL3",
        "outputId": "f3e7afac-f6cd-4611-97a4-2a5bf780b967"
      },
      "execution_count": null,
      "outputs": [
        {
          "output_type": "stream",
          "name": "stdout",
          "text": [
            "188/188 [==============================] - 1s 4ms/step - loss: 0.5179 - accuracy: 0.8533\n",
            "Test accuracy: 0.8533088564872742\n"
          ]
        }
      ]
    },
    {
      "cell_type": "markdown",
      "source": [
        "\n",
        "\n",
        "PARTIE 7 : COMPARAISON ET CHOIX DU MODELE\n",
        "\n",
        "La diversité de nos modèles et leurs différences de formats de données d'entrée fait qu'ils ne sont pas directement tous comparables par des caractéristiques communes ( modèles de classification / modèles de régression ).\n",
        "\n",
        "\n",
        "\n",
        "\n",
        "\n"
      ],
      "metadata": {
        "id": "3pqKbRA9zQok"
      }
    },
    {
      "cell_type": "code",
      "source": [
        "# @title Comparaison des modèles de classification\n",
        "# Création du tableau de comparaison avec un titre commun\n",
        "fig, ax = plt.subplots(1, 2, figsize=(14, 6))\n",
        "\n",
        "# Ajout d'un titre commun\n",
        "fig.suptitle('Comparaison des modèles NLP', fontsize=16)\n",
        "\n",
        "# Graphique pour la précision\n",
        "ax[0].bar(model_names, accuracies, color=['blue', 'green', 'red'])\n",
        "ax[0].set_title('Précision')\n",
        "ax[0].set_ylabel('Précision')\n",
        "ax[0].set_ylim(0, 1)\n",
        "\n",
        "# Graphique pour la perte\n",
        "ax[1].bar(model_names, losses, color=['blue', 'green', 'red'])\n",
        "ax[1].set_title('Perte')\n",
        "ax[1].set_ylabel('Perte')\n",
        "ax[1].set_ylim(0, max(losses) + 0.1)\n",
        "\n",
        "plt.tight_layout(rect=[0, 0.03, 1, 0.95])  # Ajuste l'espace pour le titre principal\n",
        "plt.show()\n"
      ],
      "metadata": {
        "colab": {
          "base_uri": "https://localhost:8080/",
          "height": 371
        },
        "cellView": "form",
        "id": "kG64DZYkLBpI",
        "outputId": "94fd6f6f-a170-49b1-db7d-d29cedd73c1b"
      },
      "execution_count": null,
      "outputs": [
        {
          "output_type": "display_data",
          "data": {
            "text/plain": [
              "<Figure size 1400x600 with 2 Axes>"
            ],
            "image/png": "[encoded data removed]"
          },
          "metadata": {}
        }
      ]
    },
    {
      "cell_type": "markdown",
      "source": [
        "Ces résultats suggèrent que, pour cette tâche spécifique de classification de textes, les techniques de prétraitement tfIdf et BOW sont préférables à l'approche Word Embedding, du moins dans le contexte des architectures de modèles testées. Le succès de **tfIdf** pourrait être attribué à sa capacité à souligner l'importance relative des mots dans le contexte de l'ensemble du jeu de données, offrant ainsi une meilleure distinction entre les catégories.\n"
      ],
      "metadata": {
        "id": "DI7d_vpLOPXP"
      }
    },
    {
      "cell_type": "code",
      "source": [
        "\n",
        "# Données des modèles de régression\n",
        "model_names_regression = ['CountVectorizer/Random Forest', 'CountVectorizer/Decision Tree']\n",
        "mse_values = [0.711, 0.745]  # Erreur quadratique moyenne pour chaque modèle\n",
        "r2_values = [0.67, 0.658]  # Score R² pour chaque modèle\n",
        "\n",
        "# Création du graphique de comparaison pour les modèles de régression\n",
        "fig, ax1 = plt.subplots(figsize=(10, 6))\n",
        "\n",
        "# Configuration du premier axe pour MSE\n",
        "ax1.set_title('Comparaison des modèles de régression', fontsize=16)\n",
        "ax1.set_xlabel('Modèle', fontsize=14)\n",
        "ax1.set_ylabel('MSE (Erreur Quadratique Moyenne)', fontsize=14, color='tab:red')\n",
        "ax1.bar(model_names_regression, mse_values, color='tab:red', alpha=0.6, label='MSE')\n",
        "ax1.tick_params(axis='y', labelcolor='tab:red')\n",
        "\n",
        "# Ajout d'un second axe pour le score R²\n",
        "ax2 = ax1.twinx()\n",
        "ax2.set_ylabel('Score R²', fontsize=14, color='tab:blue')\n",
        "ax2.plot(model_names_regression, r2_values, color='tab:blue', marker='o', label='Score R²')\n",
        "ax2.tick_params(axis='y', labelcolor='tab:blue')\n",
        "\n",
        "fig.tight_layout()\n",
        "plt.show()\n"
      ],
      "metadata": {
        "colab": {
          "base_uri": "https://localhost:8080/",
          "height": 627
        },
        "id": "JLWIYrvCQCO7",
        "outputId": "9b0b827d-ca28-481b-bb38-0ac21d60776c"
      },
      "execution_count": null,
      "outputs": [
        {
          "output_type": "display_data",
          "data": {
            "text/plain": [
              "<Figure size 1000x600 with 2 Axes>"
            ],
            "image/png": "[encoded data removed]"
          },
          "metadata": {}
        }
      ]
    },
    {
      "cell_type": "markdown",
      "source": [
        "Erreur Quadratique Moyenne (MSE) : Le modèle Random Forest a enregistré un MSE légèrement inférieur (0.711) par rapport à l'arbre de décision (0.745), indiquant qu'en moyenne, les prédictions du modèle Random Forest sont plus proches des valeurs réelles.\n",
        "\n",
        "Score R² : Le score R² du modèle Random Forest est de 0.67, tandis que celui de l'arbre de décision est de 0.658. Bien que les deux modèles affichent des performances relativement similaires en termes de R², le modèle Random Forest a légèrement mieux performé, ce qui suggère qu'il explique une plus grande proportion de la variance dans les données par rapport à l'arbre de décision.\n",
        "\n",
        "Ces résultats montrent que, pour des tâches de régression sur des données textuelles prétraitées avec CountVectorizer, le modèle Random Forest tend à offrir de meilleures performances que l'arbre de décision, bien que la différence ne soit pas énorme. La supériorité relative du Random Forest peut être attribuée à sa capacité à construire un modèle plus généralisé en combinant les prédictions de nombreux arbres de décision, réduisant ainsi le risque de surajustement associé aux arbres de décision individuels."
      ],
      "metadata": {
        "id": "LZQgNuSMSCon"
      }
    },
    {
      "cell_type": "markdown",
      "source": [
        "CONCLUSION\n",
        "\n"
      ],
      "metadata": {
        "id": "n9kjgbrsStRt"
      }
    },
    {
      "cell_type": "markdown",
      "source": [
        "En conclusion , dans notre cas le modèle NLP avec un pré-traitement TfIdf est le meilleur dans la catégorie classification et le Random Forest pour la regression linéaire. Aussi dans notre cas, le modèle NLP est celui qui nous permet d'obtenir les meilleurs résultats malgré que le Random Forest soit plus rapide en entrainement."
      ],
      "metadata": {
        "id": "U99Mb2wRTDwZ"
      }
    }
  ]
}